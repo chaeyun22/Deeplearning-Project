{
  "nbformat": 4,
  "nbformat_minor": 0,
  "metadata": {
    "colab": {
      "provenance": [],
      "gpuType": "T4",
      "authorship_tag": "ABX9TyP6NAiRIQJyyiTKfkXrMSa/",
      "include_colab_link": true
    },
    "kernelspec": {
      "name": "python3",
      "display_name": "Python 3"
    },
    "language_info": {
      "name": "python"
    },
    "accelerator": "GPU"
  },
  "cells": [
    {
      "cell_type": "markdown",
      "metadata": {
        "id": "view-in-github",
        "colab_type": "text"
      },
      "source": [
        "<a href=\"https://colab.research.google.com/github/chaeyun22/Deeplearning-Project/blob/main/EfficientNet.ipynb\" target=\"_parent\"><img src=\"https://colab.research.google.com/assets/colab-badge.svg\" alt=\"Open In Colab\"/></a>"
      ]
    },
    {
      "cell_type": "code",
      "source": [
        "from google.colab import drive\n",
        "drive.mount('/content/drive')"
      ],
      "metadata": {
        "colab": {
          "base_uri": "https://localhost:8080/"
        },
        "id": "6e6zmEfbS21M",
        "outputId": "2f23e879-01f9-4ba2-d70e-471526548732"
      },
      "execution_count": null,
      "outputs": [
        {
          "output_type": "stream",
          "name": "stdout",
          "text": [
            "Mounted at /content/drive\n"
          ]
        }
      ]
    },
    {
      "cell_type": "code",
      "source": [
        "from __future__ import print_function\n",
        "from __future__ import division\n",
        "import torch\n",
        "import torch.nn as nn\n",
        "import torch.optim as optim\n",
        "\n",
        "import numpy as np\n",
        "import torchvision\n",
        "from torchvision import datasets, models, transforms\n",
        "import matplotlib.pyplot as plt\n",
        "import time\n",
        "import os\n",
        "import copy\n",
        "print(\"PyTorch Version: \",torch.__version__)\n",
        "print(\"Torchvision Version: \",torchvision.__version__)"
      ],
      "metadata": {
        "colab": {
          "base_uri": "https://localhost:8080/"
        },
        "id": "h-QUYTPjS26c",
        "outputId": "3f715149-1aec-4c31-e525-5f14e93cbd5b"
      },
      "execution_count": null,
      "outputs": [
        {
          "output_type": "stream",
          "name": "stdout",
          "text": [
            "PyTorch Version:  2.0.1+cu118\n",
            "Torchvision Version:  0.15.2+cu118\n"
          ]
        }
      ]
    },
    {
      "cell_type": "markdown",
      "source": [
        "## 데이터 전처리"
      ],
      "metadata": {
        "id": "oYaq5GGCuBEk"
      }
    },
    {
      "cell_type": "code",
      "source": [
        "# train, valid, test로 분리\n",
        "import os\n",
        "import torch\n",
        "import torchvision\n",
        "import torchvision.transforms as transforms\n",
        "from torch.utils.data import Subset, DataLoader\n",
        "import random\n",
        "\n",
        "# 데이터셋 디렉토리 경로\n",
        "dataset_dir = '/content/drive/MyDrive/garbage_images'\n",
        "\n",
        "# 클래스 레이블과 해당 폴더의 이미지 경로 가져오기\n",
        "class_labels = ['cardboard', 'glass', 'metal', 'paper', 'plastic', 'trash']\n",
        "image_paths = []\n",
        "\n",
        "for label in class_labels:\n",
        "    folder_path = os.path.join(dataset_dir, label)\n",
        "    images = os.listdir(folder_path)\n",
        "    images = [os.path.join(folder_path, image) for image in images]\n",
        "    image_paths.extend(images)\n",
        "\n",
        "# 전처리된 이미지 데이터와 클래스 레이블을 Tensor로 변환\n",
        "transform = transforms.Compose([\n",
        "    transforms.Resize((224, 224)),\n",
        "    transforms.ToTensor(),\n",
        "    transforms.Normalize(mean=[0.485, 0.456, 0.406], std=[0.229, 0.224, 0.225])\n",
        "])\n",
        "\n",
        "# 전체 데이터셋을 로드\n",
        "dataset = torchvision.datasets.ImageFolder(dataset_dir, transform=transform)\n",
        "\n",
        "# 데이터셋을 train, test, valid로 나누기 위해 인덱스 생성\n",
        "num_data = len(dataset)\n",
        "indices = list(range(num_data))\n",
        "\n",
        "split_ratio = [0.6, 0.2, 0.2]  # train, test, valid 데이터셋의 비율\n",
        "\n",
        "random.shuffle(indices)  # 인덱스를 무작위로 섞음\n",
        "\n",
        "train_split = int(num_data * split_ratio[0])\n",
        "test_split = int(num_data * (split_ratio[0] + split_ratio[1]))\n",
        "\n",
        "train_indices = indices[:train_split]\n",
        "test_indices = indices[train_split:test_split]\n",
        "valid_indices = indices[test_split:]\n",
        "\n",
        "# Subset을 사용하여 train, test, valid 데이터셋 생성\n",
        "train_dataset = Subset(dataset, train_indices)\n",
        "test_dataset = Subset(dataset, test_indices)\n",
        "valid_dataset = Subset(dataset, valid_indices)\n",
        "\n",
        "# 데이터로더 생성\n",
        "batch_size = 32\n",
        "train_loader = DataLoader(train_dataset, batch_size=batch_size, shuffle=True)\n",
        "test_loader = DataLoader(test_dataset, batch_size=batch_size, shuffle=False)\n",
        "valid_loader = DataLoader(valid_dataset, batch_size=batch_size, shuffle=False)"
      ],
      "metadata": {
        "id": "iWIJwAtRS2_7"
      },
      "execution_count": null,
      "outputs": []
    },
    {
      "cell_type": "code",
      "source": [
        "# 데이터 확인\n",
        "import torchvision\n",
        "def imshow(inp, title=None):\n",
        "    \"\"\"Imshow for Tensor.\"\"\"\n",
        "    inp = inp.numpy().transpose((1, 2, 0))\n",
        "    mean = np.array([0.485, 0.456, 0.406])\n",
        "    std = np.array([0.229, 0.224, 0.225])\n",
        "    inp = std * inp + mean\n",
        "    inp = np.clip(inp, 0, 1)\n",
        "    plt.imshow(inp)\n",
        "    if title is not None:\n",
        "        plt.title(title)\n",
        "    plt.pause(0.001)  # pause a bit so that plots are updated\n",
        "\n",
        "num_show_img = 5\n",
        "\n",
        "class_names = {\n",
        "    \"0\": \"cardboard\",\n",
        "    \"1\": \"glass\",\n",
        "    \"2\": \"metal\",\n",
        "    \"3\": \"paper\",\n",
        "    \"4\": \"plastic\",\n",
        "    \"5\": \"trash\",\n",
        "}\n",
        "\n",
        "# train check\n",
        "inputs, classes = next(iter(train_loader))\n",
        "out = torchvision.utils.make_grid(inputs[:num_show_img])  # batch의 이미지를 오려부친다\n",
        "imshow(out, title=[class_names[str(int(x))] for x in classes[:num_show_img]])\n",
        "# valid check\n",
        "inputs, classes = next(iter(valid_loader))\n",
        "out = torchvision.utils.make_grid(inputs[:num_show_img])  # batch의 이미지를 오려부친다\n",
        "imshow(out, title=[class_names[str(int(x))] for x in classes[:num_show_img]])\n",
        "# test check\n",
        "inputs, classes = next(iter(test_loader))\n",
        "out = torchvision.utils.make_grid(inputs[:num_show_img])  # batch의 이미지를 오려부친다\n",
        "imshow(out, title=[class_names[str(int(x))] for x in classes[:num_show_img]])"
      ],
      "metadata": {
        "colab": {
          "base_uri": "https://localhost:8080/",
          "height": 512
        },
        "id": "RFvaja_zXBjE",
        "outputId": "fe696a9d-9eec-4ed7-fa25-24a0395deb04"
      },
      "execution_count": null,
      "outputs": [
        {
          "output_type": "display_data",
          "data": {
            "text/plain": [
              "<Figure size 640x480 with 1 Axes>"
            ],
            "image/png": "[encoded data removed]"
          },
          "metadata": {}
        },
        {
          "output_type": "display_data",
          "data": {
            "text/plain": [
              "<Figure size 640x480 with 1 Axes>"
            ],
            "image/png": "[encoded data removed]"
          },
          "metadata": {}
        },
        {
          "output_type": "display_data",
          "data": {
            "text/plain": [
              "<Figure size 640x480 with 1 Axes>"
            ],
            "image/png": "[encoded data removed]"
          },
          "metadata": {}
        }
      ]
    },
    {
      "cell_type": "code",
      "source": [
        "# 모델 학습 함수\n",
        "def train(model, train_loader, criterion, optimizer):\n",
        "    model.train()\n",
        "    train_loss = 0.0\n",
        "    correct = 0\n",
        "    total = 0\n",
        "\n",
        "    for images, labels in train_loader:\n",
        "        images = images.cuda()\n",
        "        labels = labels.cuda()\n",
        "\n",
        "        optimizer.zero_grad()\n",
        "        outputs = model(images)\n",
        "        loss = criterion(outputs, labels)\n",
        "        loss.backward()\n",
        "        optimizer.step()\n",
        "\n",
        "        train_loss += loss.item()\n",
        "        _, predicted = outputs.max(1)\n",
        "        total += labels.size(0)\n",
        "        correct += predicted.eq(labels).sum().item()\n",
        "\n",
        "    train_loss /= len(train_loader)\n",
        "    train_acc = correct / total\n",
        "\n",
        "    return train_loss, train_acc\n",
        "\n",
        "# 모델 평가 함수\n",
        "def evaluate(model, data_loader, criterion):\n",
        "    model.eval()\n",
        "    eval_loss = 0.0\n",
        "    correct = 0\n",
        "    total = 0\n",
        "\n",
        "    with torch.no_grad():\n",
        "        for images, labels in data_loader:\n",
        "            images = images.cuda()\n",
        "            labels = labels.cuda()\n",
        "\n",
        "            outputs = model(images)\n",
        "            loss = criterion(outputs, labels)\n",
        "\n",
        "            eval_loss += loss.item()\n",
        "            _, predicted = outputs.max(1)\n",
        "            total += labels.size(0)\n",
        "            correct += predicted.eq(labels).sum().item()\n",
        "\n",
        "    eval_loss /= len(data_loader)\n",
        "    eval_acc = correct / total\n",
        "\n",
        "    return eval_loss, eval_acc"
      ],
      "metadata": {
        "id": "zsxr9g7LS3Es"
      },
      "execution_count": null,
      "outputs": []
    },
    {
      "cell_type": "markdown",
      "source": [
        "## Fine tuning"
      ],
      "metadata": {
        "id": "zPliguFon6qV"
      }
    },
    {
      "cell_type": "code",
      "source": [
        "import torch\n",
        "import torch.nn as nn\n",
        "import torch.optim as optim\n",
        "from torchvision.models import efficientnet_b0\n",
        "import matplotlib.pyplot as plt\n",
        "\n",
        "# EfficientNet 모델 불러오기\n",
        "model = efficientnet_b0(pretrained=True)\n",
        "num_classes = len(class_labels)\n",
        "num_features = model.classifier[1].in_features\n",
        "model.classifier[1] = nn.Linear(num_features, num_classes)\n",
        "\n",
        "# fine tuning\n",
        "for param in model.parameters():\n",
        "    param.requires_grad = True\n",
        "\n",
        "# 손실 함수와 옵티마이저 정의\n",
        "criterion = nn.CrossEntropyLoss()\n",
        "optimizer = optim.Adam(model.parameters(), lr=0.001)"
      ],
      "metadata": {
        "colab": {
          "base_uri": "https://localhost:8080/"
        },
        "id": "kiazAdSgS3JV",
        "outputId": "434ccc0d-6560-4c6c-e628-f656b4bcafb4"
      },
      "execution_count": null,
      "outputs": [
        {
          "output_type": "stream",
          "name": "stderr",
          "text": [
            "/usr/local/lib/python3.10/dist-packages/torchvision/models/_utils.py:208: UserWarning: The parameter 'pretrained' is deprecated since 0.13 and may be removed in the future, please use 'weights' instead.\n",
            "  warnings.warn(\n",
            "/usr/local/lib/python3.10/dist-packages/torchvision/models/_utils.py:223: UserWarning: Arguments other than a weight enum or `None` for 'weights' are deprecated since 0.13 and may be removed in the future. The current behavior is equivalent to passing `weights=EfficientNet_B0_Weights.IMAGENET1K_V1`. You can also use `weights=EfficientNet_B0_Weights.DEFAULT` to get the most up-to-date weights.\n",
            "  warnings.warn(msg)\n"
          ]
        }
      ]
    },
    {
      "cell_type": "code",
      "source": [
        "device = torch.device('cuda' if torch.cuda.is_available() else 'cpu')\n",
        "model = model.to(device)\n",
        "\n",
        "num_epochs = 50\n",
        "train_losses = []\n",
        "train_accs = []\n",
        "eval_losses = []\n",
        "eval_accs = []\n",
        "\n",
        "for epoch in range(num_epochs):\n",
        "    print(f'Epoch {epoch+1}/{num_epochs}')\n",
        "    # train으로 학습, valid로 평가\n",
        "    train_loss, train_acc = train(model, train_loader, criterion, optimizer)\n",
        "    eval_loss, eval_acc = evaluate(model, valid_loader, criterion)\n",
        "    # 그래프 그리기 위한 append\n",
        "    train_losses.append(train_loss)\n",
        "    train_accs.append(train_acc)\n",
        "    eval_losses.append(eval_loss)\n",
        "    eval_accs.append(eval_acc)\n",
        "\n",
        "    print(f'Train Loss: {train_loss:.4f} | Train Acc: {train_acc:.4f}')\n",
        "    print(f'Eval Loss: {eval_loss:.4f} | Eval Acc: {eval_acc:.4f}')\n",
        "    #print(f'Eval Loss: {eval_loss:.4f}')\n",
        "    print('---------------------------------------')\n",
        "\n",
        "# 테스트 데이터로 모델 평가\n",
        "test_loss, test_acc = evaluate(model, test_loader, criterion)\n",
        "print(f'Test Loss: {test_loss:.4f} | Test Acc: {test_acc:.4f}')"
      ],
      "metadata": {
        "colab": {
          "base_uri": "https://localhost:8080/"
        },
        "id": "c11woHlOE_MU",
        "outputId": "83f6b1fe-6439-4914-84dd-fb02d88c2c5b"
      },
      "execution_count": null,
      "outputs": [
        {
          "output_type": "stream",
          "name": "stdout",
          "text": [
            "Epoch 1/50\n",
            "Train Loss: 0.7731 | Train Acc: 0.7276\n",
            "Eval Loss: 0.5358 | Eval Acc: 0.8419\n",
            "---------------------------------------\n",
            "Epoch 2/50\n",
            "Train Loss: 0.3331 | Train Acc: 0.8865\n",
            "Eval Loss: 0.3021 | Eval Acc: 0.9032\n",
            "---------------------------------------\n",
            "Epoch 3/50\n",
            "Train Loss: 0.1944 | Train Acc: 0.9373\n",
            "Eval Loss: 0.2933 | Eval Acc: 0.9190\n",
            "---------------------------------------\n",
            "Epoch 4/50\n",
            "Train Loss: 0.1701 | Train Acc: 0.9420\n",
            "Eval Loss: 0.5194 | Eval Acc: 0.8439\n",
            "---------------------------------------\n",
            "Epoch 5/50\n",
            "Train Loss: 0.1669 | Train Acc: 0.9459\n",
            "Eval Loss: 0.2890 | Eval Acc: 0.9111\n",
            "---------------------------------------\n",
            "Epoch 6/50\n",
            "Train Loss: 0.1806 | Train Acc: 0.9433\n",
            "Eval Loss: 0.2667 | Eval Acc: 0.9249\n",
            "---------------------------------------\n",
            "Epoch 7/50\n",
            "Train Loss: 0.1500 | Train Acc: 0.9591\n",
            "Eval Loss: 0.3999 | Eval Acc: 0.8854\n",
            "---------------------------------------\n",
            "Epoch 8/50\n",
            "Train Loss: 0.1474 | Train Acc: 0.9466\n",
            "Eval Loss: 0.3049 | Eval Acc: 0.9150\n",
            "---------------------------------------\n",
            "Epoch 9/50\n",
            "Train Loss: 0.0774 | Train Acc: 0.9769\n",
            "Eval Loss: 0.3337 | Eval Acc: 0.9328\n",
            "---------------------------------------\n",
            "Epoch 10/50\n",
            "Train Loss: 0.0975 | Train Acc: 0.9710\n",
            "Eval Loss: 0.3780 | Eval Acc: 0.9032\n",
            "---------------------------------------\n",
            "Epoch 11/50\n",
            "Train Loss: 0.0925 | Train Acc: 0.9782\n",
            "Eval Loss: 0.2621 | Eval Acc: 0.9348\n",
            "---------------------------------------\n",
            "Epoch 12/50\n",
            "Train Loss: 0.0705 | Train Acc: 0.9815\n",
            "Eval Loss: 0.2829 | Eval Acc: 0.9249\n",
            "---------------------------------------\n",
            "Epoch 13/50\n",
            "Train Loss: 0.0553 | Train Acc: 0.9796\n",
            "Eval Loss: 0.3150 | Eval Acc: 0.9209\n",
            "---------------------------------------\n",
            "Epoch 14/50\n",
            "Train Loss: 0.0582 | Train Acc: 0.9822\n",
            "Eval Loss: 0.3512 | Eval Acc: 0.9111\n",
            "---------------------------------------\n",
            "Epoch 15/50\n",
            "Train Loss: 0.0568 | Train Acc: 0.9796\n",
            "Eval Loss: 0.2737 | Eval Acc: 0.9289\n",
            "---------------------------------------\n",
            "Epoch 16/50\n",
            "Train Loss: 0.0645 | Train Acc: 0.9796\n",
            "Eval Loss: 0.2181 | Eval Acc: 0.9289\n",
            "---------------------------------------\n",
            "Epoch 17/50\n",
            "Train Loss: 0.0281 | Train Acc: 0.9914\n",
            "Eval Loss: 0.2753 | Eval Acc: 0.9190\n",
            "---------------------------------------\n",
            "Epoch 18/50\n",
            "Train Loss: 0.0426 | Train Acc: 0.9881\n",
            "Eval Loss: 0.3318 | Eval Acc: 0.9209\n",
            "---------------------------------------\n",
            "Epoch 19/50\n",
            "Train Loss: 0.0565 | Train Acc: 0.9828\n",
            "Eval Loss: 0.3538 | Eval Acc: 0.8992\n",
            "---------------------------------------\n",
            "Epoch 20/50\n",
            "Train Loss: 0.0848 | Train Acc: 0.9703\n",
            "Eval Loss: 0.3455 | Eval Acc: 0.9091\n",
            "---------------------------------------\n",
            "Epoch 21/50\n",
            "Train Loss: 0.0746 | Train Acc: 0.9802\n",
            "Eval Loss: 0.2952 | Eval Acc: 0.9348\n",
            "---------------------------------------\n",
            "Epoch 22/50\n",
            "Train Loss: 0.0492 | Train Acc: 0.9868\n",
            "Eval Loss: 0.2551 | Eval Acc: 0.9229\n",
            "---------------------------------------\n",
            "Epoch 23/50\n",
            "Train Loss: 0.0282 | Train Acc: 0.9914\n",
            "Eval Loss: 0.4653 | Eval Acc: 0.9071\n",
            "---------------------------------------\n",
            "Epoch 24/50\n",
            "Train Loss: 0.0974 | Train Acc: 0.9703\n",
            "Eval Loss: 0.2442 | Eval Acc: 0.9328\n",
            "---------------------------------------\n",
            "Epoch 25/50\n",
            "Train Loss: 0.0893 | Train Acc: 0.9690\n",
            "Eval Loss: 0.3628 | Eval Acc: 0.9071\n",
            "---------------------------------------\n",
            "Epoch 26/50\n",
            "Train Loss: 0.1043 | Train Acc: 0.9631\n",
            "Eval Loss: 0.5302 | Eval Acc: 0.8696\n",
            "---------------------------------------\n",
            "Epoch 27/50\n",
            "Train Loss: 0.0668 | Train Acc: 0.9776\n",
            "Eval Loss: 0.4012 | Eval Acc: 0.9051\n",
            "---------------------------------------\n",
            "Epoch 28/50\n",
            "Train Loss: 0.0385 | Train Acc: 0.9881\n",
            "Eval Loss: 0.2417 | Eval Acc: 0.9328\n",
            "---------------------------------------\n",
            "Epoch 29/50\n",
            "Train Loss: 0.0419 | Train Acc: 0.9861\n",
            "Eval Loss: 0.5808 | Eval Acc: 0.9012\n",
            "---------------------------------------\n",
            "Epoch 30/50\n",
            "Train Loss: 0.0413 | Train Acc: 0.9868\n",
            "Eval Loss: 0.2817 | Eval Acc: 0.9308\n",
            "---------------------------------------\n",
            "Epoch 31/50\n",
            "Train Loss: 0.0375 | Train Acc: 0.9894\n",
            "Eval Loss: 0.2350 | Eval Acc: 0.9368\n",
            "---------------------------------------\n",
            "Epoch 32/50\n",
            "Train Loss: 0.0384 | Train Acc: 0.9888\n",
            "Eval Loss: 0.3277 | Eval Acc: 0.9150\n",
            "---------------------------------------\n",
            "Epoch 33/50\n",
            "Train Loss: 0.0280 | Train Acc: 0.9901\n",
            "Eval Loss: 0.2282 | Eval Acc: 0.9368\n",
            "---------------------------------------\n",
            "Epoch 34/50\n",
            "Train Loss: 0.0211 | Train Acc: 0.9934\n",
            "Eval Loss: 0.2781 | Eval Acc: 0.9328\n",
            "---------------------------------------\n",
            "Epoch 35/50\n",
            "Train Loss: 0.0165 | Train Acc: 0.9947\n",
            "Eval Loss: 0.3269 | Eval Acc: 0.9447\n",
            "---------------------------------------\n",
            "Epoch 36/50\n",
            "Train Loss: 0.0432 | Train Acc: 0.9875\n",
            "Eval Loss: 0.3816 | Eval Acc: 0.9190\n",
            "---------------------------------------\n",
            "Epoch 37/50\n",
            "Train Loss: 0.0319 | Train Acc: 0.9861\n",
            "Eval Loss: 0.3573 | Eval Acc: 0.9150\n",
            "---------------------------------------\n",
            "Epoch 38/50\n",
            "Train Loss: 0.0311 | Train Acc: 0.9894\n",
            "Eval Loss: 0.4018 | Eval Acc: 0.9130\n",
            "---------------------------------------\n",
            "Epoch 39/50\n",
            "Train Loss: 0.0283 | Train Acc: 0.9888\n",
            "Eval Loss: 0.3135 | Eval Acc: 0.9229\n",
            "---------------------------------------\n",
            "Epoch 40/50\n",
            "Train Loss: 0.0482 | Train Acc: 0.9881\n",
            "Eval Loss: 0.3458 | Eval Acc: 0.9209\n",
            "---------------------------------------\n",
            "Epoch 41/50\n",
            "Train Loss: 0.0613 | Train Acc: 0.9848\n",
            "Eval Loss: 0.3661 | Eval Acc: 0.9130\n",
            "---------------------------------------\n",
            "Epoch 42/50\n",
            "Train Loss: 0.0423 | Train Acc: 0.9842\n",
            "Eval Loss: 0.4277 | Eval Acc: 0.9209\n",
            "---------------------------------------\n",
            "Epoch 43/50\n",
            "Train Loss: 0.0301 | Train Acc: 0.9908\n",
            "Eval Loss: 0.3379 | Eval Acc: 0.9249\n",
            "---------------------------------------\n",
            "Epoch 44/50\n",
            "Train Loss: 0.0671 | Train Acc: 0.9822\n",
            "Eval Loss: 0.5033 | Eval Acc: 0.8933\n",
            "---------------------------------------\n",
            "Epoch 45/50\n",
            "Train Loss: 0.0419 | Train Acc: 0.9842\n",
            "Eval Loss: 0.4404 | Eval Acc: 0.9012\n",
            "---------------------------------------\n",
            "Epoch 46/50\n",
            "Train Loss: 0.0381 | Train Acc: 0.9894\n",
            "Eval Loss: 0.4064 | Eval Acc: 0.9209\n",
            "---------------------------------------\n",
            "Epoch 47/50\n",
            "Train Loss: 0.0204 | Train Acc: 0.9941\n",
            "Eval Loss: 0.3562 | Eval Acc: 0.9111\n",
            "---------------------------------------\n",
            "Epoch 48/50\n",
            "Train Loss: 0.0573 | Train Acc: 0.9868\n",
            "Eval Loss: 0.3124 | Eval Acc: 0.9308\n",
            "---------------------------------------\n",
            "Epoch 49/50\n",
            "Train Loss: 0.0417 | Train Acc: 0.9881\n",
            "Eval Loss: 0.4106 | Eval Acc: 0.9170\n",
            "---------------------------------------\n",
            "Epoch 50/50\n",
            "Train Loss: 0.0260 | Train Acc: 0.9901\n",
            "Eval Loss: 0.4036 | Eval Acc: 0.9190\n",
            "---------------------------------------\n",
            "Test Loss: 0.3915 | Test Acc: 0.9208\n"
          ]
        }
      ]
    },
    {
      "cell_type": "code",
      "source": [
        "plt.figure(figsize=(10, 5))\n",
        "plt.plot(range(1, num_epochs+1), train_losses, label='Train Loss')\n",
        "plt.plot(range(1, num_epochs+1), eval_losses, label='Valid Loss')\n",
        "plt.xlabel('Epoch')\n",
        "plt.ylabel('Loss')\n",
        "plt.title('Train and Valid Losses')\n",
        "plt.legend()\n",
        "plt.show()"
      ],
      "metadata": {
        "id": "Z936OrhFAmor",
        "colab": {
          "base_uri": "https://localhost:8080/",
          "height": 487
        },
        "outputId": "e3c4850d-dd8b-4913-a423-d1c8119a085e"
      },
      "execution_count": null,
      "outputs": [
        {
          "output_type": "display_data",
          "data": {
            "text/plain": [
              "<Figure size 1000x500 with 1 Axes>"
            ],
            "image/png": "[encoded data removed]"
          },
          "metadata": {}
        }
      ]
    },
    {
      "cell_type": "code",
      "source": [
        "plt.figure(figsize=(10, 5))\n",
        "plt.plot(range(1, num_epochs+1), train_accs, label='Train accuracy')\n",
        "plt.plot(range(1, num_epochs+1), eval_accs, label='Valid accuracy')\n",
        "plt.xlabel('Epoch')\n",
        "plt.ylabel('accuracy')\n",
        "plt.title('Train and Valid accuracy')\n",
        "plt.legend()\n",
        "plt.show()"
      ],
      "metadata": {
        "colab": {
          "base_uri": "https://localhost:8080/",
          "height": 487
        },
        "id": "ZNTUr5T7MBQn",
        "outputId": "73b5d914-f612-4961-f41d-4df9936d65ae"
      },
      "execution_count": null,
      "outputs": [
        {
          "output_type": "display_data",
          "data": {
            "text/plain": [
              "<Figure size 1000x500 with 1 Axes>"
            ],
            "image/png": "[encoded data removed]"
          },
          "metadata": {}
        }
      ]
    },
    {
      "cell_type": "markdown",
      "source": [
        "## 가중치 fix(마지막 레이어만 학습)"
      ],
      "metadata": {
        "id": "ObNOxLKFT1GA"
      }
    },
    {
      "cell_type": "code",
      "source": [
        "# i = 0\n",
        "# for name, param in model.named_parameters():  # named_parameters 가중치 뽑아주는 함수\n",
        "\n",
        "#     print(i,name)\n",
        "#     i+= 1\n",
        "\n",
        "# # 211, 212만 fully connected ->  classifier만"
      ],
      "metadata": {
        "id": "_BEZ1_7lj5ac"
      },
      "execution_count": null,
      "outputs": []
    },
    {
      "cell_type": "code",
      "source": [
        "import torch\n",
        "import torch.nn as nn\n",
        "import torch.optim as optim\n",
        "from torchvision.models import efficientnet_b0\n",
        "import matplotlib.pyplot as plt\n",
        "\n",
        "# EfficientNet 모델 불러오기\n",
        "model = efficientnet_b0(pretrained=True)\n",
        "num_classes = len(class_labels)\n",
        "num_features = model.classifier[1].in_features\n",
        "model.classifier[1] = nn.Linear(num_features, num_classes)\n",
        "\n",
        "for param in model.parameters():\n",
        "  param.requires_grad = False\n",
        "\n",
        "# 마지막 레이어(fc)의 가중치만 학습 가능하도록 설정\n",
        "for name, param in model.named_parameters():\n",
        "  if name.split('.')[0] == 'classifier':\n",
        "    # print(name)\n",
        "    param.requires_grad = True\n",
        "\n",
        "\n",
        "# 손실 함수와 옵티마이저 정의\n",
        "criterion = nn.CrossEntropyLoss()\n",
        "optimizer = optim.Adam(model.parameters(), lr=0.001)"
      ],
      "metadata": {
        "id": "NXazWFL3U5LR"
      },
      "execution_count": null,
      "outputs": []
    },
    {
      "cell_type": "code",
      "source": [
        "# 마지막 레이어 가중치 학습 True인지 확인\n",
        "for name, param in model.named_parameters():\n",
        "  if param.requires_grad == True:\n",
        "    print(name, param.requires_grad)"
      ],
      "metadata": {
        "colab": {
          "base_uri": "https://localhost:8080/"
        },
        "id": "3UL_mOmEYTfk",
        "outputId": "4d866cdd-47a1-47c4-a2e0-0da0e5a9356d"
      },
      "execution_count": null,
      "outputs": [
        {
          "output_type": "stream",
          "name": "stdout",
          "text": [
            "classifier.1.weight True\n",
            "classifier.1.bias True\n"
          ]
        }
      ]
    },
    {
      "cell_type": "code",
      "source": [
        "device = torch.device('cuda' if torch.cuda.is_available() else 'cpu')\n",
        "model = model.to(device)\n",
        "\n",
        "num_epochs = 50\n",
        "train_losses = []\n",
        "train_accs = []\n",
        "eval_losses = []\n",
        "eval_accs = []\n",
        "\n",
        "for epoch in range(num_epochs):\n",
        "    print(f'Epoch {epoch+1}/{num_epochs}')\n",
        "    # train으로 학습, valid로 평가\n",
        "    train_loss, train_acc = train(model, train_loader, criterion, optimizer)\n",
        "    eval_loss, eval_acc = evaluate(model, valid_loader, criterion)\n",
        "    # 그래프 그리기 위한 append\n",
        "    train_losses.append(train_loss)\n",
        "    train_accs.append(train_acc)\n",
        "    eval_losses.append(eval_loss)\n",
        "    eval_accs.append(eval_acc)\n",
        "\n",
        "    print(f'Train Loss: {train_loss:.4f} | Train Acc: {train_acc:.4f}')\n",
        "    print(f'Eval Loss: {eval_loss:.4f} | Eval Acc: {eval_acc:.4f}')\n",
        "    #print(f'Eval Loss: {eval_loss:.4f}')\n",
        "    print('---------------------------------------')\n",
        "\n",
        "# 테스트 데이터로 모델 평가\n",
        "test_loss, test_acc = evaluate(model, test_loader, criterion)\n",
        "print(f'Test Loss: {test_loss:.4f} | Test Acc: {test_acc:.4f}')"
      ],
      "metadata": {
        "colab": {
          "base_uri": "https://localhost:8080/"
        },
        "id": "B-_wqTbOTwnT",
        "outputId": "f41ff1c4-0340-49d2-c0d3-ef9e2e28d068"
      },
      "execution_count": null,
      "outputs": [
        {
          "output_type": "stream",
          "name": "stdout",
          "text": [
            "Epoch 1/50\n",
            "Train Loss: 1.3023 | Train Acc: 0.5567\n",
            "Eval Loss: 0.9534 | Eval Acc: 0.7470\n",
            "---------------------------------------\n",
            "Epoch 2/50\n",
            "Train Loss: 0.8337 | Train Acc: 0.7586\n",
            "Eval Loss: 0.7544 | Eval Acc: 0.7984\n",
            "---------------------------------------\n",
            "Epoch 3/50\n",
            "Train Loss: 0.6825 | Train Acc: 0.7942\n",
            "Eval Loss: 0.6626 | Eval Acc: 0.8024\n",
            "---------------------------------------\n",
            "Epoch 4/50\n",
            "Train Loss: 0.6106 | Train Acc: 0.8146\n",
            "Eval Loss: 0.6057 | Eval Acc: 0.8281\n",
            "---------------------------------------\n",
            "Epoch 5/50\n",
            "Train Loss: 0.5732 | Train Acc: 0.8318\n",
            "Eval Loss: 0.5719 | Eval Acc: 0.8300\n",
            "---------------------------------------\n",
            "Epoch 6/50\n",
            "Train Loss: 0.5093 | Train Acc: 0.8536\n",
            "Eval Loss: 0.5303 | Eval Acc: 0.8399\n",
            "---------------------------------------\n",
            "Epoch 7/50\n",
            "Train Loss: 0.4846 | Train Acc: 0.8536\n",
            "Eval Loss: 0.5072 | Eval Acc: 0.8478\n",
            "---------------------------------------\n",
            "Epoch 8/50\n",
            "Train Loss: 0.4572 | Train Acc: 0.8621\n",
            "Eval Loss: 0.4993 | Eval Acc: 0.8518\n",
            "---------------------------------------\n",
            "Epoch 9/50\n",
            "Train Loss: 0.4266 | Train Acc: 0.8727\n",
            "Eval Loss: 0.4806 | Eval Acc: 0.8458\n",
            "---------------------------------------\n",
            "Epoch 10/50\n",
            "Train Loss: 0.4193 | Train Acc: 0.8740\n",
            "Eval Loss: 0.4634 | Eval Acc: 0.8518\n",
            "---------------------------------------\n",
            "Epoch 11/50\n",
            "Train Loss: 0.4085 | Train Acc: 0.8734\n",
            "Eval Loss: 0.4537 | Eval Acc: 0.8597\n",
            "---------------------------------------\n",
            "Epoch 12/50\n",
            "Train Loss: 0.3653 | Train Acc: 0.8879\n",
            "Eval Loss: 0.4523 | Eval Acc: 0.8597\n",
            "---------------------------------------\n",
            "Epoch 13/50\n",
            "Train Loss: 0.3733 | Train Acc: 0.8879\n",
            "Eval Loss: 0.4436 | Eval Acc: 0.8577\n",
            "---------------------------------------\n",
            "Epoch 14/50\n",
            "Train Loss: 0.3572 | Train Acc: 0.8925\n",
            "Eval Loss: 0.4388 | Eval Acc: 0.8597\n",
            "---------------------------------------\n",
            "Epoch 15/50\n",
            "Train Loss: 0.3347 | Train Acc: 0.9030\n",
            "Eval Loss: 0.4339 | Eval Acc: 0.8715\n",
            "---------------------------------------\n",
            "Epoch 16/50\n",
            "Train Loss: 0.3380 | Train Acc: 0.8984\n",
            "Eval Loss: 0.4229 | Eval Acc: 0.8834\n",
            "---------------------------------------\n",
            "Epoch 17/50\n",
            "Train Loss: 0.3332 | Train Acc: 0.9030\n",
            "Eval Loss: 0.4195 | Eval Acc: 0.8696\n",
            "---------------------------------------\n",
            "Epoch 18/50\n",
            "Train Loss: 0.3232 | Train Acc: 0.9123\n",
            "Eval Loss: 0.4157 | Eval Acc: 0.8656\n",
            "---------------------------------------\n",
            "Epoch 19/50\n",
            "Train Loss: 0.3130 | Train Acc: 0.9057\n",
            "Eval Loss: 0.4159 | Eval Acc: 0.8617\n",
            "---------------------------------------\n",
            "Epoch 20/50\n",
            "Train Loss: 0.3183 | Train Acc: 0.8984\n",
            "Eval Loss: 0.4140 | Eval Acc: 0.8696\n",
            "---------------------------------------\n",
            "Epoch 21/50\n",
            "Train Loss: 0.3043 | Train Acc: 0.8991\n",
            "Eval Loss: 0.4039 | Eval Acc: 0.8755\n",
            "---------------------------------------\n",
            "Epoch 22/50\n",
            "Train Loss: 0.2878 | Train Acc: 0.9123\n",
            "Eval Loss: 0.4129 | Eval Acc: 0.8636\n",
            "---------------------------------------\n",
            "Epoch 23/50\n",
            "Train Loss: 0.3034 | Train Acc: 0.8984\n",
            "Eval Loss: 0.4009 | Eval Acc: 0.8834\n",
            "---------------------------------------\n",
            "Epoch 24/50\n",
            "Train Loss: 0.2937 | Train Acc: 0.9096\n",
            "Eval Loss: 0.3991 | Eval Acc: 0.8696\n",
            "---------------------------------------\n",
            "Epoch 25/50\n",
            "Train Loss: 0.2888 | Train Acc: 0.9077\n",
            "Eval Loss: 0.4028 | Eval Acc: 0.8735\n",
            "---------------------------------------\n",
            "Epoch 26/50\n",
            "Train Loss: 0.2876 | Train Acc: 0.9189\n",
            "Eval Loss: 0.4198 | Eval Acc: 0.8696\n",
            "---------------------------------------\n",
            "Epoch 27/50\n",
            "Train Loss: 0.2799 | Train Acc: 0.9050\n",
            "Eval Loss: 0.3966 | Eval Acc: 0.8676\n",
            "---------------------------------------\n",
            "Epoch 28/50\n",
            "Train Loss: 0.2723 | Train Acc: 0.9215\n",
            "Eval Loss: 0.4004 | Eval Acc: 0.8755\n",
            "---------------------------------------\n",
            "Epoch 29/50\n",
            "Train Loss: 0.2841 | Train Acc: 0.9109\n",
            "Eval Loss: 0.4001 | Eval Acc: 0.8696\n",
            "---------------------------------------\n",
            "Epoch 30/50\n",
            "Train Loss: 0.2758 | Train Acc: 0.9090\n",
            "Eval Loss: 0.3977 | Eval Acc: 0.8676\n",
            "---------------------------------------\n",
            "Epoch 31/50\n",
            "Train Loss: 0.2607 | Train Acc: 0.9189\n",
            "Eval Loss: 0.3952 | Eval Acc: 0.8755\n",
            "---------------------------------------\n",
            "Epoch 32/50\n",
            "Train Loss: 0.2668 | Train Acc: 0.9222\n",
            "Eval Loss: 0.3918 | Eval Acc: 0.8715\n",
            "---------------------------------------\n",
            "Epoch 33/50\n",
            "Train Loss: 0.2343 | Train Acc: 0.9307\n",
            "Eval Loss: 0.3947 | Eval Acc: 0.8794\n",
            "---------------------------------------\n",
            "Epoch 34/50\n",
            "Train Loss: 0.2343 | Train Acc: 0.9268\n",
            "Eval Loss: 0.3981 | Eval Acc: 0.8656\n",
            "---------------------------------------\n",
            "Epoch 35/50\n",
            "Train Loss: 0.2478 | Train Acc: 0.9294\n",
            "Eval Loss: 0.3984 | Eval Acc: 0.8617\n",
            "---------------------------------------\n",
            "Epoch 36/50\n",
            "Train Loss: 0.2422 | Train Acc: 0.9274\n",
            "Eval Loss: 0.3906 | Eval Acc: 0.8696\n",
            "---------------------------------------\n",
            "Epoch 37/50\n",
            "Train Loss: 0.2280 | Train Acc: 0.9314\n",
            "Eval Loss: 0.3941 | Eval Acc: 0.8755\n",
            "---------------------------------------\n",
            "Epoch 38/50\n",
            "Train Loss: 0.2656 | Train Acc: 0.9129\n",
            "Eval Loss: 0.3806 | Eval Acc: 0.8755\n",
            "---------------------------------------\n",
            "Epoch 39/50\n",
            "Train Loss: 0.2248 | Train Acc: 0.9301\n",
            "Eval Loss: 0.3836 | Eval Acc: 0.8676\n",
            "---------------------------------------\n",
            "Epoch 40/50\n",
            "Train Loss: 0.2385 | Train Acc: 0.9321\n",
            "Eval Loss: 0.3927 | Eval Acc: 0.8735\n",
            "---------------------------------------\n",
            "Epoch 41/50\n",
            "Train Loss: 0.2291 | Train Acc: 0.9301\n",
            "Eval Loss: 0.3871 | Eval Acc: 0.8735\n",
            "---------------------------------------\n",
            "Epoch 42/50\n",
            "Train Loss: 0.2133 | Train Acc: 0.9387\n",
            "Eval Loss: 0.3947 | Eval Acc: 0.8715\n",
            "---------------------------------------\n",
            "Epoch 43/50\n",
            "Train Loss: 0.2165 | Train Acc: 0.9393\n",
            "Eval Loss: 0.3844 | Eval Acc: 0.8715\n",
            "---------------------------------------\n",
            "Epoch 44/50\n",
            "Train Loss: 0.2331 | Train Acc: 0.9195\n",
            "Eval Loss: 0.3833 | Eval Acc: 0.8715\n",
            "---------------------------------------\n",
            "Epoch 45/50\n",
            "Train Loss: 0.2061 | Train Acc: 0.9406\n",
            "Eval Loss: 0.3866 | Eval Acc: 0.8676\n",
            "---------------------------------------\n",
            "Epoch 46/50\n",
            "Train Loss: 0.2226 | Train Acc: 0.9268\n",
            "Eval Loss: 0.3760 | Eval Acc: 0.8735\n",
            "---------------------------------------\n",
            "Epoch 47/50\n",
            "Train Loss: 0.2242 | Train Acc: 0.9301\n",
            "Eval Loss: 0.3769 | Eval Acc: 0.8715\n",
            "---------------------------------------\n",
            "Epoch 48/50\n",
            "Train Loss: 0.2122 | Train Acc: 0.9334\n",
            "Eval Loss: 0.3871 | Eval Acc: 0.8715\n",
            "---------------------------------------\n",
            "Epoch 49/50\n",
            "Train Loss: 0.2235 | Train Acc: 0.9307\n",
            "Eval Loss: 0.3818 | Eval Acc: 0.8696\n",
            "---------------------------------------\n",
            "Epoch 50/50\n",
            "Train Loss: 0.2252 | Train Acc: 0.9208\n",
            "Eval Loss: 0.3782 | Eval Acc: 0.8715\n",
            "---------------------------------------\n",
            "Test Loss: 0.4376 | Test Acc: 0.8475\n"
          ]
        }
      ]
    },
    {
      "cell_type": "code",
      "source": [
        "plt.figure(figsize=(10, 5))\n",
        "plt.plot(range(1, num_epochs+1), train_losses, label='Train Loss')\n",
        "plt.plot(range(1, num_epochs+1), eval_losses, label='Valid Loss')\n",
        "plt.xlabel('Epoch')\n",
        "plt.ylabel('Loss')\n",
        "plt.title('Train and Valid Losses')\n",
        "plt.legend()\n",
        "plt.show()"
      ],
      "metadata": {
        "colab": {
          "base_uri": "https://localhost:8080/",
          "height": 487
        },
        "id": "J_26K_siTwuY",
        "outputId": "391b53c6-1ee5-4990-ca19-5400d51aa575"
      },
      "execution_count": null,
      "outputs": [
        {
          "output_type": "display_data",
          "data": {
            "text/plain": [
              "<Figure size 1000x500 with 1 Axes>"
            ],
            "image/png": "[encoded data removed]"
          },
          "metadata": {}
        }
      ]
    },
    {
      "cell_type": "code",
      "source": [
        "plt.figure(figsize=(10, 5))\n",
        "plt.plot(range(1, num_epochs+1), train_accs, label='Train accuracy')\n",
        "plt.plot(range(1, num_epochs+1), eval_accs, label='Valid accuracy')\n",
        "plt.xlabel('Epoch')\n",
        "plt.ylabel('accuracy')\n",
        "plt.title('Train and Valid accuracy')\n",
        "plt.legend()\n",
        "plt.show()"
      ],
      "metadata": {
        "colab": {
          "base_uri": "https://localhost:8080/",
          "height": 487
        },
        "id": "jpWxe11DS3SM",
        "outputId": "e092c314-6865-4986-b0e7-e076f83591ab"
      },
      "execution_count": null,
      "outputs": [
        {
          "output_type": "display_data",
          "data": {
            "text/plain": [
              "<Figure size 1000x500 with 1 Axes>"
            ],
            "image/png": "[encoded data removed]"
          },
          "metadata": {}
        }
      ]
    },
    {
      "cell_type": "markdown",
      "source": [
        "결과적으로 fine tuning 한 모델이 더 예측 성능이 좋음\n",
        "\n",
        "epoch는 15~20번이면 충분할듯"
      ],
      "metadata": {
        "id": "zdVLfr_awIev"
      }
    },
    {
      "cell_type": "code",
      "source": [
        "########################## b1, b2, b3 테스트#######################"
      ],
      "metadata": {
        "id": "LaVzrA4fTgvf"
      },
      "execution_count": null,
      "outputs": []
    },
    {
      "cell_type": "code",
      "source": [
        "from sklearn.metrics import accuracy_score, recall_score, f1_score\n",
        "from tqdm import tqdm\n",
        "\n",
        "device = torch.device('cuda' if torch.cuda.is_available() else 'cpu')\n",
        "def train(model, loader_train, loader_valid, criterion, optimizer, scheduler=None, epochs=10, save_file='model_state_dict.pth'):\n",
        "\n",
        "    valid_loss_min = np.inf\n",
        "\n",
        "    for epoch in range(epochs):\n",
        "        print(f'에폭 [{epoch+1}/{epochs}] \\n-----------------------------')\n",
        "\n",
        "        model.train()\n",
        "        epoch_train_loss = 0\n",
        "\n",
        "        for images, labels in tqdm(loader_train):\n",
        "            images = images.to(device)\n",
        "            labels = labels.to(device)\n",
        "\n",
        "            optimizer.zero_grad()\n",
        "            outputs = model(images)\n",
        "            loss = criterion(outputs, labels)\n",
        "            epoch_train_loss += loss.item()\n",
        "            loss.backward()\n",
        "            optimizer.step()\n",
        "            if scheduler is not None:\n",
        "                scheduler.step()\n",
        "\n",
        "        print(f'\\t훈련 데이터 손실값 : {epoch_train_loss / len(loader_train):.4f}')\n",
        "\n",
        "        model.eval()\n",
        "        epoch_valid_loss = 0\n",
        "        preds_list = []\n",
        "        true_list = []\n",
        "\n",
        "        with torch.no_grad():\n",
        "            for images, labels in loader_valid:\n",
        "                images = images.to(device)\n",
        "                labels = labels.to(device)\n",
        "\n",
        "                outputs = model(images)\n",
        "                loss = criterion(outputs, labels)\n",
        "                epoch_valid_loss += loss.item()\n",
        "\n",
        "                preds = torch.max(outputs, dim=1)[1].cpu().numpy()\n",
        "                true = labels.cpu().numpy()\n",
        "\n",
        "                preds_list.extend(preds)\n",
        "                true_list.extend(true)\n",
        "\n",
        "        val_accuracy = accuracy_score(true_list, preds_list)\n",
        "        val_recall = recall_score(true_list, preds_list, average='macro')\n",
        "        val_f1_score = f1_score(true_list, preds_list, average='macro')\n",
        "\n",
        "        print(f'\\t검증 데이터 손실값 : {epoch_valid_loss / len(loader_valid):.4f}')\n",
        "        print(f'\\t정확도 : {val_accuracy:.4f} / 재현율 : {val_recall:.4f} / F1 점수 : {val_f1_score:.4f}')\n",
        "\n",
        "        if epoch_valid_loss <= valid_loss_min:\n",
        "            print(f'\\t### 검증 데이터 손실값 감소 ({valid_loss_min:.4f} --> {epoch_valid_loss:.4f}). 모델 저장')\n",
        "            torch.save(model.state_dict(), save_file)\n",
        "            valid_loss_min = epoch_valid_loss\n",
        "\n",
        "    return torch.load(save_file)"
      ],
      "metadata": {
        "id": "IexCK372a0CG"
      },
      "execution_count": null,
      "outputs": []
    },
    {
      "cell_type": "code",
      "source": [
        "!pip install efficientnet-pytorch==0.7.1"
      ],
      "metadata": {
        "id": "gAbQfJjrXBnY",
        "colab": {
          "base_uri": "https://localhost:8080/"
        },
        "outputId": "37bdfcef-0b5d-4481-b20d-f9986abbfcc1"
      },
      "execution_count": null,
      "outputs": [
        {
          "output_type": "stream",
          "name": "stdout",
          "text": [
            "Looking in indexes: https://pypi.org/simple, https://us-python.pkg.dev/colab-wheels/public/simple/\n",
            "Collecting efficientnet-pytorch==0.7.1\n",
            "  Downloading efficientnet_pytorch-0.7.1.tar.gz (21 kB)\n",
            "  Preparing metadata (setup.py) ... \u001b[?25l\u001b[?25hdone\n",
            "Requirement already satisfied: torch in /usr/local/lib/python3.10/dist-packages (from efficientnet-pytorch==0.7.1) (2.0.1+cu118)\n",
            "Requirement already satisfied: filelock in /usr/local/lib/python3.10/dist-packages (from torch->efficientnet-pytorch==0.7.1) (3.12.0)\n",
            "Requirement already satisfied: typing-extensions in /usr/local/lib/python3.10/dist-packages (from torch->efficientnet-pytorch==0.7.1) (4.5.0)\n",
            "Requirement already satisfied: sympy in /usr/local/lib/python3.10/dist-packages (from torch->efficientnet-pytorch==0.7.1) (1.11.1)\n",
            "Requirement already satisfied: networkx in /usr/local/lib/python3.10/dist-packages (from torch->efficientnet-pytorch==0.7.1) (3.1)\n",
            "Requirement already satisfied: jinja2 in /usr/local/lib/python3.10/dist-packages (from torch->efficientnet-pytorch==0.7.1) (3.1.2)\n",
            "Requirement already satisfied: triton==2.0.0 in /usr/local/lib/python3.10/dist-packages (from torch->efficientnet-pytorch==0.7.1) (2.0.0)\n",
            "Requirement already satisfied: cmake in /usr/local/lib/python3.10/dist-packages (from triton==2.0.0->torch->efficientnet-pytorch==0.7.1) (3.25.2)\n",
            "Requirement already satisfied: lit in /usr/local/lib/python3.10/dist-packages (from triton==2.0.0->torch->efficientnet-pytorch==0.7.1) (16.0.5)\n",
            "Requirement already satisfied: MarkupSafe>=2.0 in /usr/local/lib/python3.10/dist-packages (from jinja2->torch->efficientnet-pytorch==0.7.1) (2.1.2)\n",
            "Requirement already satisfied: mpmath>=0.19 in /usr/local/lib/python3.10/dist-packages (from sympy->torch->efficientnet-pytorch==0.7.1) (1.3.0)\n",
            "Building wheels for collected packages: efficientnet-pytorch\n",
            "  Building wheel for efficientnet-pytorch (setup.py) ... \u001b[?25l\u001b[?25hdone\n",
            "  Created wheel for efficientnet-pytorch: filename=efficientnet_pytorch-0.7.1-py3-none-any.whl size=16427 sha256=0c0b87949eb0be39c272948c06ded4d7425baf0bddb0a43d5e98e2f6c12c1390\n",
            "  Stored in directory: /root/.cache/pip/wheels/03/3f/e9/911b1bc46869644912bda90a56bcf7b960f20b5187feea3baf\n",
            "Successfully built efficientnet-pytorch\n",
            "Installing collected packages: efficientnet-pytorch\n",
            "Successfully installed efficientnet-pytorch-0.7.1\n"
          ]
        }
      ]
    },
    {
      "cell_type": "code",
      "source": [
        "models_list =[] # 모델 저장용 리스트"
      ],
      "metadata": {
        "id": "uX7Nkcv6XBxd"
      },
      "execution_count": null,
      "outputs": []
    },
    {
      "cell_type": "code",
      "source": [
        "len(class_labels)"
      ],
      "metadata": {
        "colab": {
          "base_uri": "https://localhost:8080/"
        },
        "id": "Eg3e9oP1Zcdv",
        "outputId": "5a19f65b-2a8d-4191-a87b-2dfce2b61475"
      },
      "execution_count": null,
      "outputs": [
        {
          "output_type": "execute_result",
          "data": {
            "text/plain": [
              "6"
            ]
          },
          "metadata": {},
          "execution_count": 12
        }
      ]
    },
    {
      "cell_type": "code",
      "source": [
        "from efficientnet_pytorch import EfficientNet\n",
        "\n",
        "# 모델 생성\n",
        "# efficientnet_b0 = EfficientNet.from_pretrained('efficientnet-b0', num_classes=len(class_labels))\n",
        "efficientnet_b1 = EfficientNet.from_pretrained('efficientnet-b1', num_classes=len(class_labels))\n",
        "efficientnet_b2 = EfficientNet.from_pretrained('efficientnet-b2', num_classes=len(class_labels))\n",
        "efficientnet_b3 = EfficientNet.from_pretrained('efficientnet-b3', num_classes=len(class_labels))\n",
        "\n",
        "# 장비 할당\n",
        "# efficientnet_b0 = efficientnet_b0.to(device)\n",
        "efficientnet_b1 = efficientnet_b1.to(device)\n",
        "efficientnet_b2 = efficientnet_b2.to(device)\n",
        "efficientnet_b3 = efficientnet_b3.to(device)\n",
        "\n",
        "# 리스트에 모델 저장\n",
        "# models_list.append(efficientnet_b0)\n",
        "models_list.append(efficientnet_b1)\n",
        "models_list.append(efficientnet_b2)\n",
        "models_list.append(efficientnet_b3)"
      ],
      "metadata": {
        "colab": {
          "base_uri": "https://localhost:8080/"
        },
        "id": "YNRw0q8IXDPn",
        "outputId": "9ac660e0-669f-407f-ce16-decf4c85d052"
      },
      "execution_count": null,
      "outputs": [
        {
          "output_type": "stream",
          "name": "stderr",
          "text": [
            "Downloading: \"https://github.com/lukemelas/EfficientNet-PyTorch/releases/download/1.0/efficientnet-b0-355c32eb.pth\" to /root/.cache/torch/hub/checkpoints/efficientnet-b0-355c32eb.pth\n",
            "100%|██████████| 20.4M/20.4M [00:01<00:00, 19.0MB/s]\n",
            "Downloading: \"https://github.com/lukemelas/EfficientNet-PyTorch/releases/download/1.0/efficientnet-b1-f1951068.pth\" to /root/.cache/torch/hub/checkpoints/efficientnet-b1-f1951068.pth\n"
          ]
        },
        {
          "output_type": "stream",
          "name": "stdout",
          "text": [
            "Loaded pretrained weights for efficientnet-b0\n"
          ]
        },
        {
          "output_type": "stream",
          "name": "stderr",
          "text": [
            "100%|██████████| 30.1M/30.1M [00:01<00:00, 18.6MB/s]\n"
          ]
        },
        {
          "output_type": "stream",
          "name": "stdout",
          "text": [
            "Loaded pretrained weights for efficientnet-b1\n"
          ]
        },
        {
          "output_type": "stream",
          "name": "stderr",
          "text": [
            "Downloading: \"https://github.com/lukemelas/EfficientNet-PyTorch/releases/download/1.0/efficientnet-b2-8bb594d6.pth\" to /root/.cache/torch/hub/checkpoints/efficientnet-b2-8bb594d6.pth\n",
            "100%|██████████| 35.1M/35.1M [00:02<00:00, 17.6MB/s]\n",
            "Downloading: \"https://github.com/lukemelas/EfficientNet-PyTorch/releases/download/1.0/efficientnet-b3-5fb5a3c3.pth\" to /root/.cache/torch/hub/checkpoints/efficientnet-b3-5fb5a3c3.pth\n"
          ]
        },
        {
          "output_type": "stream",
          "name": "stdout",
          "text": [
            "Loaded pretrained weights for efficientnet-b2\n"
          ]
        },
        {
          "output_type": "stream",
          "name": "stderr",
          "text": [
            "100%|██████████| 47.1M/47.1M [00:02<00:00, 19.5MB/s]\n"
          ]
        },
        {
          "output_type": "stream",
          "name": "stdout",
          "text": [
            "Loaded pretrained weights for efficientnet-b3\n"
          ]
        }
      ]
    },
    {
      "cell_type": "code",
      "source": [
        "for idx, model in enumerate(models_list):\n",
        "    num_parmas = sum(param.numel() for param in model.parameters())\n",
        "    print(f'모델{idx+1} 파라미터 개수 : {num_parmas}')"
      ],
      "metadata": {
        "colab": {
          "base_uri": "https://localhost:8080/"
        },
        "id": "SnCdFNXAXDVY",
        "outputId": "6ae28158-8434-4d03-95f0-78d362fb31af"
      },
      "execution_count": null,
      "outputs": [
        {
          "output_type": "stream",
          "name": "stdout",
          "text": [
            "모델1 파라미터 개수 : 4015234\n",
            "모델2 파라미터 개수 : 6520870\n",
            "모델3 파라미터 개수 : 7709448\n",
            "모델4 파라미터 개수 : 10705454\n"
          ]
        }
      ]
    },
    {
      "cell_type": "code",
      "source": [
        "criterion = nn.CrossEntropyLoss()"
      ],
      "metadata": {
        "id": "DFVcSG-8XDZ4"
      },
      "execution_count": null,
      "outputs": []
    },
    {
      "cell_type": "code",
      "source": [
        "models_list[0]"
      ],
      "metadata": {
        "id": "2abJr1Y1Zrjv",
        "colab": {
          "base_uri": "https://localhost:8080/"
        },
        "outputId": "946a5a50-2c15-4bdd-ddac-83b1443c59fc"
      },
      "execution_count": null,
      "outputs": [
        {
          "output_type": "execute_result",
          "data": {
            "text/plain": [
              "EfficientNet(\n",
              "  (_conv_stem): Conv2dStaticSamePadding(\n",
              "    3, 32, kernel_size=(3, 3), stride=(2, 2), bias=False\n",
              "    (static_padding): ZeroPad2d((0, 1, 0, 1))\n",
              "  )\n",
              "  (_bn0): BatchNorm2d(32, eps=0.001, momentum=0.010000000000000009, affine=True, track_running_stats=True)\n",
              "  (_blocks): ModuleList(\n",
              "    (0): MBConvBlock(\n",
              "      (_depthwise_conv): Conv2dStaticSamePadding(\n",
              "        32, 32, kernel_size=(3, 3), stride=[1, 1], groups=32, bias=False\n",
              "        (static_padding): ZeroPad2d((1, 1, 1, 1))\n",
              "      )\n",
              "      (_bn1): BatchNorm2d(32, eps=0.001, momentum=0.010000000000000009, affine=True, track_running_stats=True)\n",
              "      (_se_reduce): Conv2dStaticSamePadding(\n",
              "        32, 8, kernel_size=(1, 1), stride=(1, 1)\n",
              "        (static_padding): Identity()\n",
              "      )\n",
              "      (_se_expand): Conv2dStaticSamePadding(\n",
              "        8, 32, kernel_size=(1, 1), stride=(1, 1)\n",
              "        (static_padding): Identity()\n",
              "      )\n",
              "      (_project_conv): Conv2dStaticSamePadding(\n",
              "        32, 16, kernel_size=(1, 1), stride=(1, 1), bias=False\n",
              "        (static_padding): Identity()\n",
              "      )\n",
              "      (_bn2): BatchNorm2d(16, eps=0.001, momentum=0.010000000000000009, affine=True, track_running_stats=True)\n",
              "      (_swish): MemoryEfficientSwish()\n",
              "    )\n",
              "    (1): MBConvBlock(\n",
              "      (_depthwise_conv): Conv2dStaticSamePadding(\n",
              "        16, 16, kernel_size=(3, 3), stride=(1, 1), groups=16, bias=False\n",
              "        (static_padding): ZeroPad2d((1, 1, 1, 1))\n",
              "      )\n",
              "      (_bn1): BatchNorm2d(16, eps=0.001, momentum=0.010000000000000009, affine=True, track_running_stats=True)\n",
              "      (_se_reduce): Conv2dStaticSamePadding(\n",
              "        16, 4, kernel_size=(1, 1), stride=(1, 1)\n",
              "        (static_padding): Identity()\n",
              "      )\n",
              "      (_se_expand): Conv2dStaticSamePadding(\n",
              "        4, 16, kernel_size=(1, 1), stride=(1, 1)\n",
              "        (static_padding): Identity()\n",
              "      )\n",
              "      (_project_conv): Conv2dStaticSamePadding(\n",
              "        16, 16, kernel_size=(1, 1), stride=(1, 1), bias=False\n",
              "        (static_padding): Identity()\n",
              "      )\n",
              "      (_bn2): BatchNorm2d(16, eps=0.001, momentum=0.010000000000000009, affine=True, track_running_stats=True)\n",
              "      (_swish): MemoryEfficientSwish()\n",
              "    )\n",
              "    (2): MBConvBlock(\n",
              "      (_expand_conv): Conv2dStaticSamePadding(\n",
              "        16, 96, kernel_size=(1, 1), stride=(1, 1), bias=False\n",
              "        (static_padding): Identity()\n",
              "      )\n",
              "      (_bn0): BatchNorm2d(96, eps=0.001, momentum=0.010000000000000009, affine=True, track_running_stats=True)\n",
              "      (_depthwise_conv): Conv2dStaticSamePadding(\n",
              "        96, 96, kernel_size=(3, 3), stride=[2, 2], groups=96, bias=False\n",
              "        (static_padding): ZeroPad2d((0, 1, 0, 1))\n",
              "      )\n",
              "      (_bn1): BatchNorm2d(96, eps=0.001, momentum=0.010000000000000009, affine=True, track_running_stats=True)\n",
              "      (_se_reduce): Conv2dStaticSamePadding(\n",
              "        96, 4, kernel_size=(1, 1), stride=(1, 1)\n",
              "        (static_padding): Identity()\n",
              "      )\n",
              "      (_se_expand): Conv2dStaticSamePadding(\n",
              "        4, 96, kernel_size=(1, 1), stride=(1, 1)\n",
              "        (static_padding): Identity()\n",
              "      )\n",
              "      (_project_conv): Conv2dStaticSamePadding(\n",
              "        96, 24, kernel_size=(1, 1), stride=(1, 1), bias=False\n",
              "        (static_padding): Identity()\n",
              "      )\n",
              "      (_bn2): BatchNorm2d(24, eps=0.001, momentum=0.010000000000000009, affine=True, track_running_stats=True)\n",
              "      (_swish): MemoryEfficientSwish()\n",
              "    )\n",
              "    (3-4): 2 x MBConvBlock(\n",
              "      (_expand_conv): Conv2dStaticSamePadding(\n",
              "        24, 144, kernel_size=(1, 1), stride=(1, 1), bias=False\n",
              "        (static_padding): Identity()\n",
              "      )\n",
              "      (_bn0): BatchNorm2d(144, eps=0.001, momentum=0.010000000000000009, affine=True, track_running_stats=True)\n",
              "      (_depthwise_conv): Conv2dStaticSamePadding(\n",
              "        144, 144, kernel_size=(3, 3), stride=(1, 1), groups=144, bias=False\n",
              "        (static_padding): ZeroPad2d((1, 1, 1, 1))\n",
              "      )\n",
              "      (_bn1): BatchNorm2d(144, eps=0.001, momentum=0.010000000000000009, affine=True, track_running_stats=True)\n",
              "      (_se_reduce): Conv2dStaticSamePadding(\n",
              "        144, 6, kernel_size=(1, 1), stride=(1, 1)\n",
              "        (static_padding): Identity()\n",
              "      )\n",
              "      (_se_expand): Conv2dStaticSamePadding(\n",
              "        6, 144, kernel_size=(1, 1), stride=(1, 1)\n",
              "        (static_padding): Identity()\n",
              "      )\n",
              "      (_project_conv): Conv2dStaticSamePadding(\n",
              "        144, 24, kernel_size=(1, 1), stride=(1, 1), bias=False\n",
              "        (static_padding): Identity()\n",
              "      )\n",
              "      (_bn2): BatchNorm2d(24, eps=0.001, momentum=0.010000000000000009, affine=True, track_running_stats=True)\n",
              "      (_swish): MemoryEfficientSwish()\n",
              "    )\n",
              "    (5): MBConvBlock(\n",
              "      (_expand_conv): Conv2dStaticSamePadding(\n",
              "        24, 144, kernel_size=(1, 1), stride=(1, 1), bias=False\n",
              "        (static_padding): Identity()\n",
              "      )\n",
              "      (_bn0): BatchNorm2d(144, eps=0.001, momentum=0.010000000000000009, affine=True, track_running_stats=True)\n",
              "      (_depthwise_conv): Conv2dStaticSamePadding(\n",
              "        144, 144, kernel_size=(5, 5), stride=[2, 2], groups=144, bias=False\n",
              "        (static_padding): ZeroPad2d((1, 2, 1, 2))\n",
              "      )\n",
              "      (_bn1): BatchNorm2d(144, eps=0.001, momentum=0.010000000000000009, affine=True, track_running_stats=True)\n",
              "      (_se_reduce): Conv2dStaticSamePadding(\n",
              "        144, 6, kernel_size=(1, 1), stride=(1, 1)\n",
              "        (static_padding): Identity()\n",
              "      )\n",
              "      (_se_expand): Conv2dStaticSamePadding(\n",
              "        6, 144, kernel_size=(1, 1), stride=(1, 1)\n",
              "        (static_padding): Identity()\n",
              "      )\n",
              "      (_project_conv): Conv2dStaticSamePadding(\n",
              "        144, 40, kernel_size=(1, 1), stride=(1, 1), bias=False\n",
              "        (static_padding): Identity()\n",
              "      )\n",
              "      (_bn2): BatchNorm2d(40, eps=0.001, momentum=0.010000000000000009, affine=True, track_running_stats=True)\n",
              "      (_swish): MemoryEfficientSwish()\n",
              "    )\n",
              "    (6-7): 2 x MBConvBlock(\n",
              "      (_expand_conv): Conv2dStaticSamePadding(\n",
              "        40, 240, kernel_size=(1, 1), stride=(1, 1), bias=False\n",
              "        (static_padding): Identity()\n",
              "      )\n",
              "      (_bn0): BatchNorm2d(240, eps=0.001, momentum=0.010000000000000009, affine=True, track_running_stats=True)\n",
              "      (_depthwise_conv): Conv2dStaticSamePadding(\n",
              "        240, 240, kernel_size=(5, 5), stride=(1, 1), groups=240, bias=False\n",
              "        (static_padding): ZeroPad2d((2, 2, 2, 2))\n",
              "      )\n",
              "      (_bn1): BatchNorm2d(240, eps=0.001, momentum=0.010000000000000009, affine=True, track_running_stats=True)\n",
              "      (_se_reduce): Conv2dStaticSamePadding(\n",
              "        240, 10, kernel_size=(1, 1), stride=(1, 1)\n",
              "        (static_padding): Identity()\n",
              "      )\n",
              "      (_se_expand): Conv2dStaticSamePadding(\n",
              "        10, 240, kernel_size=(1, 1), stride=(1, 1)\n",
              "        (static_padding): Identity()\n",
              "      )\n",
              "      (_project_conv): Conv2dStaticSamePadding(\n",
              "        240, 40, kernel_size=(1, 1), stride=(1, 1), bias=False\n",
              "        (static_padding): Identity()\n",
              "      )\n",
              "      (_bn2): BatchNorm2d(40, eps=0.001, momentum=0.010000000000000009, affine=True, track_running_stats=True)\n",
              "      (_swish): MemoryEfficientSwish()\n",
              "    )\n",
              "    (8): MBConvBlock(\n",
              "      (_expand_conv): Conv2dStaticSamePadding(\n",
              "        40, 240, kernel_size=(1, 1), stride=(1, 1), bias=False\n",
              "        (static_padding): Identity()\n",
              "      )\n",
              "      (_bn0): BatchNorm2d(240, eps=0.001, momentum=0.010000000000000009, affine=True, track_running_stats=True)\n",
              "      (_depthwise_conv): Conv2dStaticSamePadding(\n",
              "        240, 240, kernel_size=(3, 3), stride=[2, 2], groups=240, bias=False\n",
              "        (static_padding): ZeroPad2d((0, 1, 0, 1))\n",
              "      )\n",
              "      (_bn1): BatchNorm2d(240, eps=0.001, momentum=0.010000000000000009, affine=True, track_running_stats=True)\n",
              "      (_se_reduce): Conv2dStaticSamePadding(\n",
              "        240, 10, kernel_size=(1, 1), stride=(1, 1)\n",
              "        (static_padding): Identity()\n",
              "      )\n",
              "      (_se_expand): Conv2dStaticSamePadding(\n",
              "        10, 240, kernel_size=(1, 1), stride=(1, 1)\n",
              "        (static_padding): Identity()\n",
              "      )\n",
              "      (_project_conv): Conv2dStaticSamePadding(\n",
              "        240, 80, kernel_size=(1, 1), stride=(1, 1), bias=False\n",
              "        (static_padding): Identity()\n",
              "      )\n",
              "      (_bn2): BatchNorm2d(80, eps=0.001, momentum=0.010000000000000009, affine=True, track_running_stats=True)\n",
              "      (_swish): MemoryEfficientSwish()\n",
              "    )\n",
              "    (9-11): 3 x MBConvBlock(\n",
              "      (_expand_conv): Conv2dStaticSamePadding(\n",
              "        80, 480, kernel_size=(1, 1), stride=(1, 1), bias=False\n",
              "        (static_padding): Identity()\n",
              "      )\n",
              "      (_bn0): BatchNorm2d(480, eps=0.001, momentum=0.010000000000000009, affine=True, track_running_stats=True)\n",
              "      (_depthwise_conv): Conv2dStaticSamePadding(\n",
              "        480, 480, kernel_size=(3, 3), stride=(1, 1), groups=480, bias=False\n",
              "        (static_padding): ZeroPad2d((1, 1, 1, 1))\n",
              "      )\n",
              "      (_bn1): BatchNorm2d(480, eps=0.001, momentum=0.010000000000000009, affine=True, track_running_stats=True)\n",
              "      (_se_reduce): Conv2dStaticSamePadding(\n",
              "        480, 20, kernel_size=(1, 1), stride=(1, 1)\n",
              "        (static_padding): Identity()\n",
              "      )\n",
              "      (_se_expand): Conv2dStaticSamePadding(\n",
              "        20, 480, kernel_size=(1, 1), stride=(1, 1)\n",
              "        (static_padding): Identity()\n",
              "      )\n",
              "      (_project_conv): Conv2dStaticSamePadding(\n",
              "        480, 80, kernel_size=(1, 1), stride=(1, 1), bias=False\n",
              "        (static_padding): Identity()\n",
              "      )\n",
              "      (_bn2): BatchNorm2d(80, eps=0.001, momentum=0.010000000000000009, affine=True, track_running_stats=True)\n",
              "      (_swish): MemoryEfficientSwish()\n",
              "    )\n",
              "    (12): MBConvBlock(\n",
              "      (_expand_conv): Conv2dStaticSamePadding(\n",
              "        80, 480, kernel_size=(1, 1), stride=(1, 1), bias=False\n",
              "        (static_padding): Identity()\n",
              "      )\n",
              "      (_bn0): BatchNorm2d(480, eps=0.001, momentum=0.010000000000000009, affine=True, track_running_stats=True)\n",
              "      (_depthwise_conv): Conv2dStaticSamePadding(\n",
              "        480, 480, kernel_size=(5, 5), stride=[1, 1], groups=480, bias=False\n",
              "        (static_padding): ZeroPad2d((2, 2, 2, 2))\n",
              "      )\n",
              "      (_bn1): BatchNorm2d(480, eps=0.001, momentum=0.010000000000000009, affine=True, track_running_stats=True)\n",
              "      (_se_reduce): Conv2dStaticSamePadding(\n",
              "        480, 20, kernel_size=(1, 1), stride=(1, 1)\n",
              "        (static_padding): Identity()\n",
              "      )\n",
              "      (_se_expand): Conv2dStaticSamePadding(\n",
              "        20, 480, kernel_size=(1, 1), stride=(1, 1)\n",
              "        (static_padding): Identity()\n",
              "      )\n",
              "      (_project_conv): Conv2dStaticSamePadding(\n",
              "        480, 112, kernel_size=(1, 1), stride=(1, 1), bias=False\n",
              "        (static_padding): Identity()\n",
              "      )\n",
              "      (_bn2): BatchNorm2d(112, eps=0.001, momentum=0.010000000000000009, affine=True, track_running_stats=True)\n",
              "      (_swish): MemoryEfficientSwish()\n",
              "    )\n",
              "    (13-15): 3 x MBConvBlock(\n",
              "      (_expand_conv): Conv2dStaticSamePadding(\n",
              "        112, 672, kernel_size=(1, 1), stride=(1, 1), bias=False\n",
              "        (static_padding): Identity()\n",
              "      )\n",
              "      (_bn0): BatchNorm2d(672, eps=0.001, momentum=0.010000000000000009, affine=True, track_running_stats=True)\n",
              "      (_depthwise_conv): Conv2dStaticSamePadding(\n",
              "        672, 672, kernel_size=(5, 5), stride=(1, 1), groups=672, bias=False\n",
              "        (static_padding): ZeroPad2d((2, 2, 2, 2))\n",
              "      )\n",
              "      (_bn1): BatchNorm2d(672, eps=0.001, momentum=0.010000000000000009, affine=True, track_running_stats=True)\n",
              "      (_se_reduce): Conv2dStaticSamePadding(\n",
              "        672, 28, kernel_size=(1, 1), stride=(1, 1)\n",
              "        (static_padding): Identity()\n",
              "      )\n",
              "      (_se_expand): Conv2dStaticSamePadding(\n",
              "        28, 672, kernel_size=(1, 1), stride=(1, 1)\n",
              "        (static_padding): Identity()\n",
              "      )\n",
              "      (_project_conv): Conv2dStaticSamePadding(\n",
              "        672, 112, kernel_size=(1, 1), stride=(1, 1), bias=False\n",
              "        (static_padding): Identity()\n",
              "      )\n",
              "      (_bn2): BatchNorm2d(112, eps=0.001, momentum=0.010000000000000009, affine=True, track_running_stats=True)\n",
              "      (_swish): MemoryEfficientSwish()\n",
              "    )\n",
              "    (16): MBConvBlock(\n",
              "      (_expand_conv): Conv2dStaticSamePadding(\n",
              "        112, 672, kernel_size=(1, 1), stride=(1, 1), bias=False\n",
              "        (static_padding): Identity()\n",
              "      )\n",
              "      (_bn0): BatchNorm2d(672, eps=0.001, momentum=0.010000000000000009, affine=True, track_running_stats=True)\n",
              "      (_depthwise_conv): Conv2dStaticSamePadding(\n",
              "        672, 672, kernel_size=(5, 5), stride=[2, 2], groups=672, bias=False\n",
              "        (static_padding): ZeroPad2d((2, 2, 2, 2))\n",
              "      )\n",
              "      (_bn1): BatchNorm2d(672, eps=0.001, momentum=0.010000000000000009, affine=True, track_running_stats=True)\n",
              "      (_se_reduce): Conv2dStaticSamePadding(\n",
              "        672, 28, kernel_size=(1, 1), stride=(1, 1)\n",
              "        (static_padding): Identity()\n",
              "      )\n",
              "      (_se_expand): Conv2dStaticSamePadding(\n",
              "        28, 672, kernel_size=(1, 1), stride=(1, 1)\n",
              "        (static_padding): Identity()\n",
              "      )\n",
              "      (_project_conv): Conv2dStaticSamePadding(\n",
              "        672, 192, kernel_size=(1, 1), stride=(1, 1), bias=False\n",
              "        (static_padding): Identity()\n",
              "      )\n",
              "      (_bn2): BatchNorm2d(192, eps=0.001, momentum=0.010000000000000009, affine=True, track_running_stats=True)\n",
              "      (_swish): MemoryEfficientSwish()\n",
              "    )\n",
              "    (17-20): 4 x MBConvBlock(\n",
              "      (_expand_conv): Conv2dStaticSamePadding(\n",
              "        192, 1152, kernel_size=(1, 1), stride=(1, 1), bias=False\n",
              "        (static_padding): Identity()\n",
              "      )\n",
              "      (_bn0): BatchNorm2d(1152, eps=0.001, momentum=0.010000000000000009, affine=True, track_running_stats=True)\n",
              "      (_depthwise_conv): Conv2dStaticSamePadding(\n",
              "        1152, 1152, kernel_size=(5, 5), stride=(1, 1), groups=1152, bias=False\n",
              "        (static_padding): ZeroPad2d((2, 2, 2, 2))\n",
              "      )\n",
              "      (_bn1): BatchNorm2d(1152, eps=0.001, momentum=0.010000000000000009, affine=True, track_running_stats=True)\n",
              "      (_se_reduce): Conv2dStaticSamePadding(\n",
              "        1152, 48, kernel_size=(1, 1), stride=(1, 1)\n",
              "        (static_padding): Identity()\n",
              "      )\n",
              "      (_se_expand): Conv2dStaticSamePadding(\n",
              "        48, 1152, kernel_size=(1, 1), stride=(1, 1)\n",
              "        (static_padding): Identity()\n",
              "      )\n",
              "      (_project_conv): Conv2dStaticSamePadding(\n",
              "        1152, 192, kernel_size=(1, 1), stride=(1, 1), bias=False\n",
              "        (static_padding): Identity()\n",
              "      )\n",
              "      (_bn2): BatchNorm2d(192, eps=0.001, momentum=0.010000000000000009, affine=True, track_running_stats=True)\n",
              "      (_swish): MemoryEfficientSwish()\n",
              "    )\n",
              "    (21): MBConvBlock(\n",
              "      (_expand_conv): Conv2dStaticSamePadding(\n",
              "        192, 1152, kernel_size=(1, 1), stride=(1, 1), bias=False\n",
              "        (static_padding): Identity()\n",
              "      )\n",
              "      (_bn0): BatchNorm2d(1152, eps=0.001, momentum=0.010000000000000009, affine=True, track_running_stats=True)\n",
              "      (_depthwise_conv): Conv2dStaticSamePadding(\n",
              "        1152, 1152, kernel_size=(3, 3), stride=[1, 1], groups=1152, bias=False\n",
              "        (static_padding): ZeroPad2d((1, 1, 1, 1))\n",
              "      )\n",
              "      (_bn1): BatchNorm2d(1152, eps=0.001, momentum=0.010000000000000009, affine=True, track_running_stats=True)\n",
              "      (_se_reduce): Conv2dStaticSamePadding(\n",
              "        1152, 48, kernel_size=(1, 1), stride=(1, 1)\n",
              "        (static_padding): Identity()\n",
              "      )\n",
              "      (_se_expand): Conv2dStaticSamePadding(\n",
              "        48, 1152, kernel_size=(1, 1), stride=(1, 1)\n",
              "        (static_padding): Identity()\n",
              "      )\n",
              "      (_project_conv): Conv2dStaticSamePadding(\n",
              "        1152, 320, kernel_size=(1, 1), stride=(1, 1), bias=False\n",
              "        (static_padding): Identity()\n",
              "      )\n",
              "      (_bn2): BatchNorm2d(320, eps=0.001, momentum=0.010000000000000009, affine=True, track_running_stats=True)\n",
              "      (_swish): MemoryEfficientSwish()\n",
              "    )\n",
              "    (22): MBConvBlock(\n",
              "      (_expand_conv): Conv2dStaticSamePadding(\n",
              "        320, 1920, kernel_size=(1, 1), stride=(1, 1), bias=False\n",
              "        (static_padding): Identity()\n",
              "      )\n",
              "      (_bn0): BatchNorm2d(1920, eps=0.001, momentum=0.010000000000000009, affine=True, track_running_stats=True)\n",
              "      (_depthwise_conv): Conv2dStaticSamePadding(\n",
              "        1920, 1920, kernel_size=(3, 3), stride=(1, 1), groups=1920, bias=False\n",
              "        (static_padding): ZeroPad2d((1, 1, 1, 1))\n",
              "      )\n",
              "      (_bn1): BatchNorm2d(1920, eps=0.001, momentum=0.010000000000000009, affine=True, track_running_stats=True)\n",
              "      (_se_reduce): Conv2dStaticSamePadding(\n",
              "        1920, 80, kernel_size=(1, 1), stride=(1, 1)\n",
              "        (static_padding): Identity()\n",
              "      )\n",
              "      (_se_expand): Conv2dStaticSamePadding(\n",
              "        80, 1920, kernel_size=(1, 1), stride=(1, 1)\n",
              "        (static_padding): Identity()\n",
              "      )\n",
              "      (_project_conv): Conv2dStaticSamePadding(\n",
              "        1920, 320, kernel_size=(1, 1), stride=(1, 1), bias=False\n",
              "        (static_padding): Identity()\n",
              "      )\n",
              "      (_bn2): BatchNorm2d(320, eps=0.001, momentum=0.010000000000000009, affine=True, track_running_stats=True)\n",
              "      (_swish): MemoryEfficientSwish()\n",
              "    )\n",
              "  )\n",
              "  (_conv_head): Conv2dStaticSamePadding(\n",
              "    320, 1280, kernel_size=(1, 1), stride=(1, 1), bias=False\n",
              "    (static_padding): Identity()\n",
              "  )\n",
              "  (_bn1): BatchNorm2d(1280, eps=0.001, momentum=0.010000000000000009, affine=True, track_running_stats=True)\n",
              "  (_avg_pooling): AdaptiveAvgPool2d(output_size=1)\n",
              "  (_dropout): Dropout(p=0.2, inplace=False)\n",
              "  (_fc): Linear(in_features=1280, out_features=6, bias=True)\n",
              "  (_swish): MemoryEfficientSwish()\n",
              ")"
            ]
          },
          "metadata": {},
          "execution_count": 15
        }
      ]
    },
    {
      "cell_type": "code",
      "source": [
        "optimizer1 = torch.optim.AdamW(models_list[0].parameters(), lr=0.0006, weight_decay=0.001)\n",
        "optimizer2 = torch.optim.AdamW(models_list[1].parameters(), lr=0.0006, weight_decay=0.001)\n",
        "optimizer3 = torch.optim.AdamW(models_list[2].parameters(), lr=0.0006, weight_decay=0.001)"
      ],
      "metadata": {
        "id": "Ve5TQc7YXdd5"
      },
      "execution_count": null,
      "outputs": []
    },
    {
      "cell_type": "code",
      "source": [
        "!pip install transformers"
      ],
      "metadata": {
        "id": "MIGf9n5ZXiez",
        "colab": {
          "base_uri": "https://localhost:8080/"
        },
        "outputId": "2bd1768d-5d68-4954-8273-e6a1eb235086"
      },
      "execution_count": null,
      "outputs": [
        {
          "output_type": "stream",
          "name": "stdout",
          "text": [
            "Looking in indexes: https://pypi.org/simple, https://us-python.pkg.dev/colab-wheels/public/simple/\n",
            "Collecting transformers\n",
            "  Downloading transformers-4.30.2-py3-none-any.whl (7.2 MB)\n",
            "\u001b[2K     \u001b[90m━━━━━━━━━━━━━━━━━━━━━━━━━━━━━━━━━━━━━━━━\u001b[0m \u001b[32m7.2/7.2 MB\u001b[0m \u001b[31m72.9 MB/s\u001b[0m eta \u001b[36m0:00:00\u001b[0m\n",
            "\u001b[?25hRequirement already satisfied: filelock in /usr/local/lib/python3.10/dist-packages (from transformers) (3.12.0)\n",
            "Collecting huggingface-hub<1.0,>=0.14.1 (from transformers)\n",
            "  Downloading huggingface_hub-0.15.1-py3-none-any.whl (236 kB)\n",
            "\u001b[2K     \u001b[90m━━━━━━━━━━━━━━━━━━━━━━━━━━━━━━━━━━━━━━\u001b[0m \u001b[32m236.8/236.8 kB\u001b[0m \u001b[31m26.2 MB/s\u001b[0m eta \u001b[36m0:00:00\u001b[0m\n",
            "\u001b[?25hRequirement already satisfied: numpy>=1.17 in /usr/local/lib/python3.10/dist-packages (from transformers) (1.22.4)\n",
            "Requirement already satisfied: packaging>=20.0 in /usr/local/lib/python3.10/dist-packages (from transformers) (23.1)\n",
            "Requirement already satisfied: pyyaml>=5.1 in /usr/local/lib/python3.10/dist-packages (from transformers) (6.0)\n",
            "Requirement already satisfied: regex!=2019.12.17 in /usr/local/lib/python3.10/dist-packages (from transformers) (2022.10.31)\n",
            "Requirement already satisfied: requests in /usr/local/lib/python3.10/dist-packages (from transformers) (2.27.1)\n",
            "Collecting tokenizers!=0.11.3,<0.14,>=0.11.1 (from transformers)\n",
            "  Downloading tokenizers-0.13.3-cp310-cp310-manylinux_2_17_x86_64.manylinux2014_x86_64.whl (7.8 MB)\n",
            "\u001b[2K     \u001b[90m━━━━━━━━━━━━━━━━━━━━━━━━━━━━━━━━━━━━━━━━\u001b[0m \u001b[32m7.8/7.8 MB\u001b[0m \u001b[31m56.9 MB/s\u001b[0m eta \u001b[36m0:00:00\u001b[0m\n",
            "\u001b[?25hCollecting safetensors>=0.3.1 (from transformers)\n",
            "  Downloading safetensors-0.3.1-cp310-cp310-manylinux_2_17_x86_64.manylinux2014_x86_64.whl (1.3 MB)\n",
            "\u001b[2K     \u001b[90m━━━━━━━━━━━━━━━━━━━━━━━━━━━━━━━━━━━━━━━━\u001b[0m \u001b[32m1.3/1.3 MB\u001b[0m \u001b[31m57.6 MB/s\u001b[0m eta \u001b[36m0:00:00\u001b[0m\n",
            "\u001b[?25hRequirement already satisfied: tqdm>=4.27 in /usr/local/lib/python3.10/dist-packages (from transformers) (4.65.0)\n",
            "Requirement already satisfied: fsspec in /usr/local/lib/python3.10/dist-packages (from huggingface-hub<1.0,>=0.14.1->transformers) (2023.4.0)\n",
            "Requirement already satisfied: typing-extensions>=3.7.4.3 in /usr/local/lib/python3.10/dist-packages (from huggingface-hub<1.0,>=0.14.1->transformers) (4.5.0)\n",
            "Requirement already satisfied: urllib3<1.27,>=1.21.1 in /usr/local/lib/python3.10/dist-packages (from requests->transformers) (1.26.15)\n",
            "Requirement already satisfied: certifi>=2017.4.17 in /usr/local/lib/python3.10/dist-packages (from requests->transformers) (2022.12.7)\n",
            "Requirement already satisfied: charset-normalizer~=2.0.0 in /usr/local/lib/python3.10/dist-packages (from requests->transformers) (2.0.12)\n",
            "Requirement already satisfied: idna<4,>=2.5 in /usr/local/lib/python3.10/dist-packages (from requests->transformers) (3.4)\n",
            "Installing collected packages: tokenizers, safetensors, huggingface-hub, transformers\n",
            "Successfully installed huggingface-hub-0.15.1 safetensors-0.3.1 tokenizers-0.13.3 transformers-4.30.2\n"
          ]
        }
      ]
    },
    {
      "cell_type": "code",
      "source": [
        "from transformers import get_cosine_schedule_with_warmup\n",
        "\n",
        "epochs = 20 # 총 에폭\n",
        "\n",
        "# 스케줄러\n",
        "scheduler1 = get_cosine_schedule_with_warmup(optimizer1,\n",
        "                                    num_warmup_steps=len(train_loader)*3,\n",
        "                                    num_training_steps=len(train_loader)*epochs)\n",
        "\n",
        "scheduler2 = get_cosine_schedule_with_warmup(optimizer2,\n",
        "                                    num_warmup_steps=len(train_loader)*3,\n",
        "                                    num_training_steps=len(train_loader)*epochs)\n",
        "\n",
        "scheduler3 = get_cosine_schedule_with_warmup(optimizer3,\n",
        "                                    num_warmup_steps=len(train_loader)*3,\n",
        "                                    num_training_steps=len(train_loader)*epochs)"
      ],
      "metadata": {
        "id": "hb0_gh6kXdiO"
      },
      "execution_count": null,
      "outputs": []
    },
    {
      "cell_type": "code",
      "source": [
        "##################################################################################"
      ],
      "metadata": {
        "id": "unyzk4m17h5G"
      },
      "execution_count": null,
      "outputs": []
    },
    {
      "cell_type": "code",
      "source": [
        "# 첫 번째 모델 훈련\n",
        "model_state_dict = train(model=models_list[0],\n",
        "                         loader_train=train_loader,\n",
        "                         loader_valid=valid_loader,\n",
        "                         criterion=criterion,\n",
        "                         optimizer=optimizer1,\n",
        "                         scheduler=scheduler1,\n",
        "                         epochs=epochs)\n",
        "\n",
        "# 첫 번째 모델에 최적 가중치 적용\n",
        "models_list[0].load_state_dict(model_state_dict)"
      ],
      "metadata": {
        "colab": {
          "base_uri": "https://localhost:8080/"
        },
        "id": "1cSN7DaRXdp6",
        "outputId": "3de92743-0c63-4d2d-e853-6f257326ae41"
      },
      "execution_count": null,
      "outputs": [
        {
          "output_type": "stream",
          "name": "stdout",
          "text": [
            "에폭 [1/20] \n",
            "-----------------------------\n"
          ]
        },
        {
          "output_type": "stream",
          "name": "stderr",
          "text": [
            "100%|██████████| 48/48 [00:16<00:00,  2.85it/s]\n"
          ]
        },
        {
          "output_type": "stream",
          "name": "stdout",
          "text": [
            "\t훈련 데이터 손실값 : 0.6561\n",
            "\t검증 데이터 손실값 : 0.6647\n",
            "\t정확도 : 0.7767 / 재현율 : 0.6950 / F1 점수 : 0.6966\n",
            "\t### 검증 데이터 손실값 감소 (inf --> 10.6344). 모델 저장\n",
            "에폭 [2/20] \n",
            "-----------------------------\n"
          ]
        },
        {
          "output_type": "stream",
          "name": "stderr",
          "text": [
            "100%|██████████| 48/48 [00:16<00:00,  2.95it/s]\n"
          ]
        },
        {
          "output_type": "stream",
          "name": "stdout",
          "text": [
            "\t훈련 데이터 손실값 : 0.3164\n",
            "\t검증 데이터 손실값 : 0.5009\n",
            "\t정확도 : 0.8300 / 재현율 : 0.7953 / F1 점수 : 0.8130\n",
            "\t### 검증 데이터 손실값 감소 (10.6344 --> 8.0142). 모델 저장\n",
            "에폭 [3/20] \n",
            "-----------------------------\n"
          ]
        },
        {
          "output_type": "stream",
          "name": "stderr",
          "text": [
            "100%|██████████| 48/48 [00:16<00:00,  2.91it/s]\n"
          ]
        },
        {
          "output_type": "stream",
          "name": "stdout",
          "text": [
            "\t훈련 데이터 손실값 : 0.1665\n",
            "\t검증 데이터 손실값 : 0.5880\n",
            "\t정확도 : 0.8241 / 재현율 : 0.7752 / F1 점수 : 0.7837\n",
            "에폭 [4/20] \n",
            "-----------------------------\n"
          ]
        },
        {
          "output_type": "stream",
          "name": "stderr",
          "text": [
            "100%|██████████| 48/48 [00:16<00:00,  2.94it/s]\n"
          ]
        },
        {
          "output_type": "stream",
          "name": "stdout",
          "text": [
            "\t훈련 데이터 손실값 : 0.1177\n",
            "\t검증 데이터 손실값 : 0.6183\n",
            "\t정확도 : 0.8399 / 재현율 : 0.8208 / F1 점수 : 0.8417\n",
            "에폭 [5/20] \n",
            "-----------------------------\n"
          ]
        },
        {
          "output_type": "stream",
          "name": "stderr",
          "text": [
            "100%|██████████| 48/48 [00:16<00:00,  2.86it/s]\n"
          ]
        },
        {
          "output_type": "stream",
          "name": "stdout",
          "text": [
            "\t훈련 데이터 손실값 : 0.0916\n",
            "\t검증 데이터 손실값 : 0.4726\n",
            "\t정확도 : 0.8775 / 재현율 : 0.8505 / F1 점수 : 0.8640\n",
            "\t### 검증 데이터 손실값 감소 (8.0142 --> 7.5622). 모델 저장\n",
            "에폭 [6/20] \n",
            "-----------------------------\n"
          ]
        },
        {
          "output_type": "stream",
          "name": "stderr",
          "text": [
            "100%|██████████| 48/48 [00:16<00:00,  2.92it/s]\n"
          ]
        },
        {
          "output_type": "stream",
          "name": "stdout",
          "text": [
            "\t훈련 데이터 손실값 : 0.0907\n",
            "\t검증 데이터 손실값 : 0.5966\n",
            "\t정확도 : 0.8518 / 재현율 : 0.8023 / F1 점수 : 0.8151\n",
            "에폭 [7/20] \n",
            "-----------------------------\n"
          ]
        },
        {
          "output_type": "stream",
          "name": "stderr",
          "text": [
            "100%|██████████| 48/48 [00:16<00:00,  2.91it/s]\n"
          ]
        },
        {
          "output_type": "stream",
          "name": "stdout",
          "text": [
            "\t훈련 데이터 손실값 : 0.0569\n",
            "\t검증 데이터 손실값 : 0.4366\n",
            "\t정확도 : 0.9190 / 재현율 : 0.9230 / F1 점수 : 0.9152\n",
            "\t### 검증 데이터 손실값 감소 (7.5622 --> 6.9851). 모델 저장\n",
            "에폭 [8/20] \n",
            "-----------------------------\n"
          ]
        },
        {
          "output_type": "stream",
          "name": "stderr",
          "text": [
            "100%|██████████| 48/48 [00:19<00:00,  2.45it/s]\n"
          ]
        },
        {
          "output_type": "stream",
          "name": "stdout",
          "text": [
            "\t훈련 데이터 손실값 : 0.0472\n",
            "\t검증 데이터 손실값 : 0.3983\n",
            "\t정확도 : 0.9071 / 재현율 : 0.9012 / F1 점수 : 0.9035\n",
            "\t### 검증 데이터 손실값 감소 (6.9851 --> 6.3724). 모델 저장\n",
            "에폭 [9/20] \n",
            "-----------------------------\n"
          ]
        },
        {
          "output_type": "stream",
          "name": "stderr",
          "text": [
            "100%|██████████| 48/48 [00:16<00:00,  2.90it/s]\n"
          ]
        },
        {
          "output_type": "stream",
          "name": "stdout",
          "text": [
            "\t훈련 데이터 손실값 : 0.0344\n",
            "\t검증 데이터 손실값 : 0.3795\n",
            "\t정확도 : 0.9111 / 재현율 : 0.9000 / F1 점수 : 0.9033\n",
            "\t### 검증 데이터 손실값 감소 (6.3724 --> 6.0723). 모델 저장\n",
            "에폭 [10/20] \n",
            "-----------------------------\n"
          ]
        },
        {
          "output_type": "stream",
          "name": "stderr",
          "text": [
            "100%|██████████| 48/48 [00:22<00:00,  2.12it/s]\n"
          ]
        },
        {
          "output_type": "stream",
          "name": "stdout",
          "text": [
            "\t훈련 데이터 손실값 : 0.0330\n",
            "\t검증 데이터 손실값 : 0.3175\n",
            "\t정확도 : 0.9229 / 재현율 : 0.9162 / F1 점수 : 0.9184\n",
            "\t### 검증 데이터 손실값 감소 (6.0723 --> 5.0803). 모델 저장\n",
            "에폭 [11/20] \n",
            "-----------------------------\n"
          ]
        },
        {
          "output_type": "stream",
          "name": "stderr",
          "text": [
            "100%|██████████| 48/48 [00:22<00:00,  2.15it/s]\n"
          ]
        },
        {
          "output_type": "stream",
          "name": "stdout",
          "text": [
            "\t훈련 데이터 손실값 : 0.0414\n",
            "\t검증 데이터 손실값 : 0.3527\n",
            "\t정확도 : 0.9150 / 재현율 : 0.9203 / F1 점수 : 0.9135\n",
            "에폭 [12/20] \n",
            "-----------------------------\n"
          ]
        },
        {
          "output_type": "stream",
          "name": "stderr",
          "text": [
            "100%|██████████| 48/48 [00:16<00:00,  2.92it/s]\n"
          ]
        },
        {
          "output_type": "stream",
          "name": "stdout",
          "text": [
            "\t훈련 데이터 손실값 : 0.0219\n",
            "\t검증 데이터 손실값 : 0.2982\n",
            "\t정확도 : 0.9308 / 재현율 : 0.9321 / F1 점수 : 0.9248\n",
            "\t### 검증 데이터 손실값 감소 (5.0803 --> 4.7706). 모델 저장\n",
            "에폭 [13/20] \n",
            "-----------------------------\n"
          ]
        },
        {
          "output_type": "stream",
          "name": "stderr",
          "text": [
            "100%|██████████| 48/48 [00:16<00:00,  2.93it/s]\n"
          ]
        },
        {
          "output_type": "stream",
          "name": "stdout",
          "text": [
            "\t훈련 데이터 손실값 : 0.0123\n",
            "\t검증 데이터 손실값 : 0.2954\n",
            "\t정확도 : 0.9209 / 재현율 : 0.9204 / F1 점수 : 0.9136\n",
            "\t### 검증 데이터 손실값 감소 (4.7706 --> 4.7267). 모델 저장\n",
            "에폭 [14/20] \n",
            "-----------------------------\n"
          ]
        },
        {
          "output_type": "stream",
          "name": "stderr",
          "text": [
            "100%|██████████| 48/48 [00:16<00:00,  2.93it/s]\n"
          ]
        },
        {
          "output_type": "stream",
          "name": "stdout",
          "text": [
            "\t훈련 데이터 손실값 : 0.0172\n",
            "\t검증 데이터 손실값 : 0.2691\n",
            "\t정확도 : 0.9348 / 재현율 : 0.9388 / F1 점수 : 0.9299\n",
            "\t### 검증 데이터 손실값 감소 (4.7267 --> 4.3051). 모델 저장\n",
            "에폭 [15/20] \n",
            "-----------------------------\n"
          ]
        },
        {
          "output_type": "stream",
          "name": "stderr",
          "text": [
            "100%|██████████| 48/48 [00:19<00:00,  2.48it/s]\n"
          ]
        },
        {
          "output_type": "stream",
          "name": "stdout",
          "text": [
            "\t훈련 데이터 손실값 : 0.0066\n",
            "\t검증 데이터 손실값 : 0.2663\n",
            "\t정확도 : 0.9308 / 재현율 : 0.9351 / F1 점수 : 0.9264\n",
            "\t### 검증 데이터 손실값 감소 (4.3051 --> 4.2607). 모델 저장\n",
            "에폭 [16/20] \n",
            "-----------------------------\n"
          ]
        },
        {
          "output_type": "stream",
          "name": "stderr",
          "text": [
            "100%|██████████| 48/48 [00:16<00:00,  2.86it/s]\n"
          ]
        },
        {
          "output_type": "stream",
          "name": "stdout",
          "text": [
            "\t훈련 데이터 손실값 : 0.0063\n",
            "\t검증 데이터 손실값 : 0.2678\n",
            "\t정확도 : 0.9348 / 재현율 : 0.9391 / F1 점수 : 0.9300\n",
            "에폭 [17/20] \n",
            "-----------------------------\n"
          ]
        },
        {
          "output_type": "stream",
          "name": "stderr",
          "text": [
            "100%|██████████| 48/48 [00:16<00:00,  2.93it/s]\n"
          ]
        },
        {
          "output_type": "stream",
          "name": "stdout",
          "text": [
            "\t훈련 데이터 손실값 : 0.0113\n",
            "\t검증 데이터 손실값 : 0.2644\n",
            "\t정확도 : 0.9348 / 재현율 : 0.9391 / F1 점수 : 0.9300\n",
            "\t### 검증 데이터 손실값 감소 (4.2607 --> 4.2299). 모델 저장\n",
            "에폭 [18/20] \n",
            "-----------------------------\n"
          ]
        },
        {
          "output_type": "stream",
          "name": "stderr",
          "text": [
            "100%|██████████| 48/48 [00:17<00:00,  2.76it/s]\n"
          ]
        },
        {
          "output_type": "stream",
          "name": "stdout",
          "text": [
            "\t훈련 데이터 손실값 : 0.0110\n",
            "\t검증 데이터 손실값 : 0.2645\n",
            "\t정확도 : 0.9328 / 재현율 : 0.9334 / F1 점수 : 0.9262\n",
            "에폭 [19/20] \n",
            "-----------------------------\n"
          ]
        },
        {
          "output_type": "stream",
          "name": "stderr",
          "text": [
            "100%|██████████| 48/48 [00:16<00:00,  2.84it/s]\n"
          ]
        },
        {
          "output_type": "stream",
          "name": "stdout",
          "text": [
            "\t훈련 데이터 손실값 : 0.0075\n",
            "\t검증 데이터 손실값 : 0.2657\n",
            "\t정확도 : 0.9328 / 재현율 : 0.9334 / F1 점수 : 0.9262\n",
            "에폭 [20/20] \n",
            "-----------------------------\n"
          ]
        },
        {
          "output_type": "stream",
          "name": "stderr",
          "text": [
            "100%|██████████| 48/48 [00:17<00:00,  2.80it/s]\n"
          ]
        },
        {
          "output_type": "stream",
          "name": "stdout",
          "text": [
            "\t훈련 데이터 손실값 : 0.0110\n",
            "\t검증 데이터 손실값 : 0.2659\n",
            "\t정확도 : 0.9328 / 재현율 : 0.9334 / F1 점수 : 0.9262\n"
          ]
        },
        {
          "output_type": "execute_result",
          "data": {
            "text/plain": [
              "<All keys matched successfully>"
            ]
          },
          "metadata": {},
          "execution_count": 30
        }
      ]
    },
    {
      "cell_type": "code",
      "source": [
        "## 모델1(b1) -> 17번 에폭 모델이 최종 모델"
      ],
      "metadata": {
        "id": "XS7dT0gCcqOg"
      },
      "execution_count": null,
      "outputs": []
    },
    {
      "cell_type": "code",
      "source": [
        "# 두 번째 모델 훈련\n",
        "model_state_dict = train(model=models_list[1],\n",
        "                         loader_train=train_loader,\n",
        "                         loader_valid=valid_loader,\n",
        "                         criterion=criterion,\n",
        "                         optimizer=optimizer2,\n",
        "                         scheduler=scheduler2,\n",
        "                         epochs=epochs)\n",
        "\n",
        "# 두 번째 모델에 최적 가중치 적용\n",
        "models_list[1].load_state_dict(model_state_dict)"
      ],
      "metadata": {
        "colab": {
          "base_uri": "https://localhost:8080/"
        },
        "id": "uxZjGtMzXdwI",
        "outputId": "c14ac5bb-a147-4c53-d132-66653411728a"
      },
      "execution_count": null,
      "outputs": [
        {
          "output_type": "stream",
          "name": "stdout",
          "text": [
            "에폭 [1/20] \n",
            "-----------------------------\n"
          ]
        },
        {
          "output_type": "stream",
          "name": "stderr",
          "text": [
            "100%|██████████| 48/48 [00:17<00:00,  2.74it/s]\n"
          ]
        },
        {
          "output_type": "stream",
          "name": "stdout",
          "text": [
            "\t훈련 데이터 손실값 : 1.5954\n",
            "\t검증 데이터 손실값 : 1.1722\n",
            "\t정확도 : 0.7055 / 재현율 : 0.6328 / F1 점수 : 0.6441\n",
            "\t### 검증 데이터 손실값 감소 (inf --> 18.7548). 모델 저장\n",
            "에폭 [2/20] \n",
            "-----------------------------\n"
          ]
        },
        {
          "output_type": "stream",
          "name": "stderr",
          "text": [
            "100%|██████████| 48/48 [00:21<00:00,  2.26it/s]\n"
          ]
        },
        {
          "output_type": "stream",
          "name": "stdout",
          "text": [
            "\t훈련 데이터 손실값 : 0.6618\n",
            "\t검증 데이터 손실값 : 0.5284\n",
            "\t정확도 : 0.8379 / 재현율 : 0.7837 / F1 점수 : 0.8093\n",
            "\t### 검증 데이터 손실값 감소 (18.7548 --> 8.4545). 모델 저장\n",
            "에폭 [3/20] \n",
            "-----------------------------\n"
          ]
        },
        {
          "output_type": "stream",
          "name": "stderr",
          "text": [
            "100%|██████████| 48/48 [00:16<00:00,  2.84it/s]\n"
          ]
        },
        {
          "output_type": "stream",
          "name": "stdout",
          "text": [
            "\t훈련 데이터 손실값 : 0.2576\n",
            "\t검증 데이터 손실값 : 0.3725\n",
            "\t정확도 : 0.8755 / 재현율 : 0.8344 / F1 점수 : 0.8498\n",
            "\t### 검증 데이터 손실값 감소 (8.4545 --> 5.9595). 모델 저장\n",
            "에폭 [4/20] \n",
            "-----------------------------\n"
          ]
        },
        {
          "output_type": "stream",
          "name": "stderr",
          "text": [
            "100%|██████████| 48/48 [00:16<00:00,  2.88it/s]\n"
          ]
        },
        {
          "output_type": "stream",
          "name": "stdout",
          "text": [
            "\t훈련 데이터 손실값 : 0.1616\n",
            "\t검증 데이터 손실값 : 0.3683\n",
            "\t정확도 : 0.8972 / 재현율 : 0.8842 / F1 점수 : 0.8827\n",
            "\t### 검증 데이터 손실값 감소 (5.9595 --> 5.8931). 모델 저장\n",
            "에폭 [5/20] \n",
            "-----------------------------\n"
          ]
        },
        {
          "output_type": "stream",
          "name": "stderr",
          "text": [
            "100%|██████████| 48/48 [00:16<00:00,  2.84it/s]\n"
          ]
        },
        {
          "output_type": "stream",
          "name": "stdout",
          "text": [
            "\t훈련 데이터 손실값 : 0.1478\n",
            "\t검증 데이터 손실값 : 0.5011\n",
            "\t정확도 : 0.8696 / 재현율 : 0.8490 / F1 점수 : 0.8529\n",
            "에폭 [6/20] \n",
            "-----------------------------\n"
          ]
        },
        {
          "output_type": "stream",
          "name": "stderr",
          "text": [
            "100%|██████████| 48/48 [00:17<00:00,  2.80it/s]\n"
          ]
        },
        {
          "output_type": "stream",
          "name": "stdout",
          "text": [
            "\t훈련 데이터 손실값 : 0.1063\n",
            "\t검증 데이터 손실값 : 0.4404\n",
            "\t정확도 : 0.8874 / 재현율 : 0.8770 / F1 점수 : 0.8786\n",
            "에폭 [7/20] \n",
            "-----------------------------\n"
          ]
        },
        {
          "output_type": "stream",
          "name": "stderr",
          "text": [
            "100%|██████████| 48/48 [00:16<00:00,  2.86it/s]\n"
          ]
        },
        {
          "output_type": "stream",
          "name": "stdout",
          "text": [
            "\t훈련 데이터 손실값 : 0.0793\n",
            "\t검증 데이터 손실값 : 0.5150\n",
            "\t정확도 : 0.8696 / 재현율 : 0.8682 / F1 점수 : 0.8627\n",
            "에폭 [8/20] \n",
            "-----------------------------\n"
          ]
        },
        {
          "output_type": "stream",
          "name": "stderr",
          "text": [
            "100%|██████████| 48/48 [00:16<00:00,  2.88it/s]\n"
          ]
        },
        {
          "output_type": "stream",
          "name": "stdout",
          "text": [
            "\t훈련 데이터 손실값 : 0.0489\n",
            "\t검증 데이터 손실값 : 0.3589\n",
            "\t정확도 : 0.9190 / 재현율 : 0.9098 / F1 점수 : 0.9057\n",
            "\t### 검증 데이터 손실값 감소 (5.8931 --> 5.7421). 모델 저장\n",
            "에폭 [9/20] \n",
            "-----------------------------\n"
          ]
        },
        {
          "output_type": "stream",
          "name": "stderr",
          "text": [
            "100%|██████████| 48/48 [00:16<00:00,  2.83it/s]\n"
          ]
        },
        {
          "output_type": "stream",
          "name": "stdout",
          "text": [
            "\t훈련 데이터 손실값 : 0.0490\n",
            "\t검증 데이터 손실값 : 0.3194\n",
            "\t정확도 : 0.9229 / 재현율 : 0.9259 / F1 점수 : 0.9189\n",
            "\t### 검증 데이터 손실값 감소 (5.7421 --> 5.1100). 모델 저장\n",
            "에폭 [10/20] \n",
            "-----------------------------\n"
          ]
        },
        {
          "output_type": "stream",
          "name": "stderr",
          "text": [
            "100%|██████████| 48/48 [00:16<00:00,  2.85it/s]\n"
          ]
        },
        {
          "output_type": "stream",
          "name": "stdout",
          "text": [
            "\t훈련 데이터 손실값 : 0.0511\n",
            "\t검증 데이터 손실값 : 0.3503\n",
            "\t정확도 : 0.9209 / 재현율 : 0.9219 / F1 점수 : 0.9187\n",
            "에폭 [11/20] \n",
            "-----------------------------\n"
          ]
        },
        {
          "output_type": "stream",
          "name": "stderr",
          "text": [
            "100%|██████████| 48/48 [00:17<00:00,  2.80it/s]\n"
          ]
        },
        {
          "output_type": "stream",
          "name": "stdout",
          "text": [
            "\t훈련 데이터 손실값 : 0.0281\n",
            "\t검증 데이터 손실값 : 0.3233\n",
            "\t정확도 : 0.9150 / 재현율 : 0.9168 / F1 점수 : 0.9121\n",
            "에폭 [12/20] \n",
            "-----------------------------\n"
          ]
        },
        {
          "output_type": "stream",
          "name": "stderr",
          "text": [
            "100%|██████████| 48/48 [00:16<00:00,  2.89it/s]\n"
          ]
        },
        {
          "output_type": "stream",
          "name": "stdout",
          "text": [
            "\t훈련 데이터 손실값 : 0.0123\n",
            "\t검증 데이터 손실값 : 0.2923\n",
            "\t정확도 : 0.9269 / 재현율 : 0.9293 / F1 점수 : 0.9229\n",
            "\t### 검증 데이터 손실값 감소 (5.1100 --> 4.6768). 모델 저장\n",
            "에폭 [13/20] \n",
            "-----------------------------\n"
          ]
        },
        {
          "output_type": "stream",
          "name": "stderr",
          "text": [
            "100%|██████████| 48/48 [00:17<00:00,  2.78it/s]\n"
          ]
        },
        {
          "output_type": "stream",
          "name": "stdout",
          "text": [
            "\t훈련 데이터 손실값 : 0.0101\n",
            "\t검증 데이터 손실값 : 0.2772\n",
            "\t정확도 : 0.9289 / 재현율 : 0.9306 / F1 점수 : 0.9226\n",
            "\t### 검증 데이터 손실값 감소 (4.6768 --> 4.4351). 모델 저장\n",
            "에폭 [14/20] \n",
            "-----------------------------\n"
          ]
        },
        {
          "output_type": "stream",
          "name": "stderr",
          "text": [
            "100%|██████████| 48/48 [00:16<00:00,  2.87it/s]\n"
          ]
        },
        {
          "output_type": "stream",
          "name": "stdout",
          "text": [
            "\t훈련 데이터 손실값 : 0.0071\n",
            "\t검증 데이터 손실값 : 0.2659\n",
            "\t정확도 : 0.9308 / 재현율 : 0.9308 / F1 점수 : 0.9225\n",
            "\t### 검증 데이터 손실값 감소 (4.4351 --> 4.2552). 모델 저장\n",
            "에폭 [15/20] \n",
            "-----------------------------\n"
          ]
        },
        {
          "output_type": "stream",
          "name": "stderr",
          "text": [
            "100%|██████████| 48/48 [00:17<00:00,  2.80it/s]\n"
          ]
        },
        {
          "output_type": "stream",
          "name": "stdout",
          "text": [
            "\t훈련 데이터 손실값 : 0.0059\n",
            "\t검증 데이터 손실값 : 0.2521\n",
            "\t정확도 : 0.9308 / 재현율 : 0.9314 / F1 점수 : 0.9225\n",
            "\t### 검증 데이터 손실값 감소 (4.2552 --> 4.0332). 모델 저장\n",
            "에폭 [16/20] \n",
            "-----------------------------\n"
          ]
        },
        {
          "output_type": "stream",
          "name": "stderr",
          "text": [
            "100%|██████████| 48/48 [00:16<00:00,  2.88it/s]\n"
          ]
        },
        {
          "output_type": "stream",
          "name": "stdout",
          "text": [
            "\t훈련 데이터 손실값 : 0.0062\n",
            "\t검증 데이터 손실값 : 0.2469\n",
            "\t정확도 : 0.9387 / 재현율 : 0.9342 / F1 점수 : 0.9306\n",
            "\t### 검증 데이터 손실값 감소 (4.0332 --> 3.9501). 모델 저장\n",
            "에폭 [17/20] \n",
            "-----------------------------\n"
          ]
        },
        {
          "output_type": "stream",
          "name": "stderr",
          "text": [
            "100%|██████████| 48/48 [00:17<00:00,  2.81it/s]\n"
          ]
        },
        {
          "output_type": "stream",
          "name": "stdout",
          "text": [
            "\t훈련 데이터 손실값 : 0.0047\n",
            "\t검증 데이터 손실값 : 0.2401\n",
            "\t정확도 : 0.9368 / 재현율 : 0.9285 / F1 점수 : 0.9265\n",
            "\t### 검증 데이터 손실값 감소 (3.9501 --> 3.8413). 모델 저장\n",
            "에폭 [18/20] \n",
            "-----------------------------\n"
          ]
        },
        {
          "output_type": "stream",
          "name": "stderr",
          "text": [
            "100%|██████████| 48/48 [00:16<00:00,  2.88it/s]\n"
          ]
        },
        {
          "output_type": "stream",
          "name": "stdout",
          "text": [
            "\t훈련 데이터 손실값 : 0.0059\n",
            "\t검증 데이터 손실값 : 0.2447\n",
            "\t정확도 : 0.9387 / 재현율 : 0.9300 / F1 점수 : 0.9284\n",
            "에폭 [19/20] \n",
            "-----------------------------\n"
          ]
        },
        {
          "output_type": "stream",
          "name": "stderr",
          "text": [
            "100%|██████████| 48/48 [00:16<00:00,  2.85it/s]\n"
          ]
        },
        {
          "output_type": "stream",
          "name": "stdout",
          "text": [
            "\t훈련 데이터 손실값 : 0.0043\n",
            "\t검증 데이터 손실값 : 0.2448\n",
            "\t정확도 : 0.9368 / 재현율 : 0.9285 / F1 점수 : 0.9265\n",
            "에폭 [20/20] \n",
            "-----------------------------\n"
          ]
        },
        {
          "output_type": "stream",
          "name": "stderr",
          "text": [
            "100%|██████████| 48/48 [00:16<00:00,  2.89it/s]\n"
          ]
        },
        {
          "output_type": "stream",
          "name": "stdout",
          "text": [
            "\t훈련 데이터 손실값 : 0.0067\n",
            "\t검증 데이터 손실값 : 0.2453\n",
            "\t정확도 : 0.9387 / 재현율 : 0.9342 / F1 점수 : 0.9306\n"
          ]
        },
        {
          "output_type": "execute_result",
          "data": {
            "text/plain": [
              "<All keys matched successfully>"
            ]
          },
          "metadata": {},
          "execution_count": 31
        }
      ]
    },
    {
      "cell_type": "code",
      "source": [
        "## 모델2(b2) -> 17번 에폭 모델이 최종 모델"
      ],
      "metadata": {
        "id": "fGytLibHglRv"
      },
      "execution_count": null,
      "outputs": []
    },
    {
      "cell_type": "code",
      "source": [
        "# 세 번째 모델 훈련\n",
        "model_state_dict = train(model=models_list[2],\n",
        "                         loader_train=train_loader,\n",
        "                         loader_valid=valid_loader,\n",
        "                         criterion=criterion,\n",
        "                         optimizer=optimizer3,\n",
        "                         scheduler=scheduler3,\n",
        "                         epochs=epochs)\n",
        "\n",
        "# 세 번째 모델에 최적 가중치 적용\n",
        "models_list[2].load_state_dict(model_state_dict)"
      ],
      "metadata": {
        "id": "HEUbcN0evYMa",
        "colab": {
          "base_uri": "https://localhost:8080/"
        },
        "outputId": "a98208b1-de54-482a-a669-b041d89a346b"
      },
      "execution_count": null,
      "outputs": [
        {
          "output_type": "stream",
          "name": "stdout",
          "text": [
            "에폭 [1/20] \n",
            "-----------------------------\n"
          ]
        },
        {
          "output_type": "stream",
          "name": "stderr",
          "text": [
            "100%|██████████| 48/48 [00:20<00:00,  2.30it/s]\n"
          ]
        },
        {
          "output_type": "stream",
          "name": "stdout",
          "text": [
            "\t훈련 데이터 손실값 : 1.5761\n",
            "\t검증 데이터 손실값 : 1.1313\n",
            "\t정확도 : 0.7273 / 재현율 : 0.6620 / F1 점수 : 0.6706\n",
            "\t### 검증 데이터 손실값 감소 (inf --> 18.1006). 모델 저장\n",
            "에폭 [2/20] \n",
            "-----------------------------\n"
          ]
        },
        {
          "output_type": "stream",
          "name": "stderr",
          "text": [
            "100%|██████████| 48/48 [00:20<00:00,  2.34it/s]\n"
          ]
        },
        {
          "output_type": "stream",
          "name": "stdout",
          "text": [
            "\t훈련 데이터 손실값 : 0.5809\n",
            "\t검증 데이터 손실값 : 0.4531\n",
            "\t정확도 : 0.8518 / 재현율 : 0.8040 / F1 점수 : 0.8165\n",
            "\t### 검증 데이터 손실값 감소 (18.1006 --> 7.2497). 모델 저장\n",
            "에폭 [3/20] \n",
            "-----------------------------\n"
          ]
        },
        {
          "output_type": "stream",
          "name": "stderr",
          "text": [
            "100%|██████████| 48/48 [00:20<00:00,  2.34it/s]\n"
          ]
        },
        {
          "output_type": "stream",
          "name": "stdout",
          "text": [
            "\t훈련 데이터 손실값 : 0.2128\n",
            "\t검증 데이터 손실값 : 0.5336\n",
            "\t정확도 : 0.8518 / 재현율 : 0.7989 / F1 점수 : 0.8194\n",
            "에폭 [4/20] \n",
            "-----------------------------\n"
          ]
        },
        {
          "output_type": "stream",
          "name": "stderr",
          "text": [
            "100%|██████████| 48/48 [00:20<00:00,  2.31it/s]\n"
          ]
        },
        {
          "output_type": "stream",
          "name": "stdout",
          "text": [
            "\t훈련 데이터 손실값 : 0.1749\n",
            "\t검증 데이터 손실값 : 0.5111\n",
            "\t정확도 : 0.8458 / 재현율 : 0.8619 / F1 점수 : 0.8323\n",
            "에폭 [5/20] \n",
            "-----------------------------\n"
          ]
        },
        {
          "output_type": "stream",
          "name": "stderr",
          "text": [
            "100%|██████████| 48/48 [00:20<00:00,  2.31it/s]\n"
          ]
        },
        {
          "output_type": "stream",
          "name": "stdout",
          "text": [
            "\t훈련 데이터 손실값 : 0.1668\n",
            "\t검증 데이터 손실값 : 0.7740\n",
            "\t정확도 : 0.8123 / 재현율 : 0.8105 / F1 점수 : 0.8102\n",
            "에폭 [6/20] \n",
            "-----------------------------\n"
          ]
        },
        {
          "output_type": "stream",
          "name": "stderr",
          "text": [
            "100%|██████████| 48/48 [00:20<00:00,  2.34it/s]\n"
          ]
        },
        {
          "output_type": "stream",
          "name": "stdout",
          "text": [
            "\t훈련 데이터 손실값 : 0.1230\n",
            "\t검증 데이터 손실값 : 0.6168\n",
            "\t정확도 : 0.8478 / 재현율 : 0.8491 / F1 점수 : 0.8445\n",
            "에폭 [7/20] \n",
            "-----------------------------\n"
          ]
        },
        {
          "output_type": "stream",
          "name": "stderr",
          "text": [
            "100%|██████████| 48/48 [00:20<00:00,  2.34it/s]\n"
          ]
        },
        {
          "output_type": "stream",
          "name": "stdout",
          "text": [
            "\t훈련 데이터 손실값 : 0.0870\n",
            "\t검증 데이터 손실값 : 0.5548\n",
            "\t정확도 : 0.8538 / 재현율 : 0.8604 / F1 점수 : 0.8524\n",
            "에폭 [8/20] \n",
            "-----------------------------\n"
          ]
        },
        {
          "output_type": "stream",
          "name": "stderr",
          "text": [
            "100%|██████████| 48/48 [00:20<00:00,  2.32it/s]\n"
          ]
        },
        {
          "output_type": "stream",
          "name": "stdout",
          "text": [
            "\t훈련 데이터 손실값 : 0.0624\n",
            "\t검증 데이터 손실값 : 0.3384\n",
            "\t정확도 : 0.8972 / 재현율 : 0.9129 / F1 점수 : 0.8976\n",
            "\t### 검증 데이터 손실값 감소 (7.2497 --> 5.4152). 모델 저장\n",
            "에폭 [9/20] \n",
            "-----------------------------\n"
          ]
        },
        {
          "output_type": "stream",
          "name": "stderr",
          "text": [
            "100%|██████████| 48/48 [00:20<00:00,  2.30it/s]\n"
          ]
        },
        {
          "output_type": "stream",
          "name": "stdout",
          "text": [
            "\t훈련 데이터 손실값 : 0.0364\n",
            "\t검증 데이터 손실값 : 0.3652\n",
            "\t정확도 : 0.9209 / 재현율 : 0.9283 / F1 점수 : 0.9178\n",
            "에폭 [10/20] \n",
            "-----------------------------\n"
          ]
        },
        {
          "output_type": "stream",
          "name": "stderr",
          "text": [
            "100%|██████████| 48/48 [00:20<00:00,  2.34it/s]\n"
          ]
        },
        {
          "output_type": "stream",
          "name": "stdout",
          "text": [
            "\t훈련 데이터 손실값 : 0.0252\n",
            "\t검증 데이터 손실값 : 0.3348\n",
            "\t정확도 : 0.9249 / 재현율 : 0.9309 / F1 점수 : 0.9266\n",
            "\t### 검증 데이터 손실값 감소 (5.4152 --> 5.3560). 모델 저장\n",
            "에폭 [11/20] \n",
            "-----------------------------\n"
          ]
        },
        {
          "output_type": "stream",
          "name": "stderr",
          "text": [
            "100%|██████████| 48/48 [00:20<00:00,  2.34it/s]\n"
          ]
        },
        {
          "output_type": "stream",
          "name": "stdout",
          "text": [
            "\t훈련 데이터 손실값 : 0.0261\n",
            "\t검증 데이터 손실값 : 0.2639\n",
            "\t정확도 : 0.9427 / 재현율 : 0.9442 / F1 점수 : 0.9398\n",
            "\t### 검증 데이터 손실값 감소 (5.3560 --> 4.2219). 모델 저장\n",
            "에폭 [12/20] \n",
            "-----------------------------\n"
          ]
        },
        {
          "output_type": "stream",
          "name": "stderr",
          "text": [
            "100%|██████████| 48/48 [00:20<00:00,  2.32it/s]\n"
          ]
        },
        {
          "output_type": "stream",
          "name": "stdout",
          "text": [
            "\t훈련 데이터 손실값 : 0.0119\n",
            "\t검증 데이터 손실값 : 0.2897\n",
            "\t정확도 : 0.9308 / 재현율 : 0.9346 / F1 점수 : 0.9308\n",
            "에폭 [13/20] \n",
            "-----------------------------\n"
          ]
        },
        {
          "output_type": "stream",
          "name": "stderr",
          "text": [
            "100%|██████████| 48/48 [00:20<00:00,  2.30it/s]\n"
          ]
        },
        {
          "output_type": "stream",
          "name": "stdout",
          "text": [
            "\t훈련 데이터 손실값 : 0.0103\n",
            "\t검증 데이터 손실값 : 0.2931\n",
            "\t정확도 : 0.9229 / 재현율 : 0.9270 / F1 점수 : 0.9209\n",
            "에폭 [14/20] \n",
            "-----------------------------\n"
          ]
        },
        {
          "output_type": "stream",
          "name": "stderr",
          "text": [
            "100%|██████████| 48/48 [00:20<00:00,  2.34it/s]\n"
          ]
        },
        {
          "output_type": "stream",
          "name": "stdout",
          "text": [
            "\t훈련 데이터 손실값 : 0.0207\n",
            "\t검증 데이터 손실값 : 0.2750\n",
            "\t정확도 : 0.9328 / 재현율 : 0.9318 / F1 점수 : 0.9287\n",
            "에폭 [15/20] \n",
            "-----------------------------\n"
          ]
        },
        {
          "output_type": "stream",
          "name": "stderr",
          "text": [
            "100%|██████████| 48/48 [00:20<00:00,  2.34it/s]\n"
          ]
        },
        {
          "output_type": "stream",
          "name": "stdout",
          "text": [
            "\t훈련 데이터 손실값 : 0.0061\n",
            "\t검증 데이터 손실값 : 0.2698\n",
            "\t정확도 : 0.9407 / 재현율 : 0.9402 / F1 점수 : 0.9376\n",
            "에폭 [16/20] \n",
            "-----------------------------\n"
          ]
        },
        {
          "output_type": "stream",
          "name": "stderr",
          "text": [
            "100%|██████████| 48/48 [00:20<00:00,  2.32it/s]\n"
          ]
        },
        {
          "output_type": "stream",
          "name": "stdout",
          "text": [
            "\t훈련 데이터 손실값 : 0.0130\n",
            "\t검증 데이터 손실값 : 0.2747\n",
            "\t정확도 : 0.9328 / 재현율 : 0.9377 / F1 점수 : 0.9314\n",
            "에폭 [17/20] \n",
            "-----------------------------\n"
          ]
        },
        {
          "output_type": "stream",
          "name": "stderr",
          "text": [
            "100%|██████████| 48/48 [00:20<00:00,  2.30it/s]\n"
          ]
        },
        {
          "output_type": "stream",
          "name": "stdout",
          "text": [
            "\t훈련 데이터 손실값 : 0.0053\n",
            "\t검증 데이터 손실값 : 0.2705\n",
            "\t정확도 : 0.9407 / 재현율 : 0.9435 / F1 점수 : 0.9378\n",
            "에폭 [18/20] \n",
            "-----------------------------\n"
          ]
        },
        {
          "output_type": "stream",
          "name": "stderr",
          "text": [
            "100%|██████████| 48/48 [00:20<00:00,  2.35it/s]\n"
          ]
        },
        {
          "output_type": "stream",
          "name": "stdout",
          "text": [
            "\t훈련 데이터 손실값 : 0.0064\n",
            "\t검증 데이터 손실값 : 0.2697\n",
            "\t정확도 : 0.9387 / 재현율 : 0.9421 / F1 점수 : 0.9362\n",
            "에폭 [19/20] \n",
            "-----------------------------\n"
          ]
        },
        {
          "output_type": "stream",
          "name": "stderr",
          "text": [
            "100%|██████████| 48/48 [00:20<00:00,  2.34it/s]\n"
          ]
        },
        {
          "output_type": "stream",
          "name": "stdout",
          "text": [
            "\t훈련 데이터 손실값 : 0.0076\n",
            "\t검증 데이터 손실값 : 0.2681\n",
            "\t정확도 : 0.9387 / 재현율 : 0.9421 / F1 점수 : 0.9362\n",
            "에폭 [20/20] \n",
            "-----------------------------\n"
          ]
        },
        {
          "output_type": "stream",
          "name": "stderr",
          "text": [
            "100%|██████████| 48/48 [00:20<00:00,  2.33it/s]\n"
          ]
        },
        {
          "output_type": "stream",
          "name": "stdout",
          "text": [
            "\t훈련 데이터 손실값 : 0.0093\n",
            "\t검증 데이터 손실값 : 0.2676\n",
            "\t정확도 : 0.9387 / 재현율 : 0.9421 / F1 점수 : 0.9362\n"
          ]
        },
        {
          "output_type": "execute_result",
          "data": {
            "text/plain": [
              "<All keys matched successfully>"
            ]
          },
          "metadata": {},
          "execution_count": 32
        }
      ]
    },
    {
      "cell_type": "code",
      "source": [
        "## 모델3(b3) -> 11번 에폭 모델이 최종 모델"
      ],
      "metadata": {
        "id": "7_qUR_w2ghBY"
      },
      "execution_count": null,
      "outputs": []
    },
    {
      "cell_type": "code",
      "source": [
        "### 모델별 테스트셋 예측"
      ],
      "metadata": {
        "id": "eggRYM81sZw1"
      },
      "execution_count": null,
      "outputs": []
    },
    {
      "cell_type": "code",
      "source": [
        "def predict(model, loader_test, return_true=False):\n",
        "    model.eval()\n",
        "    preds_list = []\n",
        "    true_list = []  # 실제값 저장용 리스트 초기화\n",
        "\n",
        "    with torch.no_grad():   # 기울기 계산 비활성화\n",
        "        for images, labels in loader_test:\n",
        "            images = images.to(device)\n",
        "            labels = labels.to(device)\n",
        "\n",
        "            outputs = model(images)\n",
        "\n",
        "            preds = torch.max(outputs, dim=1)[1].cpu().numpy()\n",
        "            true = labels.cpu().numpy()\n",
        "\n",
        "\n",
        "            preds_list.extend(preds)\n",
        "            true_list.extend(true)\n",
        "\n",
        "    if return_true:\n",
        "        return true_list, preds_list\n",
        "    else:\n",
        "        return preds_list"
      ],
      "metadata": {
        "id": "i6o7_xZQcErS"
      },
      "execution_count": null,
      "outputs": []
    },
    {
      "cell_type": "code",
      "source": [
        "result1 = predict(model=models_list[0], loader_test=test_loader, return_true=True)\n",
        "true_list = result1[0]\n",
        "preds_list1 = result1[1]\n",
        "\n",
        "print(true_list)\n",
        "print(preds_list1)"
      ],
      "metadata": {
        "colab": {
          "base_uri": "https://localhost:8080/"
        },
        "id": "qx69ZgkyhlSo",
        "outputId": "86931ed8-4fd5-42a0-a8e5-e137c7d98e00"
      },
      "execution_count": null,
      "outputs": [
        {
          "output_type": "stream",
          "name": "stdout",
          "text": [
            "[3, 3, 5, 3, 3, 0, 2, 2, 2, 5, 0, 3, 1, 5, 2, 2, 5, 1, 3, 2, 1, 0, 1, 4, 0, 1, 4, 1, 1, 3, 3, 3, 0, 1, 0, 2, 2, 0, 4, 0, 0, 1, 2, 4, 2, 3, 1, 2, 2, 4, 2, 1, 4, 1, 0, 0, 4, 4, 0, 4, 2, 0, 3, 3, 3, 5, 0, 0, 0, 4, 2, 3, 4, 3, 2, 4, 1, 5, 1, 1, 3, 4, 4, 1, 3, 5, 4, 0, 3, 3, 5, 4, 1, 5, 4, 3, 1, 2, 2, 0, 4, 2, 2, 3, 4, 2, 1, 1, 2, 1, 2, 0, 2, 1, 4, 1, 1, 4, 2, 5, 1, 4, 0, 0, 5, 0, 4, 3, 0, 5, 1, 5, 1, 3, 3, 1, 4, 2, 4, 4, 1, 3, 3, 3, 3, 3, 2, 0, 0, 0, 3, 1, 4, 3, 4, 4, 4, 3, 5, 2, 1, 0, 3, 3, 2, 3, 4, 3, 3, 0, 1, 1, 1, 3, 3, 3, 3, 1, 0, 4, 0, 2, 2, 4, 3, 4, 1, 0, 1, 4, 1, 0, 1, 3, 4, 4, 0, 0, 5, 4, 3, 0, 0, 0, 3, 3, 5, 4, 0, 4, 0, 3, 3, 4, 4, 4, 1, 0, 4, 4, 4, 1, 3, 3, 1, 2, 3, 4, 1, 4, 1, 1, 1, 3, 3, 0, 0, 2, 1, 2, 0, 5, 1, 3, 0, 0, 0, 0, 4, 1, 1, 1, 3, 4, 3, 4, 3, 3, 1, 3, 2, 0, 1, 2, 2, 3, 4, 4, 2, 1, 4, 1, 0, 3, 3, 4, 4, 2, 1, 1, 3, 4, 2, 1, 4, 2, 4, 3, 3, 2, 0, 1, 5, 3, 3, 4, 3, 0, 2, 3, 1, 3, 4, 3, 0, 2, 1, 5, 0, 1, 1, 0, 1, 1, 1, 4, 3, 1, 2, 4, 2, 1, 3, 3, 3, 3, 2, 0, 4, 4, 4, 3, 2, 4, 4, 2, 4, 1, 3, 4, 4, 5, 3, 4, 4, 2, 1, 4, 0, 2, 3, 4, 0, 3, 0, 2, 3, 3, 1, 4, 4, 0, 4, 4, 1, 4, 4, 1, 2, 3, 1, 2, 2, 2, 1, 2, 3, 3, 3, 4, 1, 2, 3, 3, 1, 2, 4, 3, 0, 1, 3, 0, 0, 2, 0, 2, 4, 4, 1, 3, 4, 4, 4, 4, 3, 3, 1, 1, 2, 4, 1, 2, 1, 2, 1, 4, 1, 2, 0, 0, 2, 2, 3, 3, 4, 1, 1, 2, 4, 1, 3, 2, 4, 1, 3, 4, 0, 5, 2, 5, 3, 3, 4, 1, 3, 1, 1, 1, 3, 3, 0, 1, 1, 3, 0, 1, 0, 3, 2, 4, 0, 4, 2, 0, 1, 1, 3, 1, 2, 4, 0, 0, 0, 0, 2, 1, 2, 5, 5, 2, 2, 3, 4, 0, 1, 0, 4, 0, 1, 4, 4, 5, 4, 3, 1, 0, 0, 5, 4, 1, 5, 3, 4, 0, 4]\n",
            "[3, 3, 2, 3, 3, 0, 2, 2, 2, 5, 0, 3, 1, 5, 2, 2, 2, 1, 3, 2, 1, 0, 1, 4, 0, 1, 4, 1, 1, 3, 3, 3, 0, 1, 0, 2, 2, 0, 4, 0, 0, 1, 2, 4, 2, 3, 1, 2, 2, 4, 2, 1, 4, 1, 3, 0, 4, 4, 5, 4, 2, 0, 3, 3, 3, 5, 0, 0, 0, 4, 2, 3, 4, 3, 2, 4, 1, 5, 1, 1, 3, 4, 4, 1, 3, 5, 4, 3, 5, 3, 5, 4, 2, 0, 4, 3, 2, 2, 2, 0, 4, 2, 2, 3, 4, 2, 1, 1, 2, 1, 2, 0, 1, 1, 4, 1, 1, 4, 2, 5, 1, 2, 0, 0, 5, 0, 4, 3, 0, 4, 1, 5, 1, 3, 3, 1, 4, 2, 4, 4, 1, 3, 3, 3, 3, 3, 2, 0, 0, 0, 3, 1, 4, 3, 4, 4, 4, 3, 5, 2, 1, 0, 3, 3, 1, 3, 4, 3, 3, 3, 1, 1, 2, 3, 3, 3, 3, 1, 0, 4, 0, 2, 2, 2, 3, 4, 1, 0, 1, 4, 1, 0, 2, 5, 4, 4, 0, 0, 3, 5, 3, 0, 0, 0, 3, 3, 5, 4, 0, 4, 0, 3, 3, 4, 4, 4, 1, 0, 4, 4, 4, 4, 3, 3, 1, 2, 4, 4, 1, 1, 1, 1, 4, 3, 3, 0, 0, 2, 1, 2, 0, 5, 1, 3, 0, 0, 0, 0, 1, 1, 1, 1, 3, 4, 3, 4, 3, 3, 1, 3, 2, 0, 1, 2, 2, 3, 1, 4, 2, 1, 4, 1, 0, 3, 3, 4, 4, 2, 2, 1, 3, 4, 2, 1, 4, 2, 4, 2, 3, 2, 0, 1, 5, 3, 3, 4, 3, 0, 2, 3, 1, 3, 4, 3, 0, 2, 1, 5, 0, 1, 1, 0, 1, 1, 1, 4, 3, 1, 2, 4, 2, 1, 3, 3, 3, 3, 1, 0, 4, 4, 4, 3, 2, 4, 4, 2, 4, 1, 3, 4, 4, 4, 3, 4, 5, 2, 1, 4, 0, 2, 3, 4, 0, 3, 0, 2, 0, 3, 1, 4, 4, 0, 4, 4, 1, 4, 4, 1, 2, 3, 1, 2, 1, 2, 1, 2, 3, 3, 3, 4, 1, 2, 3, 3, 1, 2, 4, 3, 0, 1, 3, 0, 0, 2, 0, 2, 4, 4, 1, 3, 4, 4, 4, 4, 0, 3, 1, 1, 2, 4, 1, 2, 1, 2, 1, 4, 1, 2, 0, 0, 2, 2, 3, 3, 4, 1, 1, 2, 4, 1, 3, 2, 4, 1, 3, 4, 0, 5, 2, 5, 3, 3, 4, 1, 3, 1, 1, 1, 3, 3, 0, 1, 2, 3, 0, 1, 0, 3, 2, 4, 0, 4, 2, 0, 1, 1, 3, 1, 2, 4, 0, 0, 0, 0, 2, 1, 2, 5, 5, 2, 2, 3, 4, 0, 1, 0, 4, 0, 1, 4, 4, 5, 4, 3, 1, 0, 0, 5, 4, 1, 5, 3, 4, 0, 4]\n"
          ]
        }
      ]
    },
    {
      "cell_type": "code",
      "source": [
        "result2 = predict(model=models_list[1], loader_test=test_loader, return_true=True)\n",
        "true_list = result2[0]\n",
        "preds_list2 = result2[1]\n",
        "\n",
        "print(true_list)\n",
        "print(preds_list2)"
      ],
      "metadata": {
        "colab": {
          "base_uri": "https://localhost:8080/"
        },
        "id": "ZiZSknUIbqKJ",
        "outputId": "6926e52e-045d-4ba6-e1cb-9fb5ca33d74f"
      },
      "execution_count": null,
      "outputs": [
        {
          "output_type": "stream",
          "name": "stdout",
          "text": [
            "[3, 3, 5, 3, 3, 0, 2, 2, 2, 5, 0, 3, 1, 5, 2, 2, 5, 1, 3, 2, 1, 0, 1, 4, 0, 1, 4, 1, 1, 3, 3, 3, 0, 1, 0, 2, 2, 0, 4, 0, 0, 1, 2, 4, 2, 3, 1, 2, 2, 4, 2, 1, 4, 1, 0, 0, 4, 4, 0, 4, 2, 0, 3, 3, 3, 5, 0, 0, 0, 4, 2, 3, 4, 3, 2, 4, 1, 5, 1, 1, 3, 4, 4, 1, 3, 5, 4, 0, 3, 3, 5, 4, 1, 5, 4, 3, 1, 2, 2, 0, 4, 2, 2, 3, 4, 2, 1, 1, 2, 1, 2, 0, 2, 1, 4, 1, 1, 4, 2, 5, 1, 4, 0, 0, 5, 0, 4, 3, 0, 5, 1, 5, 1, 3, 3, 1, 4, 2, 4, 4, 1, 3, 3, 3, 3, 3, 2, 0, 0, 0, 3, 1, 4, 3, 4, 4, 4, 3, 5, 2, 1, 0, 3, 3, 2, 3, 4, 3, 3, 0, 1, 1, 1, 3, 3, 3, 3, 1, 0, 4, 0, 2, 2, 4, 3, 4, 1, 0, 1, 4, 1, 0, 1, 3, 4, 4, 0, 0, 5, 4, 3, 0, 0, 0, 3, 3, 5, 4, 0, 4, 0, 3, 3, 4, 4, 4, 1, 0, 4, 4, 4, 1, 3, 3, 1, 2, 3, 4, 1, 4, 1, 1, 1, 3, 3, 0, 0, 2, 1, 2, 0, 5, 1, 3, 0, 0, 0, 0, 4, 1, 1, 1, 3, 4, 3, 4, 3, 3, 1, 3, 2, 0, 1, 2, 2, 3, 4, 4, 2, 1, 4, 1, 0, 3, 3, 4, 4, 2, 1, 1, 3, 4, 2, 1, 4, 2, 4, 3, 3, 2, 0, 1, 5, 3, 3, 4, 3, 0, 2, 3, 1, 3, 4, 3, 0, 2, 1, 5, 0, 1, 1, 0, 1, 1, 1, 4, 3, 1, 2, 4, 2, 1, 3, 3, 3, 3, 2, 0, 4, 4, 4, 3, 2, 4, 4, 2, 4, 1, 3, 4, 4, 5, 3, 4, 4, 2, 1, 4, 0, 2, 3, 4, 0, 3, 0, 2, 3, 3, 1, 4, 4, 0, 4, 4, 1, 4, 4, 1, 2, 3, 1, 2, 2, 2, 1, 2, 3, 3, 3, 4, 1, 2, 3, 3, 1, 2, 4, 3, 0, 1, 3, 0, 0, 2, 0, 2, 4, 4, 1, 3, 4, 4, 4, 4, 3, 3, 1, 1, 2, 4, 1, 2, 1, 2, 1, 4, 1, 2, 0, 0, 2, 2, 3, 3, 4, 1, 1, 2, 4, 1, 3, 2, 4, 1, 3, 4, 0, 5, 2, 5, 3, 3, 4, 1, 3, 1, 1, 1, 3, 3, 0, 1, 1, 3, 0, 1, 0, 3, 2, 4, 0, 4, 2, 0, 1, 1, 3, 1, 2, 4, 0, 0, 0, 0, 2, 1, 2, 5, 5, 2, 2, 3, 4, 0, 1, 0, 4, 0, 1, 4, 4, 5, 4, 3, 1, 0, 0, 5, 4, 1, 5, 3, 4, 0, 4]\n",
            "[3, 3, 2, 3, 3, 0, 2, 2, 2, 5, 0, 3, 1, 5, 2, 2, 2, 1, 3, 2, 1, 0, 1, 4, 0, 1, 4, 1, 1, 3, 3, 3, 0, 1, 0, 2, 2, 0, 4, 0, 0, 1, 2, 4, 2, 3, 1, 2, 2, 4, 2, 1, 4, 1, 3, 0, 4, 4, 0, 4, 2, 0, 3, 3, 3, 5, 0, 0, 0, 4, 2, 3, 4, 3, 2, 2, 1, 3, 1, 1, 3, 4, 4, 1, 3, 5, 4, 0, 4, 3, 5, 4, 2, 5, 4, 3, 1, 2, 2, 0, 4, 2, 2, 3, 4, 2, 1, 1, 2, 1, 2, 0, 2, 1, 4, 1, 1, 4, 2, 5, 1, 2, 0, 0, 5, 0, 4, 3, 0, 4, 1, 5, 1, 3, 3, 1, 4, 2, 4, 4, 1, 3, 3, 3, 3, 3, 2, 0, 0, 0, 3, 1, 4, 3, 4, 4, 4, 3, 3, 2, 1, 0, 3, 3, 1, 3, 4, 3, 3, 3, 1, 1, 2, 3, 3, 3, 3, 1, 0, 4, 0, 2, 2, 2, 3, 4, 1, 0, 1, 4, 1, 0, 1, 4, 4, 4, 0, 0, 3, 4, 3, 0, 0, 0, 3, 3, 5, 4, 0, 4, 0, 3, 3, 4, 4, 3, 1, 0, 4, 4, 4, 1, 3, 3, 1, 2, 3, 4, 1, 1, 1, 1, 4, 3, 3, 0, 0, 2, 1, 2, 0, 5, 1, 3, 0, 0, 0, 0, 1, 1, 1, 1, 3, 4, 3, 4, 3, 3, 1, 3, 2, 0, 1, 2, 2, 3, 4, 4, 2, 1, 4, 1, 0, 3, 3, 4, 4, 2, 2, 1, 3, 4, 2, 1, 4, 2, 4, 3, 3, 2, 0, 1, 5, 3, 3, 4, 3, 0, 2, 3, 1, 3, 4, 3, 0, 2, 1, 5, 0, 1, 1, 0, 4, 1, 1, 4, 3, 1, 2, 4, 2, 1, 3, 5, 3, 3, 2, 0, 4, 4, 4, 3, 2, 4, 1, 2, 4, 1, 3, 4, 4, 0, 3, 4, 5, 2, 1, 4, 0, 2, 3, 4, 0, 3, 0, 2, 5, 3, 1, 1, 4, 0, 4, 4, 1, 4, 4, 1, 2, 3, 1, 2, 2, 2, 1, 2, 3, 3, 3, 4, 1, 2, 3, 3, 1, 2, 4, 3, 0, 1, 3, 0, 0, 2, 0, 2, 4, 4, 1, 3, 4, 4, 4, 4, 0, 3, 1, 1, 2, 4, 1, 2, 1, 2, 1, 4, 1, 2, 0, 0, 2, 2, 3, 3, 4, 1, 1, 2, 4, 1, 3, 2, 4, 1, 3, 4, 0, 5, 2, 5, 3, 3, 4, 1, 3, 1, 1, 1, 3, 3, 0, 1, 2, 3, 0, 1, 0, 3, 2, 4, 0, 4, 2, 0, 1, 1, 3, 1, 2, 4, 0, 0, 0, 0, 2, 1, 2, 5, 5, 2, 2, 3, 4, 0, 1, 0, 4, 0, 1, 4, 4, 5, 4, 3, 1, 0, 0, 2, 4, 1, 5, 3, 4, 0, 4]\n"
          ]
        }
      ]
    },
    {
      "cell_type": "code",
      "source": [
        "result3 = predict(model=models_list[2], loader_test=test_loader, return_true=True)\n",
        "true_list = result3[0]\n",
        "preds_list3 = result3[1]\n",
        "\n",
        "print(true_list)\n",
        "print(preds_list3)"
      ],
      "metadata": {
        "colab": {
          "base_uri": "https://localhost:8080/"
        },
        "id": "aONGiO7ybqPD",
        "outputId": "098696d4-e3c2-4ea2-f7ad-ba75c3655188"
      },
      "execution_count": null,
      "outputs": [
        {
          "output_type": "stream",
          "name": "stdout",
          "text": [
            "[3, 3, 5, 3, 3, 0, 2, 2, 2, 5, 0, 3, 1, 5, 2, 2, 5, 1, 3, 2, 1, 0, 1, 4, 0, 1, 4, 1, 1, 3, 3, 3, 0, 1, 0, 2, 2, 0, 4, 0, 0, 1, 2, 4, 2, 3, 1, 2, 2, 4, 2, 1, 4, 1, 0, 0, 4, 4, 0, 4, 2, 0, 3, 3, 3, 5, 0, 0, 0, 4, 2, 3, 4, 3, 2, 4, 1, 5, 1, 1, 3, 4, 4, 1, 3, 5, 4, 0, 3, 3, 5, 4, 1, 5, 4, 3, 1, 2, 2, 0, 4, 2, 2, 3, 4, 2, 1, 1, 2, 1, 2, 0, 2, 1, 4, 1, 1, 4, 2, 5, 1, 4, 0, 0, 5, 0, 4, 3, 0, 5, 1, 5, 1, 3, 3, 1, 4, 2, 4, 4, 1, 3, 3, 3, 3, 3, 2, 0, 0, 0, 3, 1, 4, 3, 4, 4, 4, 3, 5, 2, 1, 0, 3, 3, 2, 3, 4, 3, 3, 0, 1, 1, 1, 3, 3, 3, 3, 1, 0, 4, 0, 2, 2, 4, 3, 4, 1, 0, 1, 4, 1, 0, 1, 3, 4, 4, 0, 0, 5, 4, 3, 0, 0, 0, 3, 3, 5, 4, 0, 4, 0, 3, 3, 4, 4, 4, 1, 0, 4, 4, 4, 1, 3, 3, 1, 2, 3, 4, 1, 4, 1, 1, 1, 3, 3, 0, 0, 2, 1, 2, 0, 5, 1, 3, 0, 0, 0, 0, 4, 1, 1, 1, 3, 4, 3, 4, 3, 3, 1, 3, 2, 0, 1, 2, 2, 3, 4, 4, 2, 1, 4, 1, 0, 3, 3, 4, 4, 2, 1, 1, 3, 4, 2, 1, 4, 2, 4, 3, 3, 2, 0, 1, 5, 3, 3, 4, 3, 0, 2, 3, 1, 3, 4, 3, 0, 2, 1, 5, 0, 1, 1, 0, 1, 1, 1, 4, 3, 1, 2, 4, 2, 1, 3, 3, 3, 3, 2, 0, 4, 4, 4, 3, 2, 4, 4, 2, 4, 1, 3, 4, 4, 5, 3, 4, 4, 2, 1, 4, 0, 2, 3, 4, 0, 3, 0, 2, 3, 3, 1, 4, 4, 0, 4, 4, 1, 4, 4, 1, 2, 3, 1, 2, 2, 2, 1, 2, 3, 3, 3, 4, 1, 2, 3, 3, 1, 2, 4, 3, 0, 1, 3, 0, 0, 2, 0, 2, 4, 4, 1, 3, 4, 4, 4, 4, 3, 3, 1, 1, 2, 4, 1, 2, 1, 2, 1, 4, 1, 2, 0, 0, 2, 2, 3, 3, 4, 1, 1, 2, 4, 1, 3, 2, 4, 1, 3, 4, 0, 5, 2, 5, 3, 3, 4, 1, 3, 1, 1, 1, 3, 3, 0, 1, 1, 3, 0, 1, 0, 3, 2, 4, 0, 4, 2, 0, 1, 1, 3, 1, 2, 4, 0, 0, 0, 0, 2, 1, 2, 5, 5, 2, 2, 3, 4, 0, 1, 0, 4, 0, 1, 4, 4, 5, 4, 3, 1, 0, 0, 5, 4, 1, 5, 3, 4, 0, 4]\n",
            "[3, 3, 2, 3, 3, 0, 2, 2, 2, 5, 0, 3, 1, 5, 2, 2, 2, 1, 3, 2, 1, 0, 1, 4, 0, 1, 4, 1, 1, 3, 3, 3, 0, 1, 0, 2, 2, 0, 4, 0, 0, 1, 2, 4, 2, 3, 1, 2, 3, 4, 2, 1, 4, 1, 3, 0, 4, 4, 3, 3, 2, 0, 3, 3, 3, 5, 0, 0, 0, 4, 2, 3, 4, 3, 2, 4, 1, 3, 1, 1, 3, 4, 4, 1, 3, 5, 4, 3, 4, 3, 5, 4, 2, 5, 4, 3, 1, 2, 2, 0, 4, 2, 2, 3, 4, 2, 1, 1, 2, 1, 2, 0, 2, 1, 4, 1, 1, 0, 2, 5, 1, 2, 0, 0, 5, 0, 4, 3, 0, 1, 1, 5, 4, 3, 3, 1, 4, 2, 4, 4, 1, 3, 3, 3, 3, 3, 2, 0, 3, 0, 3, 1, 4, 3, 4, 4, 4, 3, 5, 2, 1, 0, 3, 3, 1, 3, 4, 3, 3, 3, 1, 1, 2, 3, 3, 3, 3, 1, 0, 4, 0, 2, 2, 2, 3, 4, 1, 0, 1, 1, 1, 0, 1, 4, 1, 1, 0, 0, 5, 4, 3, 0, 0, 0, 3, 3, 2, 4, 0, 4, 0, 0, 3, 1, 4, 4, 1, 0, 4, 4, 4, 4, 3, 3, 1, 2, 3, 4, 1, 1, 1, 1, 1, 3, 3, 0, 0, 2, 1, 2, 0, 5, 1, 3, 0, 0, 0, 0, 1, 1, 1, 1, 3, 4, 3, 4, 3, 3, 1, 3, 2, 0, 1, 2, 2, 3, 1, 4, 2, 1, 4, 1, 0, 3, 3, 4, 4, 2, 2, 1, 3, 4, 2, 1, 4, 2, 4, 3, 3, 2, 0, 1, 5, 3, 3, 4, 3, 0, 2, 3, 1, 3, 4, 3, 0, 2, 1, 5, 0, 1, 1, 0, 1, 1, 1, 4, 3, 1, 2, 4, 2, 1, 3, 3, 3, 3, 1, 0, 4, 4, 4, 3, 2, 4, 4, 2, 4, 1, 3, 4, 4, 4, 3, 4, 3, 1, 1, 4, 0, 2, 3, 4, 0, 3, 0, 2, 3, 3, 1, 4, 4, 0, 4, 4, 1, 4, 4, 1, 2, 3, 1, 2, 2, 2, 1, 2, 3, 3, 3, 4, 4, 2, 3, 3, 1, 2, 4, 3, 0, 1, 3, 0, 0, 2, 0, 2, 4, 4, 1, 3, 4, 4, 4, 4, 3, 3, 1, 1, 2, 4, 1, 2, 1, 2, 1, 4, 1, 2, 0, 0, 2, 2, 3, 3, 4, 1, 1, 2, 4, 1, 3, 2, 1, 1, 3, 4, 0, 5, 2, 5, 3, 3, 4, 1, 3, 1, 1, 1, 3, 3, 0, 1, 4, 3, 0, 1, 0, 3, 2, 4, 0, 4, 2, 0, 1, 1, 3, 1, 2, 4, 0, 0, 0, 0, 2, 1, 2, 5, 5, 2, 2, 3, 4, 0, 1, 0, 4, 0, 1, 4, 5, 3, 4, 3, 1, 0, 0, 2, 4, 1, 5, 3, 4, 0, 4]\n"
          ]
        }
      ]
    },
    {
      "cell_type": "code",
      "source": [
        "print('#'*5, 'efficientnet-b1 모델 예측 결과 평가 점수', '#'*5)\n",
        "print(f'정확도 : {accuracy_score(true_list, preds_list1):.4f}')\n",
        "print(f'재현율 : {recall_score(true_list, preds_list1, average=\"macro\"): .4f}')\n",
        "print(f'F1 점수 : {f1_score(true_list, preds_list1, average=\"macro\"): .4f}')"
      ],
      "metadata": {
        "colab": {
          "base_uri": "https://localhost:8080/"
        },
        "id": "51QBKsDyjYNI",
        "outputId": "425d78a9-a90a-443e-f495-803a093470c8"
      },
      "execution_count": null,
      "outputs": [
        {
          "output_type": "stream",
          "name": "stdout",
          "text": [
            "##### efficientnet-b1 모델 예측 결과 평가 점수 #####\n",
            "정확도 : 0.9307\n",
            "재현율 :  0.9132\n",
            "F1 점수 :  0.9134\n"
          ]
        }
      ]
    },
    {
      "cell_type": "code",
      "source": [
        "print('#'*5, 'efficientnet-b2 모델 예측 결과 평가 점수', '#'*5)\n",
        "print(f'정확도 : {accuracy_score(true_list, preds_list2):.4f}')\n",
        "print(f'재현율 : {recall_score(true_list, preds_list2, average=\"macro\"): .4f}')\n",
        "print(f'F1 점수 : {f1_score(true_list, preds_list2, average=\"macro\"): .4f}')"
      ],
      "metadata": {
        "colab": {
          "base_uri": "https://localhost:8080/"
        },
        "id": "VYPbEyRaiIDo",
        "outputId": "acfb6045-40b4-4a33-9c3d-df82638385d4"
      },
      "execution_count": null,
      "outputs": [
        {
          "output_type": "stream",
          "name": "stdout",
          "text": [
            "##### efficientnet-b2 모델 예측 결과 평가 점수 #####\n",
            "정확도 : 0.9386\n",
            "재현율 :  0.9131\n",
            "F1 점수 :  0.9189\n"
          ]
        }
      ]
    },
    {
      "cell_type": "code",
      "source": [
        "print('#'*5, 'efficientnet-b3 모델 예측 결과 평가 점수', '#'*5)\n",
        "print(f'정확도 : {accuracy_score(true_list, preds_list3):.4f}')\n",
        "print(f'재현율 : {recall_score(true_list, preds_list3, average=\"macro\"): .4f}')\n",
        "print(f'F1 점수 : {f1_score(true_list, preds_list3, average=\"macro\"): .4f}')"
      ],
      "metadata": {
        "colab": {
          "base_uri": "https://localhost:8080/"
        },
        "id": "vVAxzCahiII-",
        "outputId": "f5707415-202e-4182-d823-253d932db9ee"
      },
      "execution_count": null,
      "outputs": [
        {
          "output_type": "stream",
          "name": "stdout",
          "text": [
            "##### efficientnet-b3 모델 예측 결과 평가 점수 #####\n",
            "정확도 : 0.9188\n",
            "재현율 :  0.8941\n",
            "F1 점수 :  0.9057\n"
          ]
        }
      ]
    },
    {
      "cell_type": "code",
      "source": [
        "#################################### 같은 처리로 b0 test############################################"
      ],
      "metadata": {
        "id": "cZ3p9X_V7bcX"
      },
      "execution_count": null,
      "outputs": []
    },
    {
      "cell_type": "code",
      "source": [
        "from efficientnet_pytorch import EfficientNet\n",
        "efficientnet_b0 = EfficientNet.from_pretrained('efficientnet-b0', num_classes=len(class_labels))\n",
        "\n",
        "efficientnet_b0 = efficientnet_b0.to(device)\n",
        "\n",
        "criterion = nn.CrossEntropyLoss()\n",
        "optimizer0 = torch.optim.AdamW(efficientnet_b0.parameters(), lr=0.0006, weight_decay=0.001)\n",
        "\n",
        "from transformers import get_cosine_schedule_with_warmup\n",
        "\n",
        "epochs = 20 # 총 에폭\n",
        "\n",
        "# 스케줄러\n",
        "scheduler0 = get_cosine_schedule_with_warmup(optimizer0,\n",
        "                                    num_warmup_steps=len(train_loader)*3,\n",
        "                                    num_training_steps=len(train_loader)*epochs)"
      ],
      "metadata": {
        "colab": {
          "base_uri": "https://localhost:8080/"
        },
        "id": "i08iz8rY7Fpc",
        "outputId": "39d3c91c-0654-42c0-d412-623e7e766381"
      },
      "execution_count": null,
      "outputs": [
        {
          "output_type": "stream",
          "name": "stdout",
          "text": [
            "Loaded pretrained weights for efficientnet-b0\n"
          ]
        }
      ]
    },
    {
      "cell_type": "code",
      "source": [
        "model_state_dict = train(model=efficientnet_b0,\n",
        "                         loader_train=train_loader,\n",
        "                         loader_valid=valid_loader,\n",
        "                         criterion=criterion,\n",
        "                         optimizer=optimizer0,\n",
        "                         scheduler=scheduler0,\n",
        "                         epochs=epochs)\n",
        "\n",
        "# 최적 가중치 적용\n",
        "efficientnet_b0.load_state_dict(model_state_dict)"
      ],
      "metadata": {
        "id": "Nwj8sGss7hve",
        "colab": {
          "base_uri": "https://localhost:8080/"
        },
        "outputId": "ce7681a1-223a-47b8-9668-da4744b09b0c"
      },
      "execution_count": null,
      "outputs": [
        {
          "output_type": "stream",
          "name": "stdout",
          "text": [
            "에폭 [1/20] \n",
            "-----------------------------\n"
          ]
        },
        {
          "output_type": "stream",
          "name": "stderr",
          "text": [
            "100%|██████████| 48/48 [12:29<00:00, 15.62s/it]\n"
          ]
        },
        {
          "output_type": "stream",
          "name": "stdout",
          "text": [
            "\t훈련 데이터 손실값 : 1.5955\n",
            "\t검증 데이터 손실값 : 1.1831\n",
            "\t정확도 : 0.6680 / 재현율 : 0.5877 / F1 점수 : 0.5671\n",
            "\t### 검증 데이터 손실값 감소 (inf --> 18.9298). 모델 저장\n",
            "에폭 [2/20] \n",
            "-----------------------------\n"
          ]
        },
        {
          "output_type": "stream",
          "name": "stderr",
          "text": [
            "100%|██████████| 48/48 [00:15<00:00,  3.08it/s]\n"
          ]
        },
        {
          "output_type": "stream",
          "name": "stdout",
          "text": [
            "\t훈련 데이터 손실값 : 0.6929\n",
            "\t검증 데이터 손실값 : 0.6431\n",
            "\t정확도 : 0.7708 / 재현율 : 0.6864 / F1 점수 : 0.6775\n",
            "\t### 검증 데이터 손실값 감소 (18.9298 --> 10.2904). 모델 저장\n",
            "에폭 [3/20] \n",
            "-----------------------------\n"
          ]
        },
        {
          "output_type": "stream",
          "name": "stderr",
          "text": [
            "100%|██████████| 48/48 [00:15<00:00,  3.07it/s]\n"
          ]
        },
        {
          "output_type": "stream",
          "name": "stdout",
          "text": [
            "\t훈련 데이터 손실값 : 0.2822\n",
            "\t검증 데이터 손실값 : 0.5170\n",
            "\t정확도 : 0.8221 / 재현율 : 0.7912 / F1 점수 : 0.7961\n",
            "\t### 검증 데이터 손실값 감소 (10.2904 --> 8.2714). 모델 저장\n",
            "에폭 [4/20] \n",
            "-----------------------------\n"
          ]
        },
        {
          "output_type": "stream",
          "name": "stderr",
          "text": [
            "100%|██████████| 48/48 [00:15<00:00,  3.11it/s]\n"
          ]
        },
        {
          "output_type": "stream",
          "name": "stdout",
          "text": [
            "\t훈련 데이터 손실값 : 0.1647\n",
            "\t검증 데이터 손실값 : 0.5658\n",
            "\t정확도 : 0.8419 / 재현율 : 0.8096 / F1 점수 : 0.8268\n",
            "에폭 [5/20] \n",
            "-----------------------------\n"
          ]
        },
        {
          "output_type": "stream",
          "name": "stderr",
          "text": [
            "100%|██████████| 48/48 [00:18<00:00,  2.63it/s]\n"
          ]
        },
        {
          "output_type": "stream",
          "name": "stdout",
          "text": [
            "\t훈련 데이터 손실값 : 0.1464\n",
            "\t검증 데이터 손실값 : 0.3833\n",
            "\t정확도 : 0.8933 / 재현율 : 0.8683 / F1 점수 : 0.8773\n",
            "\t### 검증 데이터 손실값 감소 (8.2714 --> 6.1323). 모델 저장\n",
            "에폭 [6/20] \n",
            "-----------------------------\n"
          ]
        },
        {
          "output_type": "stream",
          "name": "stderr",
          "text": [
            "100%|██████████| 48/48 [00:15<00:00,  3.09it/s]\n"
          ]
        },
        {
          "output_type": "stream",
          "name": "stdout",
          "text": [
            "\t훈련 데이터 손실값 : 0.1058\n",
            "\t검증 데이터 손실값 : 0.2734\n",
            "\t정확도 : 0.9209 / 재현율 : 0.8868 / F1 점수 : 0.9036\n",
            "\t### 검증 데이터 손실값 감소 (6.1323 --> 4.3748). 모델 저장\n",
            "에폭 [7/20] \n",
            "-----------------------------\n"
          ]
        },
        {
          "output_type": "stream",
          "name": "stderr",
          "text": [
            "100%|██████████| 48/48 [00:15<00:00,  3.09it/s]\n"
          ]
        },
        {
          "output_type": "stream",
          "name": "stdout",
          "text": [
            "\t훈련 데이터 손실값 : 0.0340\n",
            "\t검증 데이터 손실값 : 0.2986\n",
            "\t정확도 : 0.9111 / 재현율 : 0.9075 / F1 점수 : 0.8967\n",
            "에폭 [8/20] \n",
            "-----------------------------\n"
          ]
        },
        {
          "output_type": "stream",
          "name": "stderr",
          "text": [
            "100%|██████████| 48/48 [00:16<00:00,  2.83it/s]\n"
          ]
        },
        {
          "output_type": "stream",
          "name": "stdout",
          "text": [
            "\t훈련 데이터 손실값 : 0.0354\n",
            "\t검증 데이터 손실값 : 0.2392\n",
            "\t정확도 : 0.9348 / 재현율 : 0.9256 / F1 점수 : 0.9251\n",
            "\t### 검증 데이터 손실값 감소 (4.3748 --> 3.8273). 모델 저장\n",
            "에폭 [9/20] \n",
            "-----------------------------\n"
          ]
        },
        {
          "output_type": "stream",
          "name": "stderr",
          "text": [
            "100%|██████████| 48/48 [00:17<00:00,  2.79it/s]\n"
          ]
        },
        {
          "output_type": "stream",
          "name": "stdout",
          "text": [
            "\t훈련 데이터 손실값 : 0.0328\n",
            "\t검증 데이터 손실값 : 0.2419\n",
            "\t정확도 : 0.9368 / 재현율 : 0.9175 / F1 점수 : 0.9271\n",
            "에폭 [10/20] \n",
            "-----------------------------\n"
          ]
        },
        {
          "output_type": "stream",
          "name": "stderr",
          "text": [
            "100%|██████████| 48/48 [00:15<00:00,  3.12it/s]\n"
          ]
        },
        {
          "output_type": "stream",
          "name": "stdout",
          "text": [
            "\t훈련 데이터 손실값 : 0.0286\n",
            "\t검증 데이터 손실값 : 0.2727\n",
            "\t정확도 : 0.9328 / 재현율 : 0.9093 / F1 점수 : 0.9232\n",
            "에폭 [11/20] \n",
            "-----------------------------\n"
          ]
        },
        {
          "output_type": "stream",
          "name": "stderr",
          "text": [
            "100%|██████████| 48/48 [00:15<00:00,  3.09it/s]\n"
          ]
        },
        {
          "output_type": "stream",
          "name": "stdout",
          "text": [
            "\t훈련 데이터 손실값 : 0.0211\n",
            "\t검증 데이터 손실값 : 0.2347\n",
            "\t정확도 : 0.9328 / 재현율 : 0.9312 / F1 점수 : 0.9262\n",
            "\t### 검증 데이터 손실값 감소 (3.8273 --> 3.7545). 모델 저장\n",
            "에폭 [12/20] \n",
            "-----------------------------\n"
          ]
        },
        {
          "output_type": "stream",
          "name": "stderr",
          "text": [
            "100%|██████████| 48/48 [00:15<00:00,  3.09it/s]\n"
          ]
        },
        {
          "output_type": "stream",
          "name": "stdout",
          "text": [
            "\t훈련 데이터 손실값 : 0.0170\n",
            "\t검증 데이터 손실값 : 0.2232\n",
            "\t정확도 : 0.9427 / 재현율 : 0.9398 / F1 점수 : 0.9384\n",
            "\t### 검증 데이터 손실값 감소 (3.7545 --> 3.5711). 모델 저장\n",
            "에폭 [13/20] \n",
            "-----------------------------\n"
          ]
        },
        {
          "output_type": "stream",
          "name": "stderr",
          "text": [
            "100%|██████████| 48/48 [00:20<00:00,  2.32it/s]\n"
          ]
        },
        {
          "output_type": "stream",
          "name": "stdout",
          "text": [
            "\t훈련 데이터 손실값 : 0.0108\n",
            "\t검증 데이터 손실값 : 0.2207\n",
            "\t정확도 : 0.9387 / 재현율 : 0.9320 / F1 점수 : 0.9305\n",
            "\t### 검증 데이터 손실값 감소 (3.5711 --> 3.5317). 모델 저장\n",
            "에폭 [14/20] \n",
            "-----------------------------\n"
          ]
        },
        {
          "output_type": "stream",
          "name": "stderr",
          "text": [
            "100%|██████████| 48/48 [00:18<00:00,  2.53it/s]\n"
          ]
        },
        {
          "output_type": "stream",
          "name": "stdout",
          "text": [
            "\t훈련 데이터 손실값 : 0.0083\n",
            "\t검증 데이터 손실값 : 0.2095\n",
            "\t정확도 : 0.9427 / 재현율 : 0.9353 / F1 점수 : 0.9327\n",
            "\t### 검증 데이터 손실값 감소 (3.5317 --> 3.3527). 모델 저장\n",
            "에폭 [15/20] \n",
            "-----------------------------\n"
          ]
        },
        {
          "output_type": "stream",
          "name": "stderr",
          "text": [
            "100%|██████████| 48/48 [00:24<00:00,  1.92it/s]\n"
          ]
        },
        {
          "output_type": "stream",
          "name": "stdout",
          "text": [
            "\t훈련 데이터 손실값 : 0.0198\n",
            "\t검증 데이터 손실값 : 0.1967\n",
            "\t정확도 : 0.9486 / 재현율 : 0.9407 / F1 점수 : 0.9455\n",
            "\t### 검증 데이터 손실값 감소 (3.3527 --> 3.1471). 모델 저장\n",
            "에폭 [16/20] \n",
            "-----------------------------\n"
          ]
        },
        {
          "output_type": "stream",
          "name": "stderr",
          "text": [
            "100%|██████████| 48/48 [00:20<00:00,  2.39it/s]\n"
          ]
        },
        {
          "output_type": "stream",
          "name": "stdout",
          "text": [
            "\t훈련 데이터 손실값 : 0.0104\n",
            "\t검증 데이터 손실값 : 0.1987\n",
            "\t정확도 : 0.9506 / 재현율 : 0.9427 / F1 점수 : 0.9434\n",
            "에폭 [17/20] \n",
            "-----------------------------\n"
          ]
        },
        {
          "output_type": "stream",
          "name": "stderr",
          "text": [
            "100%|██████████| 48/48 [00:17<00:00,  2.78it/s]\n"
          ]
        },
        {
          "output_type": "stream",
          "name": "stdout",
          "text": [
            "\t훈련 데이터 손실값 : 0.0096\n",
            "\t검증 데이터 손실값 : 0.1986\n",
            "\t정확도 : 0.9466 / 재현율 : 0.9349 / F1 점수 : 0.9395\n",
            "에폭 [18/20] \n",
            "-----------------------------\n"
          ]
        },
        {
          "output_type": "stream",
          "name": "stderr",
          "text": [
            "100%|██████████| 48/48 [00:15<00:00,  3.11it/s]\n"
          ]
        },
        {
          "output_type": "stream",
          "name": "stdout",
          "text": [
            "\t훈련 데이터 손실값 : 0.0067\n",
            "\t검증 데이터 손실값 : 0.1984\n",
            "\t정확도 : 0.9466 / 재현율 : 0.9389 / F1 점수 : 0.9399\n",
            "에폭 [19/20] \n",
            "-----------------------------\n"
          ]
        },
        {
          "output_type": "stream",
          "name": "stderr",
          "text": [
            "100%|██████████| 48/48 [00:15<00:00,  3.09it/s]\n"
          ]
        },
        {
          "output_type": "stream",
          "name": "stdout",
          "text": [
            "\t훈련 데이터 손실값 : 0.0047\n",
            "\t검증 데이터 손실값 : 0.1954\n",
            "\t정확도 : 0.9506 / 재현율 : 0.9428 / F1 점수 : 0.9434\n",
            "\t### 검증 데이터 손실값 감소 (3.1471 --> 3.1257). 모델 저장\n",
            "에폭 [20/20] \n",
            "-----------------------------\n"
          ]
        },
        {
          "output_type": "stream",
          "name": "stderr",
          "text": [
            "100%|██████████| 48/48 [00:15<00:00,  3.17it/s]\n"
          ]
        },
        {
          "output_type": "stream",
          "name": "stdout",
          "text": [
            "\t훈련 데이터 손실값 : 0.0056\n",
            "\t검증 데이터 손실값 : 0.1954\n",
            "\t정확도 : 0.9506 / 재현율 : 0.9428 / F1 점수 : 0.9434\n"
          ]
        },
        {
          "output_type": "execute_result",
          "data": {
            "text/plain": [
              "<All keys matched successfully>"
            ]
          },
          "metadata": {},
          "execution_count": 19
        }
      ]
    },
    {
      "cell_type": "code",
      "source": [
        "# 모델 b0 -> 19번 에폭에서 모델 저장"
      ],
      "metadata": {
        "id": "M3B_JwjY9Z-I"
      },
      "execution_count": null,
      "outputs": []
    },
    {
      "cell_type": "code",
      "source": [
        "result0 = predict(model=efficientnet_b0, loader_test=test_loader, return_true=True)\n",
        "true_list = result0[0]\n",
        "preds_list0 = result0[1]\n",
        "\n",
        "print(true_list)\n",
        "print(preds_list0)"
      ],
      "metadata": {
        "id": "7A2B214xiIS7",
        "colab": {
          "base_uri": "https://localhost:8080/"
        },
        "outputId": "f40ea7e6-0d0b-4487-f632-1de205a55608"
      },
      "execution_count": null,
      "outputs": [
        {
          "output_type": "stream",
          "name": "stdout",
          "text": [
            "[2, 1, 2, 1, 0, 0, 2, 4, 1, 5, 4, 5, 4, 2, 3, 1, 3, 1, 2, 4, 3, 2, 1, 1, 3, 2, 3, 1, 1, 1, 4, 2, 3, 3, 4, 3, 3, 4, 3, 0, 1, 4, 0, 0, 2, 0, 1, 1, 0, 3, 2, 4, 3, 1, 0, 0, 1, 1, 3, 2, 3, 3, 2, 3, 0, 2, 0, 3, 1, 3, 3, 4, 4, 0, 4, 3, 0, 1, 1, 2, 2, 2, 4, 4, 4, 0, 0, 0, 0, 1, 3, 2, 3, 1, 2, 0, 4, 3, 0, 0, 2, 0, 4, 4, 3, 0, 3, 1, 3, 0, 0, 4, 4, 5, 4, 3, 4, 0, 0, 5, 3, 3, 0, 1, 3, 1, 1, 3, 1, 2, 4, 0, 0, 2, 0, 0, 3, 3, 2, 2, 3, 3, 4, 0, 4, 1, 4, 0, 1, 2, 1, 0, 3, 1, 0, 2, 3, 2, 3, 2, 1, 3, 3, 1, 5, 3, 0, 4, 1, 3, 0, 3, 3, 4, 0, 0, 4, 3, 0, 3, 2, 4, 2, 0, 3, 0, 1, 0, 1, 1, 3, 3, 0, 3, 4, 0, 1, 3, 1, 4, 4, 3, 0, 5, 1, 1, 3, 0, 2, 0, 4, 4, 2, 3, 2, 2, 0, 1, 1, 0, 5, 1, 2, 0, 3, 3, 0, 5, 1, 4, 4, 3, 3, 2, 4, 0, 1, 1, 4, 0, 2, 3, 0, 4, 0, 3, 0, 3, 4, 1, 1, 4, 4, 2, 0, 2, 4, 3, 1, 0, 0, 3, 3, 1, 3, 2, 3, 5, 3, 0, 3, 0, 1, 2, 0, 2, 3, 2, 0, 1, 1, 1, 2, 4, 0, 2, 2, 0, 2, 2, 3, 3, 1, 5, 1, 4, 4, 0, 4, 2, 2, 0, 4, 1, 2, 4, 4, 3, 0, 5, 0, 2, 1, 1, 3, 4, 4, 1, 4, 2, 1, 3, 3, 3, 5, 0, 2, 2, 4, 0, 1, 3, 0, 4, 2, 0, 4, 2, 1, 4, 3, 1, 3, 1, 3, 1, 1, 2, 0, 2, 1, 3, 4, 0, 1, 1, 1, 4, 4, 4, 1, 3, 1, 4, 1, 1, 1, 3, 1, 4, 4, 3, 1, 4, 3, 1, 3, 3, 2, 0, 1, 3, 0, 3, 0, 4, 1, 3, 0, 4, 4, 0, 2, 1, 4, 3, 1, 3, 3, 1, 5, 0, 3, 2, 1, 1, 0, 2, 0, 1, 4, 1, 3, 4, 3, 3, 3, 2, 0, 3, 4, 4, 1, 0, 3, 0, 3, 3, 4, 3, 4, 2, 3, 3, 4, 2, 0, 1, 0, 1, 3, 3, 2, 4, 2, 5, 1, 2, 5, 3, 0, 3, 4, 3, 4, 3, 2, 5, 2, 0, 4, 2, 4, 4, 5, 4, 2, 0, 0, 0, 1, 1, 3, 1, 1, 1, 1, 0, 4, 3, 1, 0, 1, 3, 2, 4, 3, 0, 3, 2, 1, 2, 3, 2, 4, 3, 2, 3, 1, 3, 4, 0, 3, 5, 2]\n",
            "[2, 1, 2, 4, 0, 0, 2, 4, 1, 5, 4, 5, 4, 2, 3, 1, 3, 1, 2, 4, 3, 2, 1, 1, 3, 2, 0, 1, 1, 4, 4, 2, 3, 3, 4, 3, 3, 4, 3, 0, 1, 4, 0, 0, 2, 0, 1, 1, 0, 3, 2, 4, 3, 1, 0, 0, 2, 1, 3, 2, 3, 3, 2, 3, 0, 2, 0, 3, 1, 3, 3, 4, 4, 0, 4, 3, 0, 1, 1, 2, 2, 2, 4, 4, 4, 0, 0, 0, 0, 1, 3, 2, 3, 1, 2, 3, 1, 3, 0, 0, 2, 0, 4, 4, 3, 0, 3, 1, 3, 0, 0, 4, 4, 5, 4, 3, 4, 0, 0, 2, 3, 3, 0, 1, 2, 1, 1, 3, 1, 2, 4, 0, 0, 2, 0, 0, 3, 3, 2, 2, 3, 3, 4, 0, 4, 1, 4, 0, 1, 2, 1, 0, 3, 1, 0, 2, 3, 2, 3, 2, 1, 3, 3, 1, 5, 3, 0, 4, 2, 3, 0, 3, 3, 4, 0, 0, 4, 3, 0, 3, 2, 4, 2, 0, 3, 0, 1, 0, 1, 4, 3, 3, 0, 3, 4, 0, 1, 3, 3, 4, 3, 3, 0, 2, 1, 1, 3, 0, 2, 0, 4, 4, 2, 3, 2, 2, 0, 1, 4, 0, 2, 1, 2, 0, 3, 3, 0, 5, 1, 4, 4, 3, 3, 2, 4, 0, 1, 1, 4, 0, 2, 3, 0, 4, 0, 3, 0, 3, 4, 1, 1, 4, 4, 2, 0, 2, 4, 3, 1, 0, 0, 3, 3, 1, 3, 2, 3, 5, 3, 3, 3, 0, 1, 2, 0, 2, 3, 1, 3, 1, 1, 1, 2, 4, 0, 2, 2, 0, 2, 2, 3, 3, 1, 5, 1, 4, 4, 0, 4, 2, 2, 0, 4, 1, 2, 4, 4, 3, 0, 5, 0, 2, 1, 1, 3, 4, 4, 1, 4, 2, 1, 3, 3, 3, 5, 0, 2, 2, 4, 0, 1, 1, 0, 4, 2, 0, 4, 2, 1, 4, 3, 1, 3, 1, 3, 1, 1, 2, 0, 2, 1, 3, 4, 0, 1, 1, 1, 4, 4, 4, 1, 3, 1, 4, 1, 1, 1, 3, 1, 4, 4, 3, 1, 4, 3, 1, 3, 3, 2, 0, 4, 3, 0, 3, 0, 4, 1, 3, 0, 4, 4, 0, 2, 1, 4, 3, 1, 3, 3, 1, 5, 0, 3, 2, 1, 4, 0, 2, 0, 4, 4, 1, 3, 3, 3, 3, 3, 2, 0, 3, 1, 4, 2, 0, 3, 0, 3, 3, 4, 3, 4, 2, 3, 3, 4, 2, 0, 1, 0, 1, 3, 3, 1, 4, 2, 5, 1, 2, 5, 3, 3, 3, 4, 3, 4, 3, 2, 5, 2, 0, 2, 2, 4, 4, 5, 4, 2, 0, 0, 0, 1, 1, 3, 1, 1, 1, 2, 0, 4, 3, 1, 0, 1, 3, 2, 4, 3, 0, 3, 2, 1, 2, 3, 2, 4, 3, 2, 3, 1, 3, 4, 0, 3, 5, 5]\n"
          ]
        }
      ]
    },
    {
      "cell_type": "code",
      "source": [
        "print('#'*5, 'efficientnet-b0 모델 예측 결과 평가 점수', '#'*5)\n",
        "print(f'정확도 : {accuracy_score(true_list, preds_list0):.4f}')\n",
        "print(f'재현율 : {recall_score(true_list, preds_list0, average=\"macro\"): .4f}')\n",
        "print(f'F1 점수 : {f1_score(true_list, preds_list0, average=\"macro\"): .4f}')"
      ],
      "metadata": {
        "colab": {
          "base_uri": "https://localhost:8080/"
        },
        "id": "nK8Y5L0W48Sy",
        "outputId": "67d04058-0618-417e-ac44-a9a799915dcc"
      },
      "execution_count": null,
      "outputs": [
        {
          "output_type": "stream",
          "name": "stdout",
          "text": [
            "##### efficientnet-b0 모델 예측 결과 평가 점수 #####\n",
            "정확도 : 0.9406\n",
            "재현율 :  0.9258\n",
            "F1 점수 :  0.9313\n"
          ]
        }
      ]
    },
    {
      "cell_type": "code",
      "source": [],
      "metadata": {
        "id": "NDUq_Ye748mm"
      },
      "execution_count": null,
      "outputs": []
    },
    {
      "cell_type": "code",
      "source": [],
      "metadata": {
        "id": "KCdt5J6KiIN9"
      },
      "execution_count": null,
      "outputs": []
    },
    {
      "cell_type": "code",
      "source": [],
      "metadata": {
        "id": "Fdk9_wS-48qm"
      },
      "execution_count": null,
      "outputs": []
    },
    {
      "cell_type": "code",
      "source": [],
      "metadata": {
        "id": "GmhgZiPs48u3"
      },
      "execution_count": null,
      "outputs": []
    }
  ]
}
