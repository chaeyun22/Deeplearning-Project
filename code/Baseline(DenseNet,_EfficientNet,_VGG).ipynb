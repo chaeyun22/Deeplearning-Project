{
  "nbformat": 4,
  "nbformat_minor": 0,
  "metadata": {
    "colab": {
      "provenance": [],
      "gpuType": "T4",
      "include_colab_link": true
    },
    "kernelspec": {
      "name": "python3",
      "display_name": "Python 3"
    },
    "language_info": {
      "name": "python"
    },
    "accelerator": "GPU"
  },
  "cells": [
    {
      "cell_type": "markdown",
      "metadata": {
        "id": "view-in-github",
        "colab_type": "text"
      },
      "source": [
        "<a href=\"https://colab.research.google.com/github/chaeyun22/Deeplearning-Project/blob/main/Baseline(DenseNet%2C_EfficientNet%2C_VGG).ipynb\" target=\"_parent\"><img src=\"https://colab.research.google.com/assets/colab-badge.svg\" alt=\"Open In Colab\"/></a>"
      ]
    },
    {
      "cell_type": "code",
      "source": [
        "from google.colab import drive\n",
        "drive.mount('/content/drive')"
      ],
      "metadata": {
        "colab": {
          "base_uri": "https://localhost:8080/"
        },
        "id": "L5vRULZf-Mdg",
        "outputId": "a9954f80-ffba-4d86-f205-69d6ca606948"
      },
      "execution_count": 1,
      "outputs": [
        {
          "output_type": "stream",
          "name": "stdout",
          "text": [
            "Mounted at /content/drive\n"
          ]
        }
      ]
    },
    {
      "cell_type": "code",
      "execution_count": 2,
      "metadata": {
        "colab": {
          "base_uri": "https://localhost:8080/"
        },
        "id": "OZwDQm3B_1nO",
        "outputId": "15cf3173-dfae-4881-b0f0-a534acd8432b"
      },
      "outputs": [
        {
          "output_type": "stream",
          "name": "stdout",
          "text": [
            "PyTorch Version:  2.0.1+cu118\n",
            "Torchvision Version:  0.15.2+cu118\n"
          ]
        }
      ],
      "source": [
        "from __future__ import print_function\n",
        "from __future__ import division\n",
        "import torch\n",
        "import torch.nn as nn\n",
        "import torch.optim as optim\n",
        "import numpy as np\n",
        "import torchvision\n",
        "from torchvision import datasets, models, transforms\n",
        "import matplotlib.pyplot as plt\n",
        "import time\n",
        "import os\n",
        "import copy\n",
        "print(\"PyTorch Version: \",torch.__version__)\n",
        "print(\"Torchvision Version: \",torchvision.__version__)"
      ]
    },
    {
      "cell_type": "markdown",
      "source": [
        "## 데이터 전처리"
      ],
      "metadata": {
        "id": "oYaq5GGCuBEk"
      }
    },
    {
      "cell_type": "code",
      "source": [
        "# train, valid, test로 분리\n",
        "import os\n",
        "import torch\n",
        "import torchvision\n",
        "import torchvision.transforms as transforms\n",
        "from torch.utils.data import Subset, DataLoader\n",
        "import random\n",
        "\n",
        "# 데이터셋 디렉토리 경로\n",
        "dataset_dir = '/content/drive/MyDrive/garbage_images'\n",
        "\n",
        "# 클래스 레이블과 해당 폴더의 이미지 경로 가져오기\n",
        "class_labels = ['cardboard', 'glass', 'metal', 'paper', 'plastic', 'trash']\n",
        "image_paths = []\n",
        "\n",
        "for label in class_labels:\n",
        "    folder_path = os.path.join(dataset_dir, label)\n",
        "    images = os.listdir(folder_path)\n",
        "    images = [os.path.join(folder_path, image) for image in images]\n",
        "    image_paths.extend(images)\n",
        "\n",
        "# 전처리된 이미지 데이터와 클래스 레이블을 Tensor로 변환\n",
        "transform = transforms.Compose([\n",
        "    transforms.Resize((224, 224)),\n",
        "    transforms.ToTensor(),\n",
        "])\n",
        "\n",
        "# 전체 데이터셋을 로드\n",
        "dataset = torchvision.datasets.ImageFolder(dataset_dir, transform=transform)\n",
        "\n",
        "# 데이터셋을 train, test, valid로 나누기 위해 인덱스 생성\n",
        "num_data = len(dataset)\n",
        "indices = list(range(num_data))\n",
        "\n",
        "split_ratio = [0.6, 0.2, 0.2]  # train, test, valid 데이터셋의 비율\n",
        "\n",
        "random.shuffle(indices)  # 인덱스를 무작위로 섞음\n",
        "\n",
        "train_split = int(num_data * split_ratio[0])\n",
        "test_split = int(num_data * (split_ratio[0] + split_ratio[1]))\n",
        "\n",
        "train_indices = indices[:train_split]\n",
        "test_indices = indices[train_split:test_split]\n",
        "valid_indices = indices[test_split:]\n",
        "\n",
        "# Subset을 사용하여 train, test, valid 데이터셋 생성\n",
        "train_dataset = Subset(dataset, train_indices)\n",
        "test_dataset = Subset(dataset, test_indices)\n",
        "valid_dataset = Subset(dataset, valid_indices)\n",
        "\n",
        "# 데이터로더 생성\n",
        "batch_size = 32\n",
        "train_loader = DataLoader(train_dataset, batch_size=batch_size, shuffle=True)\n",
        "test_loader = DataLoader(test_dataset, batch_size=batch_size, shuffle=False)\n",
        "valid_loader = DataLoader(valid_dataset, batch_size=batch_size, shuffle=False)"
      ],
      "metadata": {
        "id": "89pJizHYAmFe"
      },
      "execution_count": 3,
      "outputs": []
    },
    {
      "cell_type": "code",
      "source": [
        "# for images, labels in valid_loader:\n",
        "#     print(labels)"
      ],
      "metadata": {
        "id": "D8H26uAzLft5"
      },
      "execution_count": null,
      "outputs": []
    },
    {
      "cell_type": "markdown",
      "source": [
        "## DenseNet"
      ],
      "metadata": {
        "id": "qtjES39Z2woJ"
      }
    },
    {
      "cell_type": "code",
      "source": [
        "import torch\n",
        "import torch.nn as nn\n",
        "import torch.optim as optim\n",
        "from torchvision.models import densenet121\n",
        "\n",
        "# DenseNet 모델 불러오기\n",
        "model = densenet121(pretrained=True)\n",
        "num_classes = len(class_labels)\n",
        "num_features = model.classifier.in_features\n",
        "model.classifier = nn.Linear(num_features, num_classes)\n",
        "\n",
        "for param in model.parameters():\n",
        "    param.requires_grad = True\n",
        "\n",
        "# 손실 함수와 옵티마이저 정의\n",
        "criterion = nn.CrossEntropyLoss()\n",
        "optimizer = optim.Adam(model.parameters(), lr=0.001)"
      ],
      "metadata": {
        "colab": {
          "base_uri": "https://localhost:8080/"
        },
        "id": "GHKLAJqUAmMt",
        "outputId": "20539788-7ac1-4140-86e8-d92c0a95a396"
      },
      "execution_count": null,
      "outputs": [
        {
          "output_type": "stream",
          "name": "stderr",
          "text": [
            "/usr/local/lib/python3.10/dist-packages/torchvision/models/_utils.py:208: UserWarning: The parameter 'pretrained' is deprecated since 0.13 and may be removed in the future, please use 'weights' instead.\n",
            "  warnings.warn(\n",
            "/usr/local/lib/python3.10/dist-packages/torchvision/models/_utils.py:223: UserWarning: Arguments other than a weight enum or `None` for 'weights' are deprecated since 0.13 and may be removed in the future. The current behavior is equivalent to passing `weights=DenseNet121_Weights.IMAGENET1K_V1`. You can also use `weights=DenseNet121_Weights.DEFAULT` to get the most up-to-date weights.\n",
            "  warnings.warn(msg)\n",
            "Downloading: \"https://download.pytorch.org/models/densenet121-a639ec97.pth\" to /root/.cache/torch/hub/checkpoints/densenet121-a639ec97.pth\n",
            "100%|██████████| 30.8M/30.8M [00:00<00:00, 88.7MB/s]\n"
          ]
        }
      ]
    },
    {
      "cell_type": "code",
      "source": [
        "# 모델 학습 함수\n",
        "def train(model, train_loader, criterion, optimizer):\n",
        "    model.train()\n",
        "    train_loss = 0.0\n",
        "    correct = 0\n",
        "    total = 0\n",
        "\n",
        "    for images, labels in train_loader:\n",
        "        images = images.cuda()\n",
        "        labels = labels.cuda()\n",
        "\n",
        "        optimizer.zero_grad()\n",
        "        outputs = model(images)\n",
        "        loss = criterion(outputs, labels)\n",
        "        loss.backward()\n",
        "        optimizer.step()\n",
        "\n",
        "        train_loss += loss.item()\n",
        "        _, predicted = outputs.max(1)\n",
        "        total += labels.size(0)\n",
        "        correct += predicted.eq(labels).sum().item()\n",
        "\n",
        "    train_loss /= len(train_loader)\n",
        "    train_acc = correct / total\n",
        "\n",
        "    return train_loss, train_acc\n",
        "\n",
        "# 모델 평가 함수\n",
        "def evaluate(model, data_loader, criterion):\n",
        "    model.eval()\n",
        "    eval_loss = 0.0\n",
        "    correct = 0\n",
        "    total = 0\n",
        "\n",
        "    with torch.no_grad():\n",
        "        for images, labels in data_loader:\n",
        "            images = images.cuda()\n",
        "            labels = labels.cuda()\n",
        "\n",
        "            outputs = model(images)\n",
        "            loss = criterion(outputs, labels)\n",
        "\n",
        "            eval_loss += loss.item()\n",
        "            _, predicted = outputs.max(1)\n",
        "            total += labels.size(0)\n",
        "            correct += predicted.eq(labels).sum().item()\n",
        "\n",
        "    eval_loss /= len(data_loader)\n",
        "    eval_acc = correct / total\n",
        "\n",
        "    return eval_loss, eval_acc"
      ],
      "metadata": {
        "id": "kNTrj037AmTs"
      },
      "execution_count": null,
      "outputs": []
    },
    {
      "cell_type": "code",
      "source": [
        "device = torch.device('cuda' if torch.cuda.is_available() else 'cpu')\n",
        "model = model.to(device)\n",
        "\n",
        "num_epochs = 10\n",
        "train_losses = []\n",
        "train_accs = []\n",
        "eval_losses = []\n",
        "eval_accs = []\n",
        "\n",
        "for epoch in range(num_epochs):\n",
        "    print(f'Epoch {epoch+1}/{num_epochs}')\n",
        "    # train으로 학습, valid로 평가\n",
        "    train_loss, train_acc = train(model, train_loader, criterion, optimizer)\n",
        "    eval_loss, eval_acc = evaluate(model, valid_loader, criterion)\n",
        "\n",
        "    # 그래프 그리기 위한 append\n",
        "    train_losses.append(train_loss)\n",
        "    train_accs.append(train_acc)\n",
        "    eval_losses.append(eval_loss)\n",
        "    eval_accs.append(eval_acc)\n",
        "\n",
        "    print(f'Train Loss: {train_loss:.4f} | Train Acc: {train_acc:.4f}')\n",
        "    print(f'Eval Loss: {eval_loss:.4f} | Eval Acc: {eval_acc:.4f}')\n",
        "    print('---------------------------------------')\n",
        "\n",
        "# 테스트 데이터로 모델 평가\n",
        "test_loss, test_acc = evaluate(model, test_loader, criterion)\n",
        "print(f'Test Loss: {test_loss:.4f} | Test Acc: {test_acc:.4f}')"
      ],
      "metadata": {
        "colab": {
          "base_uri": "https://localhost:8080/"
        },
        "id": "kKdgPP2JAmao",
        "outputId": "385df8e9-4906-4ab9-f2c8-8e1985a9778b"
      },
      "execution_count": null,
      "outputs": [
        {
          "output_type": "stream",
          "name": "stdout",
          "text": [
            "Epoch 1/10\n",
            "Train Loss: 0.8538 | Train Acc: 0.6959\n",
            "Eval Loss: 1.7869 | Eval Acc: 0.4704\n",
            "---------------------------------------\n",
            "Epoch 2/10\n",
            "Train Loss: 0.5516 | Train Acc: 0.8120\n",
            "Eval Loss: 3.1174 | Eval Acc: 0.3399\n",
            "---------------------------------------\n",
            "Epoch 3/10\n",
            "Train Loss: 0.3920 | Train Acc: 0.8648\n",
            "Eval Loss: 1.0946 | Eval Acc: 0.6383\n",
            "---------------------------------------\n",
            "Epoch 4/10\n",
            "Train Loss: 0.3464 | Train Acc: 0.8839\n",
            "Eval Loss: 1.5802 | Eval Acc: 0.5277\n",
            "---------------------------------------\n",
            "Epoch 5/10\n",
            "Train Loss: 0.2913 | Train Acc: 0.8925\n",
            "Eval Loss: 0.8894 | Eval Acc: 0.7312\n",
            "---------------------------------------\n",
            "Epoch 6/10\n",
            "Train Loss: 0.2295 | Train Acc: 0.9248\n",
            "Eval Loss: 0.7721 | Eval Acc: 0.7431\n",
            "---------------------------------------\n",
            "Epoch 7/10\n",
            "Train Loss: 0.2384 | Train Acc: 0.9268\n",
            "Eval Loss: 0.8471 | Eval Acc: 0.7273\n",
            "---------------------------------------\n",
            "Epoch 8/10\n",
            "Train Loss: 0.2635 | Train Acc: 0.9136\n",
            "Eval Loss: 0.7684 | Eval Acc: 0.7708\n",
            "---------------------------------------\n",
            "Epoch 9/10\n",
            "Train Loss: 0.2580 | Train Acc: 0.9090\n",
            "Eval Loss: 0.8819 | Eval Acc: 0.7332\n",
            "---------------------------------------\n",
            "Epoch 10/10\n",
            "Train Loss: 0.1898 | Train Acc: 0.9380\n",
            "Eval Loss: 0.8626 | Eval Acc: 0.7925\n",
            "---------------------------------------\n",
            "Test Loss: 0.9568 | Test Acc: 0.7604\n"
          ]
        }
      ]
    },
    {
      "cell_type": "code",
      "source": [
        "# Train loss 그래프 출력\n",
        "plt.figure(figsize=(10, 5))\n",
        "plt.plot(range(1, num_epochs+1), train_losses, label='Train Loss')\n",
        "plt.plot"
      ],
      "metadata": {
        "colab": {
          "base_uri": "https://localhost:8080/",
          "height": 463
        },
        "id": "Q5JNMn9DAmg_",
        "outputId": "0b252ca7-7429-48f1-9aae-fd8c0ab49666"
      },
      "execution_count": null,
      "outputs": [
        {
          "output_type": "execute_result",
          "data": {
            "text/plain": [
              "<function matplotlib.pyplot.plot(*args, scalex=True, scaley=True, data=None, **kwargs)>"
            ]
          },
          "metadata": {},
          "execution_count": 7
        },
        {
          "output_type": "display_data",
          "data": {
            "text/plain": [
              "<Figure size 1000x500 with 1 Axes>"
            ],
            "image/png": "[encoded data removed]"
          },
          "metadata": {}
        }
      ]
    },
    {
      "cell_type": "markdown",
      "source": [
        "## EfficientNet"
      ],
      "metadata": {
        "id": "8PUPixNS4fE8"
      }
    },
    {
      "cell_type": "code",
      "source": [
        "import torch\n",
        "import torch.nn as nn\n",
        "import torch.optim as optim\n",
        "from torchvision.models import efficientnet_b0\n",
        "import matplotlib.pyplot as plt\n",
        "\n",
        "# EfficientNet 모델 불러오기\n",
        "model = efficientnet_b0(pretrained=True)\n",
        "num_classes = len(class_labels)\n",
        "num_features = model.classifier[1].in_features\n",
        "model.classifier[1] = nn.Linear(num_features, num_classes)\n",
        "\n",
        "for param in model.parameters():\n",
        "    param.requires_grad = True\n",
        "\n",
        "# 손실 함수와 옵티마이저 정의\n",
        "criterion = nn.CrossEntropyLoss()\n",
        "optimizer = optim.Adam(model.parameters(), lr=0.001)"
      ],
      "metadata": {
        "colab": {
          "base_uri": "https://localhost:8080/"
        },
        "id": "G0CRE5VzE_E1",
        "outputId": "b75646c5-0c8e-4efc-ceec-56e10a496e02"
      },
      "execution_count": null,
      "outputs": [
        {
          "output_type": "stream",
          "name": "stderr",
          "text": [
            "/usr/local/lib/python3.10/dist-packages/torchvision/models/_utils.py:223: UserWarning: Arguments other than a weight enum or `None` for 'weights' are deprecated since 0.13 and may be removed in the future. The current behavior is equivalent to passing `weights=EfficientNet_B0_Weights.IMAGENET1K_V1`. You can also use `weights=EfficientNet_B0_Weights.DEFAULT` to get the most up-to-date weights.\n",
            "  warnings.warn(msg)\n",
            "Downloading: \"https://download.pytorch.org/models/efficientnet_b0_rwightman-3dd342df.pth\" to /root/.cache/torch/hub/checkpoints/efficientnet_b0_rwightman-3dd342df.pth\n",
            "100%|██████████| 20.5M/20.5M [00:00<00:00, 81.5MB/s]\n"
          ]
        }
      ]
    },
    {
      "cell_type": "code",
      "source": [
        "device = torch.device('cuda' if torch.cuda.is_available() else 'cpu')\n",
        "model = model.to(device)\n",
        "\n",
        "num_epochs = 10\n",
        "train_losses = []\n",
        "train_accs = []\n",
        "eval_losses = []\n",
        "eval_accs = []\n",
        "\n",
        "for epoch in range(num_epochs):\n",
        "    print(f'Epoch {epoch+1}/{num_epochs}')\n",
        "    # train으로 학습, valid로 평가\n",
        "    train_loss, train_acc = train(model, train_loader, criterion, optimizer)\n",
        "    eval_loss, eval_acc = evaluate(model, valid_loader, criterion)\n",
        "    # 그래프 그리기 위한 append\n",
        "    train_losses.append(train_loss)\n",
        "    train_accs.append(train_acc)\n",
        "    eval_losses.append(eval_loss)\n",
        "    eval_accs.append(eval_acc)\n",
        "\n",
        "    print(f'Train Loss: {train_loss:.4f} | Train Acc: {train_acc:.4f}')\n",
        "    # print(f'Eval Loss: {eval_loss:.4f} | Eval Acc: {eval_acc:.4f}')\n",
        "    print(f'Eval Loss: {eval_loss:.4f}')\n",
        "    print('---------------------------------------')\n",
        "\n",
        "# 테스트 데이터로 모델 평가\n",
        "test_loss, test_acc = evaluate(model, test_loader, criterion)\n",
        "print(f'Test Loss: {test_loss:.4f} | Test Acc: {test_acc:.4f}')"
      ],
      "metadata": {
        "colab": {
          "base_uri": "https://localhost:8080/"
        },
        "id": "c11woHlOE_MU",
        "outputId": "d330ed96-59b4-4173-d9bc-e53269300abb"
      },
      "execution_count": null,
      "outputs": [
        {
          "output_type": "stream",
          "name": "stdout",
          "text": [
            "Epoch 1/10\n",
            "Train Loss: 0.7385 | Train Acc: 0.7487\n",
            "Eval Loss: 0.6419\n",
            "---------------------------------------\n",
            "Epoch 2/10\n",
            "Train Loss: 0.3295 | Train Acc: 0.8951\n",
            "Eval Loss: 0.4435\n",
            "---------------------------------------\n",
            "Epoch 3/10\n",
            "Train Loss: 0.1958 | Train Acc: 0.9360\n",
            "Eval Loss: 0.5113\n",
            "---------------------------------------\n",
            "Epoch 4/10\n",
            "Train Loss: 0.1558 | Train Acc: 0.9459\n",
            "Eval Loss: 0.4237\n",
            "---------------------------------------\n",
            "Epoch 5/10\n",
            "Train Loss: 0.1585 | Train Acc: 0.9466\n",
            "Eval Loss: 0.4016\n",
            "---------------------------------------\n",
            "Epoch 6/10\n",
            "Train Loss: 0.1766 | Train Acc: 0.9406\n",
            "Eval Loss: 0.5125\n",
            "---------------------------------------\n",
            "Epoch 7/10\n",
            "Train Loss: 0.1265 | Train Acc: 0.9631\n",
            "Eval Loss: 0.3402\n",
            "---------------------------------------\n",
            "Epoch 8/10\n",
            "Train Loss: 0.1040 | Train Acc: 0.9677\n",
            "Eval Loss: 0.3393\n",
            "---------------------------------------\n",
            "Epoch 9/10\n",
            "Train Loss: 0.0720 | Train Acc: 0.9802\n",
            "Eval Loss: 0.3339\n",
            "---------------------------------------\n",
            "Epoch 10/10\n",
            "Train Loss: 0.0836 | Train Acc: 0.9730\n",
            "Eval Loss: 0.4506\n",
            "---------------------------------------\n",
            "Test Loss: 0.5894 | Test Acc: 0.8653\n"
          ]
        }
      ]
    },
    {
      "cell_type": "code",
      "source": [
        "# Train loss 그래프 출력\n",
        "plt.figure(figsize=(10, 5))\n",
        "plt.plot(range(1, num_epochs+1), train_losses, label='Train Loss')\n",
        "plt.plot"
      ],
      "metadata": {
        "colab": {
          "base_uri": "https://localhost:8080/",
          "height": 463
        },
        "id": "yM9bdiLoE_St",
        "outputId": "beb0003f-4991-4f00-bb14-b137bc470fb1"
      },
      "execution_count": null,
      "outputs": [
        {
          "output_type": "execute_result",
          "data": {
            "text/plain": [
              "<function matplotlib.pyplot.plot(*args, scalex=True, scaley=True, data=None, **kwargs)>"
            ]
          },
          "metadata": {},
          "execution_count": 10
        },
        {
          "output_type": "display_data",
          "data": {
            "text/plain": [
              "<Figure size 1000x500 with 1 Axes>"
            ],
            "image/png": "[encoded data removed]"
          },
          "metadata": {}
        }
      ]
    },
    {
      "cell_type": "code",
      "source": [],
      "metadata": {
        "id": "Z936OrhFAmor"
      },
      "execution_count": null,
      "outputs": []
    },
    {
      "cell_type": "markdown",
      "source": [
        "## VGG"
      ],
      "metadata": {
        "id": "8zDwYYwXH7KY"
      }
    },
    {
      "cell_type": "code",
      "source": [
        "import torch\n",
        "import torch.nn as nn\n",
        "import torch.optim as optim\n",
        "from torchvision.models import vgg19\n",
        "import matplotlib.pyplot as plt\n",
        "\n",
        "# VGG 모델 불러오기\n",
        "model = vgg19(pretrained=True)\n",
        "num_classes = len(class_labels)\n",
        "num_features = model.classifier[6].in_features\n",
        "model.classifier[6] = nn.Linear(num_features, num_classes)\n",
        "\n",
        "for param in model.parameters():\n",
        "    param.requires_grad = True\n",
        "\n",
        "# 손실 함수와 옵티마이저 정의\n",
        "criterion = nn.CrossEntropyLoss()\n",
        "optimizer = optim.Adam(model.parameters(), lr=0.001)"
      ],
      "metadata": {
        "id": "L9rsOIxcHyhi"
      },
      "execution_count": null,
      "outputs": []
    },
    {
      "cell_type": "code",
      "source": [
        "device = torch.device('cuda' if torch.cuda.is_available() else 'cpu')\n",
        "model = model.to(device)\n",
        "\n",
        "num_epochs = 10\n",
        "train_losses = []\n",
        "train_accs = []\n",
        "eval_losses = []\n",
        "eval_accs = []\n",
        "\n",
        "for epoch in range(num_epochs):\n",
        "    print(f'Epoch {epoch+1}/{num_epochs}')\n",
        "    # train으로 학습, valid로 평가\n",
        "    train_loss, train_acc = train(model, train_loader, criterion, optimizer)\n",
        "    eval_loss, eval_acc = evaluate(model, valid_loader, criterion)\n",
        "    # 그래프 그리기 위한 append\n",
        "    train_losses.append(train_loss)\n",
        "    train_accs.append(train_acc)\n",
        "    eval_losses.append(eval_loss)\n",
        "    eval_accs.append(eval_acc)\n",
        "\n",
        "    print(f'Train Loss: {train_loss:.4f} | Train Acc: {train_acc:.4f}')\n",
        "    # print(f'Eval Loss: {eval_loss:.4f} | Eval Acc: {eval_acc:.4f}')\n",
        "    print(f'Eval Loss: {eval_loss:.4f}')\n",
        "    print('---------------------------------------')\n",
        "\n",
        "# 테스트 데이터로 모델 평가\n",
        "test_loss, test_acc = evaluate(model, test_loader, criterion)\n",
        "print(f'Test Loss: {test_loss:.4f} | Test Acc: {test_acc:.4f}')"
      ],
      "metadata": {
        "colab": {
          "base_uri": "https://localhost:8080/"
        },
        "id": "AT2Z_ooFHynO",
        "outputId": "4fe16707-8d5d-4b7a-e0c3-f1e1bb8ca967"
      },
      "execution_count": null,
      "outputs": [
        {
          "output_type": "stream",
          "name": "stdout",
          "text": [
            "Epoch 1/10\n",
            "Train Loss: 1.7835 | Train Acc: 0.2150\n",
            "Eval Loss: 2.9814\n",
            "---------------------------------------\n",
            "Epoch 2/10\n",
            "Train Loss: 1.7540 | Train Acc: 0.2051\n",
            "Eval Loss: 1.7671\n",
            "---------------------------------------\n",
            "Epoch 3/10\n",
            "Train Loss: 1.7310 | Train Acc: 0.2131\n",
            "Eval Loss: 1.7485\n",
            "---------------------------------------\n",
            "Epoch 4/10\n",
            "Train Loss: 1.7370 | Train Acc: 0.2032\n",
            "Eval Loss: 1.7263\n",
            "---------------------------------------\n",
            "Epoch 5/10\n",
            "Train Loss: 1.7359 | Train Acc: 0.2012\n",
            "Eval Loss: 1.7270\n",
            "---------------------------------------\n",
            "Epoch 6/10\n",
            "Train Loss: 1.7330 | Train Acc: 0.1946\n",
            "Eval Loss: 1.7427\n",
            "---------------------------------------\n",
            "Epoch 7/10\n",
            "Train Loss: 1.7299 | Train Acc: 0.2025\n",
            "Eval Loss: 1.7313\n",
            "---------------------------------------\n",
            "Epoch 8/10\n",
            "Train Loss: 1.7296 | Train Acc: 0.1992\n",
            "Eval Loss: 1.7479\n",
            "---------------------------------------\n",
            "Epoch 9/10\n",
            "Train Loss: 1.7263 | Train Acc: 0.2051\n",
            "Eval Loss: 1.7317\n",
            "---------------------------------------\n",
            "Epoch 10/10\n",
            "Train Loss: 1.7272 | Train Acc: 0.2058\n",
            "Eval Loss: 1.7322\n",
            "---------------------------------------\n",
            "Test Loss: 1.7302 | Test Acc: 0.1921\n"
          ]
        }
      ]
    },
    {
      "cell_type": "code",
      "source": [
        "# Train loss 그래프 출력\n",
        "plt.figure(figsize=(10, 5))\n",
        "plt.plot(range(1, num_epochs+1), train_losses, label='Train Loss')\n",
        "plt.plot"
      ],
      "metadata": {
        "colab": {
          "base_uri": "https://localhost:8080/",
          "height": 463
        },
        "id": "AxQ7ERWAHyvT",
        "outputId": "223abfef-ee04-46a5-996a-099479098bb8"
      },
      "execution_count": null,
      "outputs": [
        {
          "output_type": "execute_result",
          "data": {
            "text/plain": [
              "<function matplotlib.pyplot.plot(*args, scalex=True, scaley=True, data=None, **kwargs)>"
            ]
          },
          "metadata": {},
          "execution_count": 16
        },
        {
          "output_type": "display_data",
          "data": {
            "text/plain": [
              "<Figure size 1000x500 with 1 Axes>"
            ],
            "image/png": "[encoded data removed]"
          },
          "metadata": {}
        }
      ]
    },
    {
      "cell_type": "code",
      "source": [],
      "metadata": {
        "id": "iG6SZh1bHyyH"
      },
      "execution_count": null,
      "outputs": []
    },
    {
      "cell_type": "code",
      "source": [],
      "metadata": {
        "id": "n0BOB3E3Hy09"
      },
      "execution_count": null,
      "outputs": []
    }
  ]
}
